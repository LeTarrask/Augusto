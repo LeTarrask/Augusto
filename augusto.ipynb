{
 "cells": [
  {
   "cell_type": "code",
   "execution_count": 1,
   "metadata": {},
   "outputs": [],
   "source": [
    "from OpenInterface.api_calls import generate_response\n",
    "import json\n",
    "from Models.character import Character\n",
    "from Models.chapter import Chapter\n",
    "from Models.scene import Scene\n",
    "from Models.story import Story\n",
    "import Prompts\n",
    "\n",
    "story = Story()"
   ]
  },
  {
   "cell_type": "code",
   "execution_count": 2,
   "metadata": {},
   "outputs": [],
   "source": [
    "def export_book():\n",
    "    # Create a list to store all the scene texts\n",
    "    all_text_output = []\n",
    "    all_text_output.append(\"This is the beginning of the book.\")\n",
    "    all_text_output.append(\"Summary:\")\n",
    "    all_text_output.append(story.summary)\n",
    "    all_text_output.append(\"\\n\\n\")\n",
    "\n",
    "    all_text_output.append(\"Acts:\")\n",
    "    for act in story.acts:\n",
    "        all_text_output.append(act)\n",
    "        all_text_output.append(\"\\n\\n\")\n",
    "\n",
    "    all_text_output.append(\"Plotlines:\")\n",
    "    for plotline in story.plotlines:\n",
    "        all_text_output.append(plotline)\n",
    "        all_text_output.append(\"\\n\\n\")\n",
    "\n",
    "    all_text_output.append(\"Characters:\")        \n",
    "    for character in story.characters:\n",
    "        all_text_output.append(character.name)\n",
    "        all_text_output.append(\"\\n\")\n",
    "        all_text_output.append(str(character.__dict__))\n",
    "\n",
    "    for chapter in story.chapters:\n",
    "        all_text_output.append(f\"CHAPTER: {chapter.id}\\n\" + chapter.name)\n",
    "        all_text_output.append(chapter.description)\n",
    "        all_text_output.append(\"\\n\")\n",
    "\n",
    "        all_text_output.append(\"Goals:\")\n",
    "        all_text_output.append(chapter.goals)\n",
    "        all_text_output.append(\"\\n\")\n",
    "\n",
    "        all_text_output.append(f\"SCENES: {len(chapter.scenes)}\")\n",
    "        for scene in chapter.scenes:\n",
    "            all_text_output.append(f\"Scene {scene.id}: \" + scene.name)\n",
    "            all_text_output.append(\"Description:\")\n",
    "            all_text_output.append(scene.description)\n",
    "            all_text_output.append(\"Goals:\")\n",
    "            all_text_output.append(scene.goals)\n",
    "            all_text_output.append(f\"Act: {scene.act}\")\n",
    "            all_text_output.append(f\"Chapter: {scene.chapter}\")\n",
    "            all_text_output.append(f\"Plotpoint: {scene.plotpoint}\")    \n",
    "            all_text_output.append(f\"Text: {scene.final_text}\")\n",
    "\n",
    "        all_text_output.append(\"----------------------\")\n",
    "        all_text_output.append(\"\\n\")\n",
    "\n",
    "    # Write the scene texts to a text file\n",
    "    output_file = \"books/book.txt\"\n",
    "    with open(output_file, \"w\") as f:\n",
    "        for scene_text in all_text_output:\n",
    "            f.write(scene_text + \"\\n\")\n",
    "\n",
    "    print(f\"Scene texts written to {output_file}\")\n"
   ]
  },
  {
   "cell_type": "markdown",
   "metadata": {},
   "source": [
    "# 1- User writes a One-Paragraph Summary"
   ]
  },
  {
   "cell_type": "code",
   "execution_count": 3,
   "metadata": {},
   "outputs": [],
   "source": [
    "story.summary = \"In the blood-soaked realm of “Sword and Sinew,” where treachery festers like a poisoned chalice, Lady Seraphina, a rogue sorceress with a penchant for vengeance, embarks on a perilous quest. Her mission: to retrieve the Crown of Shadows, an artifact said to grant dominion over life and death. But standing in her way are rival warlords, a duplicitous court jester, and a band of undead knights who hunger for her soul. As the moon waxes and secrets unravel, Lady Seraphina dances on the edge of damnation, wielding her blade and dark magic in a deadly waltz toward destiny.\""
   ]
  },
  {
   "cell_type": "markdown",
   "metadata": {},
   "source": [
    "# 2- Character Summaries: Create brief character descriptions."
   ]
  },
  {
   "cell_type": "code",
   "execution_count": 4,
   "metadata": {},
   "outputs": [],
   "source": [
    "def create_character_objects(characterData):\n",
    "    \"\"\"\n",
    "    Converts a dictionary of character data into an array of Character objects.\n",
    "\n",
    "    Args:\n",
    "        characterData (dict): A dictionary containing character data.\n",
    "\n",
    "    Returns:\n",
    "        list: List of Character objects.\n",
    "    \"\"\"\n",
    "    characters = []\n",
    "    for char_data in characterData['characters']:\n",
    "        char_obj = Character()\n",
    "        char_obj.name = char_data.get('Name', '')\n",
    "        char_obj.role = char_data.get('Role', '')\n",
    "        char_obj.age = char_data.get('Age', '')\n",
    "        char_obj.occupation = char_data.get('Occupation', '')\n",
    "        char_obj.appearance = char_data.get('Appearance', '')\n",
    "        char_obj.personality_traits = char_data.get('Personality Traits', '')\n",
    "        char_obj.motivation = char_data.get('Motivation', '')\n",
    "        char_obj.backstory = char_data.get('Backstory', '')\n",
    "        characters.append(char_obj)\n",
    "    return characters"
   ]
  },
  {
   "cell_type": "code",
   "execution_count": 5,
   "metadata": {},
   "outputs": [
    {
     "ename": "AttributeError",
     "evalue": "module 'prompts' has no attribute 'createCharacterFrom'",
     "output_type": "error",
     "traceback": [
      "\u001b[0;31m---------------------------------------------------------------------------\u001b[0m",
      "\u001b[0;31mAttributeError\u001b[0m                            Traceback (most recent call last)",
      "Cell \u001b[0;32mIn[5], line 6\u001b[0m\n\u001b[1;32m      1\u001b[0m characters \u001b[38;5;241m=\u001b[39m []\n\u001b[1;32m      3\u001b[0m \u001b[38;5;66;03m## WE COULD HAVE CHARACTER ROLES HERE: ANTAGONISTS; PROTAGONISTS; ETC.\u001b[39;00m\n\u001b[1;32m      4\u001b[0m \u001b[38;5;66;03m## THIS COULD RUN 2 TIMES; SO WE HAVE EXTRA CHARACTERS.\u001b[39;00m\n\u001b[1;32m      5\u001b[0m \u001b[38;5;66;03m## TODO: fix the output of this prompt to make it error free when decoding\u001b[39;00m\n\u001b[0;32m----> 6\u001b[0m prompt \u001b[38;5;241m=\u001b[39m \u001b[43mprompts\u001b[49m\u001b[38;5;241;43m.\u001b[39;49m\u001b[43mcreateCharacterFrom\u001b[49m(story\u001b[38;5;241m.\u001b[39msummary)\n\u001b[1;32m      8\u001b[0m response \u001b[38;5;241m=\u001b[39m generate_response(prompt)\n\u001b[1;32m     10\u001b[0m charactersData \u001b[38;5;241m=\u001b[39m json\u001b[38;5;241m.\u001b[39mloads(response)\n",
      "\u001b[0;31mAttributeError\u001b[0m: module 'prompts' has no attribute 'createCharacterFrom'"
     ]
    }
   ],
   "source": [
    "characters = []\n",
    "\n",
    "## WE COULD HAVE CHARACTER ROLES HERE: ANTAGONISTS; PROTAGONISTS; ETC.\n",
    "## THIS COULD RUN 2 TIMES; SO WE HAVE EXTRA CHARACTERS.\n",
    "## TODO: fix the output of this prompt to make it error free when decoding\n",
    "prompt = Prompts.createCharacterFrom(story.summary)\n",
    "\n",
    "response = generate_response(prompt)\n",
    "\n",
    "charactersData = json.loads(response)\n",
    "decodedCharacters = create_character_objects(charactersData)\n",
    "characters += decodedCharacters\n",
    "\n",
    "# # We save the character ids in the story object as well\n",
    "for character in characters:\n",
    "    story.characters.append(character)"
   ]
  },
  {
   "cell_type": "markdown",
   "metadata": {},
   "source": [
    "# 3- Character Charts: Develop detailed character profiles."
   ]
  },
  {
   "cell_type": "code",
   "execution_count": 49,
   "metadata": {},
   "outputs": [
    {
     "ename": "KeyboardInterrupt",
     "evalue": "",
     "output_type": "error",
     "traceback": [
      "\u001b[0;31m---------------------------------------------------------------------------\u001b[0m",
      "\u001b[0;31mKeyboardInterrupt\u001b[0m                         Traceback (most recent call last)",
      "Cell \u001b[0;32mIn[49], line 40\u001b[0m\n\u001b[1;32m     38\u001b[0m \u001b[38;5;28;01mfor\u001b[39;00m character \u001b[38;5;129;01min\u001b[39;00m characters:\n\u001b[1;32m     39\u001b[0m     char \u001b[38;5;241m=\u001b[39m character\u001b[38;5;241m.\u001b[39mto_dict()\n\u001b[0;32m---> 40\u001b[0m     character\u001b[38;5;241m.\u001b[39mdetailedProfile \u001b[38;5;241m=\u001b[39m \u001b[43mget_character_profile\u001b[49m\u001b[43m(\u001b[49m\u001b[43mchar\u001b[49m\u001b[43m,\u001b[49m\u001b[43m \u001b[49m\u001b[43mstory\u001b[49m\u001b[38;5;241;43m.\u001b[39;49m\u001b[43msummary\u001b[49m\u001b[43m)\u001b[49m\n\u001b[1;32m     41\u001b[0m     character\u001b[38;5;241m.\u001b[39mkeyScenes \u001b[38;5;241m=\u001b[39m get_character_keyScenes(char, story\u001b[38;5;241m.\u001b[39msummary)\n",
      "Cell \u001b[0;32mIn[49], line 16\u001b[0m, in \u001b[0;36mget_character_profile\u001b[0;34m(character, summary)\u001b[0m\n\u001b[1;32m      2\u001b[0m \u001b[38;5;250m\u001b[39m\u001b[38;5;124;03m\"\"\"\u001b[39;00m\n\u001b[1;32m      3\u001b[0m \u001b[38;5;124;03mGenerates a detailed character profile for the given character.\u001b[39;00m\n\u001b[1;32m      4\u001b[0m \n\u001b[0;32m   (...)\u001b[0m\n\u001b[1;32m      9\u001b[0m \u001b[38;5;124;03m    character'detailedProfile'.\u001b[39;00m\n\u001b[1;32m     10\u001b[0m \u001b[38;5;124;03m\"\"\"\u001b[39;00m\n\u001b[1;32m     12\u001b[0m prompt \u001b[38;5;241m=\u001b[39m \u001b[38;5;124mf\u001b[39m\u001b[38;5;124m\"\"\"\u001b[39m\n\u001b[1;32m     13\u001b[0m \u001b[38;5;124m    Consider the story \u001b[39m\u001b[38;5;124m'\u001b[39m\u001b[38;5;132;01m{\u001b[39;00msummary\u001b[38;5;132;01m}\u001b[39;00m\u001b[38;5;124m'\u001b[39m\u001b[38;5;124m. I need you to write a detailed character profile for this character \u001b[39m\u001b[38;5;124m'\u001b[39m\u001b[38;5;132;01m{\u001b[39;00mcharacter\u001b[38;5;132;01m}\u001b[39;00m\u001b[38;5;124m'\u001b[39m\u001b[38;5;124m who will appear in it. \u001b[39m\n\u001b[1;32m     14\u001b[0m \u001b[38;5;124m\u001b[39m\u001b[38;5;124m\"\"\"\u001b[39m\n\u001b[0;32m---> 16\u001b[0m responseData \u001b[38;5;241m=\u001b[39m \u001b[43mgenerate_response\u001b[49m\u001b[43m(\u001b[49m\u001b[43mprompt\u001b[49m\u001b[43m)\u001b[49m\n\u001b[1;32m     17\u001b[0m \u001b[38;5;28;01mreturn\u001b[39;00m responseData\n",
      "File \u001b[0;32m~/Art Roubeaux/Python/Augusto/openInterface/api_calls.py:23\u001b[0m, in \u001b[0;36mgenerate_response\u001b[0;34m(prompt)\u001b[0m\n\u001b[1;32m     13\u001b[0m \u001b[38;5;250m\u001b[39m\u001b[38;5;124;03m\"\"\"\u001b[39;00m\n\u001b[1;32m     14\u001b[0m \u001b[38;5;124;03mGenerates a response from the OpenAI API based on the given prompt.\u001b[39;00m\n\u001b[1;32m     15\u001b[0m \n\u001b[0;32m   (...)\u001b[0m\n\u001b[1;32m     20\u001b[0m \u001b[38;5;124;03m    str: The API response.\u001b[39;00m\n\u001b[1;32m     21\u001b[0m \u001b[38;5;124;03m\"\"\"\u001b[39;00m\n\u001b[1;32m     22\u001b[0m \u001b[38;5;28;01mtry\u001b[39;00m:\n\u001b[0;32m---> 23\u001b[0m     response \u001b[38;5;241m=\u001b[39m \u001b[43mclient\u001b[49m\u001b[38;5;241;43m.\u001b[39;49m\u001b[43mchat\u001b[49m\u001b[38;5;241;43m.\u001b[39;49m\u001b[43mcompletions\u001b[49m\u001b[38;5;241;43m.\u001b[39;49m\u001b[43mcreate\u001b[49m\u001b[43m(\u001b[49m\n\u001b[1;32m     24\u001b[0m \u001b[43m        \u001b[49m\u001b[43mmodel\u001b[49m\u001b[38;5;241;43m=\u001b[39;49m\u001b[38;5;124;43m\"\u001b[39;49m\u001b[38;5;124;43mgpt-3.5-turbo\u001b[39;49m\u001b[38;5;124;43m\"\u001b[39;49m\u001b[43m,\u001b[49m\n\u001b[1;32m     25\u001b[0m \u001b[43m        \u001b[49m\u001b[43mmessages\u001b[49m\u001b[38;5;241;43m=\u001b[39;49m\u001b[43m[\u001b[49m\n\u001b[1;32m     26\u001b[0m \u001b[43m            \u001b[49m\u001b[43m{\u001b[49m\u001b[38;5;124;43m\"\u001b[39;49m\u001b[38;5;124;43mrole\u001b[39;49m\u001b[38;5;124;43m\"\u001b[39;49m\u001b[43m:\u001b[49m\u001b[43m \u001b[49m\u001b[38;5;124;43m\"\u001b[39;49m\u001b[38;5;124;43muser\u001b[39;49m\u001b[38;5;124;43m\"\u001b[39;49m\u001b[43m,\u001b[49m\u001b[43m \u001b[49m\u001b[38;5;124;43m\"\u001b[39;49m\u001b[38;5;124;43mcontent\u001b[39;49m\u001b[38;5;124;43m\"\u001b[39;49m\u001b[43m:\u001b[49m\u001b[43m \u001b[49m\u001b[43mprompt\u001b[49m\u001b[43m}\u001b[49m\u001b[43m,\u001b[49m\n\u001b[1;32m     27\u001b[0m \u001b[43m        \u001b[49m\u001b[43m]\u001b[49m\u001b[43m,\u001b[49m\n\u001b[1;32m     28\u001b[0m \u001b[43m    \u001b[49m\u001b[43m)\u001b[49m\n\u001b[1;32m     29\u001b[0m     \u001b[38;5;28;01mreturn\u001b[39;00m response\u001b[38;5;241m.\u001b[39mchoices[\u001b[38;5;241m0\u001b[39m]\u001b[38;5;241m.\u001b[39mmessage\u001b[38;5;241m.\u001b[39mcontent\n\u001b[1;32m     30\u001b[0m \u001b[38;5;28;01mexcept\u001b[39;00m \u001b[38;5;167;01mException\u001b[39;00m \u001b[38;5;28;01mas\u001b[39;00m e:\n",
      "File \u001b[0;32m~/Art Roubeaux/Python/Augusto/.venv/lib/python3.9/site-packages/openai/_utils/_utils.py:275\u001b[0m, in \u001b[0;36mrequired_args.<locals>.inner.<locals>.wrapper\u001b[0;34m(*args, **kwargs)\u001b[0m\n\u001b[1;32m    273\u001b[0m             msg \u001b[38;5;241m=\u001b[39m \u001b[38;5;124mf\u001b[39m\u001b[38;5;124m\"\u001b[39m\u001b[38;5;124mMissing required argument: \u001b[39m\u001b[38;5;132;01m{\u001b[39;00mquote(missing[\u001b[38;5;241m0\u001b[39m])\u001b[38;5;132;01m}\u001b[39;00m\u001b[38;5;124m\"\u001b[39m\n\u001b[1;32m    274\u001b[0m     \u001b[38;5;28;01mraise\u001b[39;00m \u001b[38;5;167;01mTypeError\u001b[39;00m(msg)\n\u001b[0;32m--> 275\u001b[0m \u001b[38;5;28;01mreturn\u001b[39;00m \u001b[43mfunc\u001b[49m\u001b[43m(\u001b[49m\u001b[38;5;241;43m*\u001b[39;49m\u001b[43margs\u001b[49m\u001b[43m,\u001b[49m\u001b[43m \u001b[49m\u001b[38;5;241;43m*\u001b[39;49m\u001b[38;5;241;43m*\u001b[39;49m\u001b[43mkwargs\u001b[49m\u001b[43m)\u001b[49m\n",
      "File \u001b[0;32m~/Art Roubeaux/Python/Augusto/.venv/lib/python3.9/site-packages/openai/resources/chat/completions.py:667\u001b[0m, in \u001b[0;36mCompletions.create\u001b[0;34m(self, messages, model, frequency_penalty, function_call, functions, logit_bias, logprobs, max_tokens, n, presence_penalty, response_format, seed, stop, stream, temperature, tool_choice, tools, top_logprobs, top_p, user, extra_headers, extra_query, extra_body, timeout)\u001b[0m\n\u001b[1;32m    615\u001b[0m \u001b[38;5;129m@required_args\u001b[39m([\u001b[38;5;124m\"\u001b[39m\u001b[38;5;124mmessages\u001b[39m\u001b[38;5;124m\"\u001b[39m, \u001b[38;5;124m\"\u001b[39m\u001b[38;5;124mmodel\u001b[39m\u001b[38;5;124m\"\u001b[39m], [\u001b[38;5;124m\"\u001b[39m\u001b[38;5;124mmessages\u001b[39m\u001b[38;5;124m\"\u001b[39m, \u001b[38;5;124m\"\u001b[39m\u001b[38;5;124mmodel\u001b[39m\u001b[38;5;124m\"\u001b[39m, \u001b[38;5;124m\"\u001b[39m\u001b[38;5;124mstream\u001b[39m\u001b[38;5;124m\"\u001b[39m])\n\u001b[1;32m    616\u001b[0m \u001b[38;5;28;01mdef\u001b[39;00m \u001b[38;5;21mcreate\u001b[39m(\n\u001b[1;32m    617\u001b[0m     \u001b[38;5;28mself\u001b[39m,\n\u001b[0;32m   (...)\u001b[0m\n\u001b[1;32m    665\u001b[0m     timeout: \u001b[38;5;28mfloat\u001b[39m \u001b[38;5;241m|\u001b[39m httpx\u001b[38;5;241m.\u001b[39mTimeout \u001b[38;5;241m|\u001b[39m \u001b[38;5;28;01mNone\u001b[39;00m \u001b[38;5;241m|\u001b[39m NotGiven \u001b[38;5;241m=\u001b[39m NOT_GIVEN,\n\u001b[1;32m    666\u001b[0m ) \u001b[38;5;241m-\u001b[39m\u001b[38;5;241m>\u001b[39m ChatCompletion \u001b[38;5;241m|\u001b[39m Stream[ChatCompletionChunk]:\n\u001b[0;32m--> 667\u001b[0m     \u001b[38;5;28;01mreturn\u001b[39;00m \u001b[38;5;28;43mself\u001b[39;49m\u001b[38;5;241;43m.\u001b[39;49m\u001b[43m_post\u001b[49m\u001b[43m(\u001b[49m\n\u001b[1;32m    668\u001b[0m \u001b[43m        \u001b[49m\u001b[38;5;124;43m\"\u001b[39;49m\u001b[38;5;124;43m/chat/completions\u001b[39;49m\u001b[38;5;124;43m\"\u001b[39;49m\u001b[43m,\u001b[49m\n\u001b[1;32m    669\u001b[0m \u001b[43m        \u001b[49m\u001b[43mbody\u001b[49m\u001b[38;5;241;43m=\u001b[39;49m\u001b[43mmaybe_transform\u001b[49m\u001b[43m(\u001b[49m\n\u001b[1;32m    670\u001b[0m \u001b[43m            \u001b[49m\u001b[43m{\u001b[49m\n\u001b[1;32m    671\u001b[0m \u001b[43m                \u001b[49m\u001b[38;5;124;43m\"\u001b[39;49m\u001b[38;5;124;43mmessages\u001b[39;49m\u001b[38;5;124;43m\"\u001b[39;49m\u001b[43m:\u001b[49m\u001b[43m \u001b[49m\u001b[43mmessages\u001b[49m\u001b[43m,\u001b[49m\n\u001b[1;32m    672\u001b[0m \u001b[43m                \u001b[49m\u001b[38;5;124;43m\"\u001b[39;49m\u001b[38;5;124;43mmodel\u001b[39;49m\u001b[38;5;124;43m\"\u001b[39;49m\u001b[43m:\u001b[49m\u001b[43m \u001b[49m\u001b[43mmodel\u001b[49m\u001b[43m,\u001b[49m\n\u001b[1;32m    673\u001b[0m \u001b[43m                \u001b[49m\u001b[38;5;124;43m\"\u001b[39;49m\u001b[38;5;124;43mfrequency_penalty\u001b[39;49m\u001b[38;5;124;43m\"\u001b[39;49m\u001b[43m:\u001b[49m\u001b[43m \u001b[49m\u001b[43mfrequency_penalty\u001b[49m\u001b[43m,\u001b[49m\n\u001b[1;32m    674\u001b[0m \u001b[43m                \u001b[49m\u001b[38;5;124;43m\"\u001b[39;49m\u001b[38;5;124;43mfunction_call\u001b[39;49m\u001b[38;5;124;43m\"\u001b[39;49m\u001b[43m:\u001b[49m\u001b[43m \u001b[49m\u001b[43mfunction_call\u001b[49m\u001b[43m,\u001b[49m\n\u001b[1;32m    675\u001b[0m \u001b[43m                \u001b[49m\u001b[38;5;124;43m\"\u001b[39;49m\u001b[38;5;124;43mfunctions\u001b[39;49m\u001b[38;5;124;43m\"\u001b[39;49m\u001b[43m:\u001b[49m\u001b[43m \u001b[49m\u001b[43mfunctions\u001b[49m\u001b[43m,\u001b[49m\n\u001b[1;32m    676\u001b[0m \u001b[43m                \u001b[49m\u001b[38;5;124;43m\"\u001b[39;49m\u001b[38;5;124;43mlogit_bias\u001b[39;49m\u001b[38;5;124;43m\"\u001b[39;49m\u001b[43m:\u001b[49m\u001b[43m \u001b[49m\u001b[43mlogit_bias\u001b[49m\u001b[43m,\u001b[49m\n\u001b[1;32m    677\u001b[0m \u001b[43m                \u001b[49m\u001b[38;5;124;43m\"\u001b[39;49m\u001b[38;5;124;43mlogprobs\u001b[39;49m\u001b[38;5;124;43m\"\u001b[39;49m\u001b[43m:\u001b[49m\u001b[43m \u001b[49m\u001b[43mlogprobs\u001b[49m\u001b[43m,\u001b[49m\n\u001b[1;32m    678\u001b[0m \u001b[43m                \u001b[49m\u001b[38;5;124;43m\"\u001b[39;49m\u001b[38;5;124;43mmax_tokens\u001b[39;49m\u001b[38;5;124;43m\"\u001b[39;49m\u001b[43m:\u001b[49m\u001b[43m \u001b[49m\u001b[43mmax_tokens\u001b[49m\u001b[43m,\u001b[49m\n\u001b[1;32m    679\u001b[0m \u001b[43m                \u001b[49m\u001b[38;5;124;43m\"\u001b[39;49m\u001b[38;5;124;43mn\u001b[39;49m\u001b[38;5;124;43m\"\u001b[39;49m\u001b[43m:\u001b[49m\u001b[43m \u001b[49m\u001b[43mn\u001b[49m\u001b[43m,\u001b[49m\n\u001b[1;32m    680\u001b[0m \u001b[43m                \u001b[49m\u001b[38;5;124;43m\"\u001b[39;49m\u001b[38;5;124;43mpresence_penalty\u001b[39;49m\u001b[38;5;124;43m\"\u001b[39;49m\u001b[43m:\u001b[49m\u001b[43m \u001b[49m\u001b[43mpresence_penalty\u001b[49m\u001b[43m,\u001b[49m\n\u001b[1;32m    681\u001b[0m \u001b[43m                \u001b[49m\u001b[38;5;124;43m\"\u001b[39;49m\u001b[38;5;124;43mresponse_format\u001b[39;49m\u001b[38;5;124;43m\"\u001b[39;49m\u001b[43m:\u001b[49m\u001b[43m \u001b[49m\u001b[43mresponse_format\u001b[49m\u001b[43m,\u001b[49m\n\u001b[1;32m    682\u001b[0m \u001b[43m                \u001b[49m\u001b[38;5;124;43m\"\u001b[39;49m\u001b[38;5;124;43mseed\u001b[39;49m\u001b[38;5;124;43m\"\u001b[39;49m\u001b[43m:\u001b[49m\u001b[43m \u001b[49m\u001b[43mseed\u001b[49m\u001b[43m,\u001b[49m\n\u001b[1;32m    683\u001b[0m \u001b[43m                \u001b[49m\u001b[38;5;124;43m\"\u001b[39;49m\u001b[38;5;124;43mstop\u001b[39;49m\u001b[38;5;124;43m\"\u001b[39;49m\u001b[43m:\u001b[49m\u001b[43m \u001b[49m\u001b[43mstop\u001b[49m\u001b[43m,\u001b[49m\n\u001b[1;32m    684\u001b[0m \u001b[43m                \u001b[49m\u001b[38;5;124;43m\"\u001b[39;49m\u001b[38;5;124;43mstream\u001b[39;49m\u001b[38;5;124;43m\"\u001b[39;49m\u001b[43m:\u001b[49m\u001b[43m \u001b[49m\u001b[43mstream\u001b[49m\u001b[43m,\u001b[49m\n\u001b[1;32m    685\u001b[0m \u001b[43m                \u001b[49m\u001b[38;5;124;43m\"\u001b[39;49m\u001b[38;5;124;43mtemperature\u001b[39;49m\u001b[38;5;124;43m\"\u001b[39;49m\u001b[43m:\u001b[49m\u001b[43m \u001b[49m\u001b[43mtemperature\u001b[49m\u001b[43m,\u001b[49m\n\u001b[1;32m    686\u001b[0m \u001b[43m                \u001b[49m\u001b[38;5;124;43m\"\u001b[39;49m\u001b[38;5;124;43mtool_choice\u001b[39;49m\u001b[38;5;124;43m\"\u001b[39;49m\u001b[43m:\u001b[49m\u001b[43m \u001b[49m\u001b[43mtool_choice\u001b[49m\u001b[43m,\u001b[49m\n\u001b[1;32m    687\u001b[0m \u001b[43m                \u001b[49m\u001b[38;5;124;43m\"\u001b[39;49m\u001b[38;5;124;43mtools\u001b[39;49m\u001b[38;5;124;43m\"\u001b[39;49m\u001b[43m:\u001b[49m\u001b[43m \u001b[49m\u001b[43mtools\u001b[49m\u001b[43m,\u001b[49m\n\u001b[1;32m    688\u001b[0m \u001b[43m                \u001b[49m\u001b[38;5;124;43m\"\u001b[39;49m\u001b[38;5;124;43mtop_logprobs\u001b[39;49m\u001b[38;5;124;43m\"\u001b[39;49m\u001b[43m:\u001b[49m\u001b[43m \u001b[49m\u001b[43mtop_logprobs\u001b[49m\u001b[43m,\u001b[49m\n\u001b[1;32m    689\u001b[0m \u001b[43m                \u001b[49m\u001b[38;5;124;43m\"\u001b[39;49m\u001b[38;5;124;43mtop_p\u001b[39;49m\u001b[38;5;124;43m\"\u001b[39;49m\u001b[43m:\u001b[49m\u001b[43m \u001b[49m\u001b[43mtop_p\u001b[49m\u001b[43m,\u001b[49m\n\u001b[1;32m    690\u001b[0m \u001b[43m                \u001b[49m\u001b[38;5;124;43m\"\u001b[39;49m\u001b[38;5;124;43muser\u001b[39;49m\u001b[38;5;124;43m\"\u001b[39;49m\u001b[43m:\u001b[49m\u001b[43m \u001b[49m\u001b[43muser\u001b[49m\u001b[43m,\u001b[49m\n\u001b[1;32m    691\u001b[0m \u001b[43m            \u001b[49m\u001b[43m}\u001b[49m\u001b[43m,\u001b[49m\n\u001b[1;32m    692\u001b[0m \u001b[43m            \u001b[49m\u001b[43mcompletion_create_params\u001b[49m\u001b[38;5;241;43m.\u001b[39;49m\u001b[43mCompletionCreateParams\u001b[49m\u001b[43m,\u001b[49m\n\u001b[1;32m    693\u001b[0m \u001b[43m        \u001b[49m\u001b[43m)\u001b[49m\u001b[43m,\u001b[49m\n\u001b[1;32m    694\u001b[0m \u001b[43m        \u001b[49m\u001b[43moptions\u001b[49m\u001b[38;5;241;43m=\u001b[39;49m\u001b[43mmake_request_options\u001b[49m\u001b[43m(\u001b[49m\n\u001b[1;32m    695\u001b[0m \u001b[43m            \u001b[49m\u001b[43mextra_headers\u001b[49m\u001b[38;5;241;43m=\u001b[39;49m\u001b[43mextra_headers\u001b[49m\u001b[43m,\u001b[49m\u001b[43m \u001b[49m\u001b[43mextra_query\u001b[49m\u001b[38;5;241;43m=\u001b[39;49m\u001b[43mextra_query\u001b[49m\u001b[43m,\u001b[49m\u001b[43m \u001b[49m\u001b[43mextra_body\u001b[49m\u001b[38;5;241;43m=\u001b[39;49m\u001b[43mextra_body\u001b[49m\u001b[43m,\u001b[49m\u001b[43m \u001b[49m\u001b[43mtimeout\u001b[49m\u001b[38;5;241;43m=\u001b[39;49m\u001b[43mtimeout\u001b[49m\n\u001b[1;32m    696\u001b[0m \u001b[43m        \u001b[49m\u001b[43m)\u001b[49m\u001b[43m,\u001b[49m\n\u001b[1;32m    697\u001b[0m \u001b[43m        \u001b[49m\u001b[43mcast_to\u001b[49m\u001b[38;5;241;43m=\u001b[39;49m\u001b[43mChatCompletion\u001b[49m\u001b[43m,\u001b[49m\n\u001b[1;32m    698\u001b[0m \u001b[43m        \u001b[49m\u001b[43mstream\u001b[49m\u001b[38;5;241;43m=\u001b[39;49m\u001b[43mstream\u001b[49m\u001b[43m \u001b[49m\u001b[38;5;129;43;01mor\u001b[39;49;00m\u001b[43m \u001b[49m\u001b[38;5;28;43;01mFalse\u001b[39;49;00m\u001b[43m,\u001b[49m\n\u001b[1;32m    699\u001b[0m \u001b[43m        \u001b[49m\u001b[43mstream_cls\u001b[49m\u001b[38;5;241;43m=\u001b[39;49m\u001b[43mStream\u001b[49m\u001b[43m[\u001b[49m\u001b[43mChatCompletionChunk\u001b[49m\u001b[43m]\u001b[49m\u001b[43m,\u001b[49m\n\u001b[1;32m    700\u001b[0m \u001b[43m    \u001b[49m\u001b[43m)\u001b[49m\n",
      "File \u001b[0;32m~/Art Roubeaux/Python/Augusto/.venv/lib/python3.9/site-packages/openai/_base_client.py:1208\u001b[0m, in \u001b[0;36mSyncAPIClient.post\u001b[0;34m(self, path, cast_to, body, options, files, stream, stream_cls)\u001b[0m\n\u001b[1;32m   1194\u001b[0m \u001b[38;5;28;01mdef\u001b[39;00m \u001b[38;5;21mpost\u001b[39m(\n\u001b[1;32m   1195\u001b[0m     \u001b[38;5;28mself\u001b[39m,\n\u001b[1;32m   1196\u001b[0m     path: \u001b[38;5;28mstr\u001b[39m,\n\u001b[0;32m   (...)\u001b[0m\n\u001b[1;32m   1203\u001b[0m     stream_cls: \u001b[38;5;28mtype\u001b[39m[_StreamT] \u001b[38;5;241m|\u001b[39m \u001b[38;5;28;01mNone\u001b[39;00m \u001b[38;5;241m=\u001b[39m \u001b[38;5;28;01mNone\u001b[39;00m,\n\u001b[1;32m   1204\u001b[0m ) \u001b[38;5;241m-\u001b[39m\u001b[38;5;241m>\u001b[39m ResponseT \u001b[38;5;241m|\u001b[39m _StreamT:\n\u001b[1;32m   1205\u001b[0m     opts \u001b[38;5;241m=\u001b[39m FinalRequestOptions\u001b[38;5;241m.\u001b[39mconstruct(\n\u001b[1;32m   1206\u001b[0m         method\u001b[38;5;241m=\u001b[39m\u001b[38;5;124m\"\u001b[39m\u001b[38;5;124mpost\u001b[39m\u001b[38;5;124m\"\u001b[39m, url\u001b[38;5;241m=\u001b[39mpath, json_data\u001b[38;5;241m=\u001b[39mbody, files\u001b[38;5;241m=\u001b[39mto_httpx_files(files), \u001b[38;5;241m*\u001b[39m\u001b[38;5;241m*\u001b[39moptions\n\u001b[1;32m   1207\u001b[0m     )\n\u001b[0;32m-> 1208\u001b[0m     \u001b[38;5;28;01mreturn\u001b[39;00m cast(ResponseT, \u001b[38;5;28;43mself\u001b[39;49m\u001b[38;5;241;43m.\u001b[39;49m\u001b[43mrequest\u001b[49m\u001b[43m(\u001b[49m\u001b[43mcast_to\u001b[49m\u001b[43m,\u001b[49m\u001b[43m \u001b[49m\u001b[43mopts\u001b[49m\u001b[43m,\u001b[49m\u001b[43m \u001b[49m\u001b[43mstream\u001b[49m\u001b[38;5;241;43m=\u001b[39;49m\u001b[43mstream\u001b[49m\u001b[43m,\u001b[49m\u001b[43m \u001b[49m\u001b[43mstream_cls\u001b[49m\u001b[38;5;241;43m=\u001b[39;49m\u001b[43mstream_cls\u001b[49m\u001b[43m)\u001b[49m)\n",
      "File \u001b[0;32m~/Art Roubeaux/Python/Augusto/.venv/lib/python3.9/site-packages/openai/_base_client.py:897\u001b[0m, in \u001b[0;36mSyncAPIClient.request\u001b[0;34m(self, cast_to, options, remaining_retries, stream, stream_cls)\u001b[0m\n\u001b[1;32m    888\u001b[0m \u001b[38;5;28;01mdef\u001b[39;00m \u001b[38;5;21mrequest\u001b[39m(\n\u001b[1;32m    889\u001b[0m     \u001b[38;5;28mself\u001b[39m,\n\u001b[1;32m    890\u001b[0m     cast_to: Type[ResponseT],\n\u001b[0;32m   (...)\u001b[0m\n\u001b[1;32m    895\u001b[0m     stream_cls: \u001b[38;5;28mtype\u001b[39m[_StreamT] \u001b[38;5;241m|\u001b[39m \u001b[38;5;28;01mNone\u001b[39;00m \u001b[38;5;241m=\u001b[39m \u001b[38;5;28;01mNone\u001b[39;00m,\n\u001b[1;32m    896\u001b[0m ) \u001b[38;5;241m-\u001b[39m\u001b[38;5;241m>\u001b[39m ResponseT \u001b[38;5;241m|\u001b[39m _StreamT:\n\u001b[0;32m--> 897\u001b[0m     \u001b[38;5;28;01mreturn\u001b[39;00m \u001b[38;5;28;43mself\u001b[39;49m\u001b[38;5;241;43m.\u001b[39;49m\u001b[43m_request\u001b[49m\u001b[43m(\u001b[49m\n\u001b[1;32m    898\u001b[0m \u001b[43m        \u001b[49m\u001b[43mcast_to\u001b[49m\u001b[38;5;241;43m=\u001b[39;49m\u001b[43mcast_to\u001b[49m\u001b[43m,\u001b[49m\n\u001b[1;32m    899\u001b[0m \u001b[43m        \u001b[49m\u001b[43moptions\u001b[49m\u001b[38;5;241;43m=\u001b[39;49m\u001b[43moptions\u001b[49m\u001b[43m,\u001b[49m\n\u001b[1;32m    900\u001b[0m \u001b[43m        \u001b[49m\u001b[43mstream\u001b[49m\u001b[38;5;241;43m=\u001b[39;49m\u001b[43mstream\u001b[49m\u001b[43m,\u001b[49m\n\u001b[1;32m    901\u001b[0m \u001b[43m        \u001b[49m\u001b[43mstream_cls\u001b[49m\u001b[38;5;241;43m=\u001b[39;49m\u001b[43mstream_cls\u001b[49m\u001b[43m,\u001b[49m\n\u001b[1;32m    902\u001b[0m \u001b[43m        \u001b[49m\u001b[43mremaining_retries\u001b[49m\u001b[38;5;241;43m=\u001b[39;49m\u001b[43mremaining_retries\u001b[49m\u001b[43m,\u001b[49m\n\u001b[1;32m    903\u001b[0m \u001b[43m    \u001b[49m\u001b[43m)\u001b[49m\n",
      "File \u001b[0;32m~/Art Roubeaux/Python/Augusto/.venv/lib/python3.9/site-packages/openai/_base_client.py:926\u001b[0m, in \u001b[0;36mSyncAPIClient._request\u001b[0;34m(self, cast_to, options, remaining_retries, stream, stream_cls)\u001b[0m\n\u001b[1;32m    923\u001b[0m     kwargs[\u001b[38;5;124m\"\u001b[39m\u001b[38;5;124mauth\u001b[39m\u001b[38;5;124m\"\u001b[39m] \u001b[38;5;241m=\u001b[39m \u001b[38;5;28mself\u001b[39m\u001b[38;5;241m.\u001b[39mcustom_auth\n\u001b[1;32m    925\u001b[0m \u001b[38;5;28;01mtry\u001b[39;00m:\n\u001b[0;32m--> 926\u001b[0m     response \u001b[38;5;241m=\u001b[39m \u001b[38;5;28;43mself\u001b[39;49m\u001b[38;5;241;43m.\u001b[39;49m\u001b[43m_client\u001b[49m\u001b[38;5;241;43m.\u001b[39;49m\u001b[43msend\u001b[49m\u001b[43m(\u001b[49m\n\u001b[1;32m    927\u001b[0m \u001b[43m        \u001b[49m\u001b[43mrequest\u001b[49m\u001b[43m,\u001b[49m\n\u001b[1;32m    928\u001b[0m \u001b[43m        \u001b[49m\u001b[43mstream\u001b[49m\u001b[38;5;241;43m=\u001b[39;49m\u001b[43mstream\u001b[49m\u001b[43m \u001b[49m\u001b[38;5;129;43;01mor\u001b[39;49;00m\u001b[43m \u001b[49m\u001b[38;5;28;43mself\u001b[39;49m\u001b[38;5;241;43m.\u001b[39;49m\u001b[43m_should_stream_response_body\u001b[49m\u001b[43m(\u001b[49m\u001b[43mrequest\u001b[49m\u001b[38;5;241;43m=\u001b[39;49m\u001b[43mrequest\u001b[49m\u001b[43m)\u001b[49m\u001b[43m,\u001b[49m\n\u001b[1;32m    929\u001b[0m \u001b[43m        \u001b[49m\u001b[38;5;241;43m*\u001b[39;49m\u001b[38;5;241;43m*\u001b[39;49m\u001b[43mkwargs\u001b[49m\u001b[43m,\u001b[49m\n\u001b[1;32m    930\u001b[0m \u001b[43m    \u001b[49m\u001b[43m)\u001b[49m\n\u001b[1;32m    931\u001b[0m \u001b[38;5;28;01mexcept\u001b[39;00m httpx\u001b[38;5;241m.\u001b[39mTimeoutException \u001b[38;5;28;01mas\u001b[39;00m err:\n\u001b[1;32m    932\u001b[0m     log\u001b[38;5;241m.\u001b[39mdebug(\u001b[38;5;124m\"\u001b[39m\u001b[38;5;124mEncountered httpx.TimeoutException\u001b[39m\u001b[38;5;124m\"\u001b[39m, exc_info\u001b[38;5;241m=\u001b[39m\u001b[38;5;28;01mTrue\u001b[39;00m)\n",
      "File \u001b[0;32m~/Art Roubeaux/Python/Augusto/.venv/lib/python3.9/site-packages/httpx/_client.py:914\u001b[0m, in \u001b[0;36mClient.send\u001b[0;34m(self, request, stream, auth, follow_redirects)\u001b[0m\n\u001b[1;32m    906\u001b[0m follow_redirects \u001b[38;5;241m=\u001b[39m (\n\u001b[1;32m    907\u001b[0m     \u001b[38;5;28mself\u001b[39m\u001b[38;5;241m.\u001b[39mfollow_redirects\n\u001b[1;32m    908\u001b[0m     \u001b[38;5;28;01mif\u001b[39;00m \u001b[38;5;28misinstance\u001b[39m(follow_redirects, UseClientDefault)\n\u001b[1;32m    909\u001b[0m     \u001b[38;5;28;01melse\u001b[39;00m follow_redirects\n\u001b[1;32m    910\u001b[0m )\n\u001b[1;32m    912\u001b[0m auth \u001b[38;5;241m=\u001b[39m \u001b[38;5;28mself\u001b[39m\u001b[38;5;241m.\u001b[39m_build_request_auth(request, auth)\n\u001b[0;32m--> 914\u001b[0m response \u001b[38;5;241m=\u001b[39m \u001b[38;5;28;43mself\u001b[39;49m\u001b[38;5;241;43m.\u001b[39;49m\u001b[43m_send_handling_auth\u001b[49m\u001b[43m(\u001b[49m\n\u001b[1;32m    915\u001b[0m \u001b[43m    \u001b[49m\u001b[43mrequest\u001b[49m\u001b[43m,\u001b[49m\n\u001b[1;32m    916\u001b[0m \u001b[43m    \u001b[49m\u001b[43mauth\u001b[49m\u001b[38;5;241;43m=\u001b[39;49m\u001b[43mauth\u001b[49m\u001b[43m,\u001b[49m\n\u001b[1;32m    917\u001b[0m \u001b[43m    \u001b[49m\u001b[43mfollow_redirects\u001b[49m\u001b[38;5;241;43m=\u001b[39;49m\u001b[43mfollow_redirects\u001b[49m\u001b[43m,\u001b[49m\n\u001b[1;32m    918\u001b[0m \u001b[43m    \u001b[49m\u001b[43mhistory\u001b[49m\u001b[38;5;241;43m=\u001b[39;49m\u001b[43m[\u001b[49m\u001b[43m]\u001b[49m\u001b[43m,\u001b[49m\n\u001b[1;32m    919\u001b[0m \u001b[43m\u001b[49m\u001b[43m)\u001b[49m\n\u001b[1;32m    920\u001b[0m \u001b[38;5;28;01mtry\u001b[39;00m:\n\u001b[1;32m    921\u001b[0m     \u001b[38;5;28;01mif\u001b[39;00m \u001b[38;5;129;01mnot\u001b[39;00m stream:\n",
      "File \u001b[0;32m~/Art Roubeaux/Python/Augusto/.venv/lib/python3.9/site-packages/httpx/_client.py:942\u001b[0m, in \u001b[0;36mClient._send_handling_auth\u001b[0;34m(self, request, auth, follow_redirects, history)\u001b[0m\n\u001b[1;32m    939\u001b[0m request \u001b[38;5;241m=\u001b[39m \u001b[38;5;28mnext\u001b[39m(auth_flow)\n\u001b[1;32m    941\u001b[0m \u001b[38;5;28;01mwhile\u001b[39;00m \u001b[38;5;28;01mTrue\u001b[39;00m:\n\u001b[0;32m--> 942\u001b[0m     response \u001b[38;5;241m=\u001b[39m \u001b[38;5;28;43mself\u001b[39;49m\u001b[38;5;241;43m.\u001b[39;49m\u001b[43m_send_handling_redirects\u001b[49m\u001b[43m(\u001b[49m\n\u001b[1;32m    943\u001b[0m \u001b[43m        \u001b[49m\u001b[43mrequest\u001b[49m\u001b[43m,\u001b[49m\n\u001b[1;32m    944\u001b[0m \u001b[43m        \u001b[49m\u001b[43mfollow_redirects\u001b[49m\u001b[38;5;241;43m=\u001b[39;49m\u001b[43mfollow_redirects\u001b[49m\u001b[43m,\u001b[49m\n\u001b[1;32m    945\u001b[0m \u001b[43m        \u001b[49m\u001b[43mhistory\u001b[49m\u001b[38;5;241;43m=\u001b[39;49m\u001b[43mhistory\u001b[49m\u001b[43m,\u001b[49m\n\u001b[1;32m    946\u001b[0m \u001b[43m    \u001b[49m\u001b[43m)\u001b[49m\n\u001b[1;32m    947\u001b[0m     \u001b[38;5;28;01mtry\u001b[39;00m:\n\u001b[1;32m    948\u001b[0m         \u001b[38;5;28;01mtry\u001b[39;00m:\n",
      "File \u001b[0;32m~/Art Roubeaux/Python/Augusto/.venv/lib/python3.9/site-packages/httpx/_client.py:979\u001b[0m, in \u001b[0;36mClient._send_handling_redirects\u001b[0;34m(self, request, follow_redirects, history)\u001b[0m\n\u001b[1;32m    976\u001b[0m \u001b[38;5;28;01mfor\u001b[39;00m hook \u001b[38;5;129;01min\u001b[39;00m \u001b[38;5;28mself\u001b[39m\u001b[38;5;241m.\u001b[39m_event_hooks[\u001b[38;5;124m\"\u001b[39m\u001b[38;5;124mrequest\u001b[39m\u001b[38;5;124m\"\u001b[39m]:\n\u001b[1;32m    977\u001b[0m     hook(request)\n\u001b[0;32m--> 979\u001b[0m response \u001b[38;5;241m=\u001b[39m \u001b[38;5;28;43mself\u001b[39;49m\u001b[38;5;241;43m.\u001b[39;49m\u001b[43m_send_single_request\u001b[49m\u001b[43m(\u001b[49m\u001b[43mrequest\u001b[49m\u001b[43m)\u001b[49m\n\u001b[1;32m    980\u001b[0m \u001b[38;5;28;01mtry\u001b[39;00m:\n\u001b[1;32m    981\u001b[0m     \u001b[38;5;28;01mfor\u001b[39;00m hook \u001b[38;5;129;01min\u001b[39;00m \u001b[38;5;28mself\u001b[39m\u001b[38;5;241m.\u001b[39m_event_hooks[\u001b[38;5;124m\"\u001b[39m\u001b[38;5;124mresponse\u001b[39m\u001b[38;5;124m\"\u001b[39m]:\n",
      "File \u001b[0;32m~/Art Roubeaux/Python/Augusto/.venv/lib/python3.9/site-packages/httpx/_client.py:1015\u001b[0m, in \u001b[0;36mClient._send_single_request\u001b[0;34m(self, request)\u001b[0m\n\u001b[1;32m   1010\u001b[0m     \u001b[38;5;28;01mraise\u001b[39;00m \u001b[38;5;167;01mRuntimeError\u001b[39;00m(\n\u001b[1;32m   1011\u001b[0m         \u001b[38;5;124m\"\u001b[39m\u001b[38;5;124mAttempted to send an async request with a sync Client instance.\u001b[39m\u001b[38;5;124m\"\u001b[39m\n\u001b[1;32m   1012\u001b[0m     )\n\u001b[1;32m   1014\u001b[0m \u001b[38;5;28;01mwith\u001b[39;00m request_context(request\u001b[38;5;241m=\u001b[39mrequest):\n\u001b[0;32m-> 1015\u001b[0m     response \u001b[38;5;241m=\u001b[39m \u001b[43mtransport\u001b[49m\u001b[38;5;241;43m.\u001b[39;49m\u001b[43mhandle_request\u001b[49m\u001b[43m(\u001b[49m\u001b[43mrequest\u001b[49m\u001b[43m)\u001b[49m\n\u001b[1;32m   1017\u001b[0m \u001b[38;5;28;01massert\u001b[39;00m \u001b[38;5;28misinstance\u001b[39m(response\u001b[38;5;241m.\u001b[39mstream, SyncByteStream)\n\u001b[1;32m   1019\u001b[0m response\u001b[38;5;241m.\u001b[39mrequest \u001b[38;5;241m=\u001b[39m request\n",
      "File \u001b[0;32m~/Art Roubeaux/Python/Augusto/.venv/lib/python3.9/site-packages/httpx/_transports/default.py:233\u001b[0m, in \u001b[0;36mHTTPTransport.handle_request\u001b[0;34m(self, request)\u001b[0m\n\u001b[1;32m    220\u001b[0m req \u001b[38;5;241m=\u001b[39m httpcore\u001b[38;5;241m.\u001b[39mRequest(\n\u001b[1;32m    221\u001b[0m     method\u001b[38;5;241m=\u001b[39mrequest\u001b[38;5;241m.\u001b[39mmethod,\n\u001b[1;32m    222\u001b[0m     url\u001b[38;5;241m=\u001b[39mhttpcore\u001b[38;5;241m.\u001b[39mURL(\n\u001b[0;32m   (...)\u001b[0m\n\u001b[1;32m    230\u001b[0m     extensions\u001b[38;5;241m=\u001b[39mrequest\u001b[38;5;241m.\u001b[39mextensions,\n\u001b[1;32m    231\u001b[0m )\n\u001b[1;32m    232\u001b[0m \u001b[38;5;28;01mwith\u001b[39;00m map_httpcore_exceptions():\n\u001b[0;32m--> 233\u001b[0m     resp \u001b[38;5;241m=\u001b[39m \u001b[38;5;28;43mself\u001b[39;49m\u001b[38;5;241;43m.\u001b[39;49m\u001b[43m_pool\u001b[49m\u001b[38;5;241;43m.\u001b[39;49m\u001b[43mhandle_request\u001b[49m\u001b[43m(\u001b[49m\u001b[43mreq\u001b[49m\u001b[43m)\u001b[49m\n\u001b[1;32m    235\u001b[0m \u001b[38;5;28;01massert\u001b[39;00m \u001b[38;5;28misinstance\u001b[39m(resp\u001b[38;5;241m.\u001b[39mstream, typing\u001b[38;5;241m.\u001b[39mIterable)\n\u001b[1;32m    237\u001b[0m \u001b[38;5;28;01mreturn\u001b[39;00m Response(\n\u001b[1;32m    238\u001b[0m     status_code\u001b[38;5;241m=\u001b[39mresp\u001b[38;5;241m.\u001b[39mstatus,\n\u001b[1;32m    239\u001b[0m     headers\u001b[38;5;241m=\u001b[39mresp\u001b[38;5;241m.\u001b[39mheaders,\n\u001b[1;32m    240\u001b[0m     stream\u001b[38;5;241m=\u001b[39mResponseStream(resp\u001b[38;5;241m.\u001b[39mstream),\n\u001b[1;32m    241\u001b[0m     extensions\u001b[38;5;241m=\u001b[39mresp\u001b[38;5;241m.\u001b[39mextensions,\n\u001b[1;32m    242\u001b[0m )\n",
      "File \u001b[0;32m~/Art Roubeaux/Python/Augusto/.venv/lib/python3.9/site-packages/httpcore/_sync/connection_pool.py:216\u001b[0m, in \u001b[0;36mConnectionPool.handle_request\u001b[0;34m(self, request)\u001b[0m\n\u001b[1;32m    213\u001b[0m         closing \u001b[38;5;241m=\u001b[39m \u001b[38;5;28mself\u001b[39m\u001b[38;5;241m.\u001b[39m_assign_requests_to_connections()\n\u001b[1;32m    215\u001b[0m     \u001b[38;5;28mself\u001b[39m\u001b[38;5;241m.\u001b[39m_close_connections(closing)\n\u001b[0;32m--> 216\u001b[0m     \u001b[38;5;28;01mraise\u001b[39;00m exc \u001b[38;5;28;01mfrom\u001b[39;00m \u001b[38;5;28;01mNone\u001b[39;00m\n\u001b[1;32m    218\u001b[0m \u001b[38;5;66;03m# Return the response. Note that in this case we still have to manage\u001b[39;00m\n\u001b[1;32m    219\u001b[0m \u001b[38;5;66;03m# the point at which the response is closed.\u001b[39;00m\n\u001b[1;32m    220\u001b[0m \u001b[38;5;28;01massert\u001b[39;00m \u001b[38;5;28misinstance\u001b[39m(response\u001b[38;5;241m.\u001b[39mstream, Iterable)\n",
      "File \u001b[0;32m~/Art Roubeaux/Python/Augusto/.venv/lib/python3.9/site-packages/httpcore/_sync/connection_pool.py:196\u001b[0m, in \u001b[0;36mConnectionPool.handle_request\u001b[0;34m(self, request)\u001b[0m\n\u001b[1;32m    192\u001b[0m connection \u001b[38;5;241m=\u001b[39m pool_request\u001b[38;5;241m.\u001b[39mwait_for_connection(timeout\u001b[38;5;241m=\u001b[39mtimeout)\n\u001b[1;32m    194\u001b[0m \u001b[38;5;28;01mtry\u001b[39;00m:\n\u001b[1;32m    195\u001b[0m     \u001b[38;5;66;03m# Send the request on the assigned connection.\u001b[39;00m\n\u001b[0;32m--> 196\u001b[0m     response \u001b[38;5;241m=\u001b[39m \u001b[43mconnection\u001b[49m\u001b[38;5;241;43m.\u001b[39;49m\u001b[43mhandle_request\u001b[49m\u001b[43m(\u001b[49m\n\u001b[1;32m    197\u001b[0m \u001b[43m        \u001b[49m\u001b[43mpool_request\u001b[49m\u001b[38;5;241;43m.\u001b[39;49m\u001b[43mrequest\u001b[49m\n\u001b[1;32m    198\u001b[0m \u001b[43m    \u001b[49m\u001b[43m)\u001b[49m\n\u001b[1;32m    199\u001b[0m \u001b[38;5;28;01mexcept\u001b[39;00m ConnectionNotAvailable:\n\u001b[1;32m    200\u001b[0m     \u001b[38;5;66;03m# In some cases a connection may initially be available to\u001b[39;00m\n\u001b[1;32m    201\u001b[0m     \u001b[38;5;66;03m# handle a request, but then become unavailable.\u001b[39;00m\n\u001b[1;32m    202\u001b[0m     \u001b[38;5;66;03m#\u001b[39;00m\n\u001b[1;32m    203\u001b[0m     \u001b[38;5;66;03m# In this case we clear the connection and try again.\u001b[39;00m\n\u001b[1;32m    204\u001b[0m     pool_request\u001b[38;5;241m.\u001b[39mclear_connection()\n",
      "File \u001b[0;32m~/Art Roubeaux/Python/Augusto/.venv/lib/python3.9/site-packages/httpcore/_sync/connection.py:101\u001b[0m, in \u001b[0;36mHTTPConnection.handle_request\u001b[0;34m(self, request)\u001b[0m\n\u001b[1;32m     98\u001b[0m     \u001b[38;5;28mself\u001b[39m\u001b[38;5;241m.\u001b[39m_connect_failed \u001b[38;5;241m=\u001b[39m \u001b[38;5;28;01mTrue\u001b[39;00m\n\u001b[1;32m     99\u001b[0m     \u001b[38;5;28;01mraise\u001b[39;00m exc\n\u001b[0;32m--> 101\u001b[0m \u001b[38;5;28;01mreturn\u001b[39;00m \u001b[38;5;28;43mself\u001b[39;49m\u001b[38;5;241;43m.\u001b[39;49m\u001b[43m_connection\u001b[49m\u001b[38;5;241;43m.\u001b[39;49m\u001b[43mhandle_request\u001b[49m\u001b[43m(\u001b[49m\u001b[43mrequest\u001b[49m\u001b[43m)\u001b[49m\n",
      "File \u001b[0;32m~/Art Roubeaux/Python/Augusto/.venv/lib/python3.9/site-packages/httpcore/_sync/http11.py:143\u001b[0m, in \u001b[0;36mHTTP11Connection.handle_request\u001b[0;34m(self, request)\u001b[0m\n\u001b[1;32m    141\u001b[0m     \u001b[38;5;28;01mwith\u001b[39;00m Trace(\u001b[38;5;124m\"\u001b[39m\u001b[38;5;124mresponse_closed\u001b[39m\u001b[38;5;124m\"\u001b[39m, logger, request) \u001b[38;5;28;01mas\u001b[39;00m trace:\n\u001b[1;32m    142\u001b[0m         \u001b[38;5;28mself\u001b[39m\u001b[38;5;241m.\u001b[39m_response_closed()\n\u001b[0;32m--> 143\u001b[0m \u001b[38;5;28;01mraise\u001b[39;00m exc\n",
      "File \u001b[0;32m~/Art Roubeaux/Python/Augusto/.venv/lib/python3.9/site-packages/httpcore/_sync/http11.py:113\u001b[0m, in \u001b[0;36mHTTP11Connection.handle_request\u001b[0;34m(self, request)\u001b[0m\n\u001b[1;32m    102\u001b[0m     \u001b[38;5;28;01mpass\u001b[39;00m\n\u001b[1;32m    104\u001b[0m \u001b[38;5;28;01mwith\u001b[39;00m Trace(\n\u001b[1;32m    105\u001b[0m     \u001b[38;5;124m\"\u001b[39m\u001b[38;5;124mreceive_response_headers\u001b[39m\u001b[38;5;124m\"\u001b[39m, logger, request, kwargs\n\u001b[1;32m    106\u001b[0m ) \u001b[38;5;28;01mas\u001b[39;00m trace:\n\u001b[1;32m    107\u001b[0m     (\n\u001b[1;32m    108\u001b[0m         http_version,\n\u001b[1;32m    109\u001b[0m         status,\n\u001b[1;32m    110\u001b[0m         reason_phrase,\n\u001b[1;32m    111\u001b[0m         headers,\n\u001b[1;32m    112\u001b[0m         trailing_data,\n\u001b[0;32m--> 113\u001b[0m     ) \u001b[38;5;241m=\u001b[39m \u001b[38;5;28;43mself\u001b[39;49m\u001b[38;5;241;43m.\u001b[39;49m\u001b[43m_receive_response_headers\u001b[49m\u001b[43m(\u001b[49m\u001b[38;5;241;43m*\u001b[39;49m\u001b[38;5;241;43m*\u001b[39;49m\u001b[43mkwargs\u001b[49m\u001b[43m)\u001b[49m\n\u001b[1;32m    114\u001b[0m     trace\u001b[38;5;241m.\u001b[39mreturn_value \u001b[38;5;241m=\u001b[39m (\n\u001b[1;32m    115\u001b[0m         http_version,\n\u001b[1;32m    116\u001b[0m         status,\n\u001b[1;32m    117\u001b[0m         reason_phrase,\n\u001b[1;32m    118\u001b[0m         headers,\n\u001b[1;32m    119\u001b[0m     )\n\u001b[1;32m    121\u001b[0m network_stream \u001b[38;5;241m=\u001b[39m \u001b[38;5;28mself\u001b[39m\u001b[38;5;241m.\u001b[39m_network_stream\n",
      "File \u001b[0;32m~/Art Roubeaux/Python/Augusto/.venv/lib/python3.9/site-packages/httpcore/_sync/http11.py:186\u001b[0m, in \u001b[0;36mHTTP11Connection._receive_response_headers\u001b[0;34m(self, request)\u001b[0m\n\u001b[1;32m    183\u001b[0m timeout \u001b[38;5;241m=\u001b[39m timeouts\u001b[38;5;241m.\u001b[39mget(\u001b[38;5;124m\"\u001b[39m\u001b[38;5;124mread\u001b[39m\u001b[38;5;124m\"\u001b[39m, \u001b[38;5;28;01mNone\u001b[39;00m)\n\u001b[1;32m    185\u001b[0m \u001b[38;5;28;01mwhile\u001b[39;00m \u001b[38;5;28;01mTrue\u001b[39;00m:\n\u001b[0;32m--> 186\u001b[0m     event \u001b[38;5;241m=\u001b[39m \u001b[38;5;28;43mself\u001b[39;49m\u001b[38;5;241;43m.\u001b[39;49m\u001b[43m_receive_event\u001b[49m\u001b[43m(\u001b[49m\u001b[43mtimeout\u001b[49m\u001b[38;5;241;43m=\u001b[39;49m\u001b[43mtimeout\u001b[49m\u001b[43m)\u001b[49m\n\u001b[1;32m    187\u001b[0m     \u001b[38;5;28;01mif\u001b[39;00m \u001b[38;5;28misinstance\u001b[39m(event, h11\u001b[38;5;241m.\u001b[39mResponse):\n\u001b[1;32m    188\u001b[0m         \u001b[38;5;28;01mbreak\u001b[39;00m\n",
      "File \u001b[0;32m~/Art Roubeaux/Python/Augusto/.venv/lib/python3.9/site-packages/httpcore/_sync/http11.py:224\u001b[0m, in \u001b[0;36mHTTP11Connection._receive_event\u001b[0;34m(self, timeout)\u001b[0m\n\u001b[1;32m    221\u001b[0m     event \u001b[38;5;241m=\u001b[39m \u001b[38;5;28mself\u001b[39m\u001b[38;5;241m.\u001b[39m_h11_state\u001b[38;5;241m.\u001b[39mnext_event()\n\u001b[1;32m    223\u001b[0m \u001b[38;5;28;01mif\u001b[39;00m event \u001b[38;5;129;01mis\u001b[39;00m h11\u001b[38;5;241m.\u001b[39mNEED_DATA:\n\u001b[0;32m--> 224\u001b[0m     data \u001b[38;5;241m=\u001b[39m \u001b[38;5;28;43mself\u001b[39;49m\u001b[38;5;241;43m.\u001b[39;49m\u001b[43m_network_stream\u001b[49m\u001b[38;5;241;43m.\u001b[39;49m\u001b[43mread\u001b[49m\u001b[43m(\u001b[49m\n\u001b[1;32m    225\u001b[0m \u001b[43m        \u001b[49m\u001b[38;5;28;43mself\u001b[39;49m\u001b[38;5;241;43m.\u001b[39;49m\u001b[43mREAD_NUM_BYTES\u001b[49m\u001b[43m,\u001b[49m\u001b[43m \u001b[49m\u001b[43mtimeout\u001b[49m\u001b[38;5;241;43m=\u001b[39;49m\u001b[43mtimeout\u001b[49m\n\u001b[1;32m    226\u001b[0m \u001b[43m    \u001b[49m\u001b[43m)\u001b[49m\n\u001b[1;32m    228\u001b[0m     \u001b[38;5;66;03m# If we feed this case through h11 we'll raise an exception like:\u001b[39;00m\n\u001b[1;32m    229\u001b[0m     \u001b[38;5;66;03m#\u001b[39;00m\n\u001b[1;32m    230\u001b[0m     \u001b[38;5;66;03m#     httpcore.RemoteProtocolError: can't handle event type\u001b[39;00m\n\u001b[0;32m   (...)\u001b[0m\n\u001b[1;32m    234\u001b[0m     \u001b[38;5;66;03m# perspective. Instead we handle this case distinctly and treat\u001b[39;00m\n\u001b[1;32m    235\u001b[0m     \u001b[38;5;66;03m# it as a ConnectError.\u001b[39;00m\n\u001b[1;32m    236\u001b[0m     \u001b[38;5;28;01mif\u001b[39;00m data \u001b[38;5;241m==\u001b[39m \u001b[38;5;124mb\u001b[39m\u001b[38;5;124m\"\u001b[39m\u001b[38;5;124m\"\u001b[39m \u001b[38;5;129;01mand\u001b[39;00m \u001b[38;5;28mself\u001b[39m\u001b[38;5;241m.\u001b[39m_h11_state\u001b[38;5;241m.\u001b[39mtheir_state \u001b[38;5;241m==\u001b[39m h11\u001b[38;5;241m.\u001b[39mSEND_RESPONSE:\n",
      "File \u001b[0;32m~/Art Roubeaux/Python/Augusto/.venv/lib/python3.9/site-packages/httpcore/_backends/sync.py:126\u001b[0m, in \u001b[0;36mSyncStream.read\u001b[0;34m(self, max_bytes, timeout)\u001b[0m\n\u001b[1;32m    124\u001b[0m \u001b[38;5;28;01mwith\u001b[39;00m map_exceptions(exc_map):\n\u001b[1;32m    125\u001b[0m     \u001b[38;5;28mself\u001b[39m\u001b[38;5;241m.\u001b[39m_sock\u001b[38;5;241m.\u001b[39msettimeout(timeout)\n\u001b[0;32m--> 126\u001b[0m     \u001b[38;5;28;01mreturn\u001b[39;00m \u001b[38;5;28;43mself\u001b[39;49m\u001b[38;5;241;43m.\u001b[39;49m\u001b[43m_sock\u001b[49m\u001b[38;5;241;43m.\u001b[39;49m\u001b[43mrecv\u001b[49m\u001b[43m(\u001b[49m\u001b[43mmax_bytes\u001b[49m\u001b[43m)\u001b[49m\n",
      "File \u001b[0;32m/Applications/Xcode.app/Contents/Developer/Library/Frameworks/Python3.framework/Versions/3.9/lib/python3.9/ssl.py:1226\u001b[0m, in \u001b[0;36mSSLSocket.recv\u001b[0;34m(self, buflen, flags)\u001b[0m\n\u001b[1;32m   1222\u001b[0m     \u001b[38;5;28;01mif\u001b[39;00m flags \u001b[38;5;241m!=\u001b[39m \u001b[38;5;241m0\u001b[39m:\n\u001b[1;32m   1223\u001b[0m         \u001b[38;5;28;01mraise\u001b[39;00m \u001b[38;5;167;01mValueError\u001b[39;00m(\n\u001b[1;32m   1224\u001b[0m             \u001b[38;5;124m\"\u001b[39m\u001b[38;5;124mnon-zero flags not allowed in calls to recv() on \u001b[39m\u001b[38;5;132;01m%s\u001b[39;00m\u001b[38;5;124m\"\u001b[39m \u001b[38;5;241m%\u001b[39m\n\u001b[1;32m   1225\u001b[0m             \u001b[38;5;28mself\u001b[39m\u001b[38;5;241m.\u001b[39m\u001b[38;5;18m__class__\u001b[39m)\n\u001b[0;32m-> 1226\u001b[0m     \u001b[38;5;28;01mreturn\u001b[39;00m \u001b[38;5;28;43mself\u001b[39;49m\u001b[38;5;241;43m.\u001b[39;49m\u001b[43mread\u001b[49m\u001b[43m(\u001b[49m\u001b[43mbuflen\u001b[49m\u001b[43m)\u001b[49m\n\u001b[1;32m   1227\u001b[0m \u001b[38;5;28;01melse\u001b[39;00m:\n\u001b[1;32m   1228\u001b[0m     \u001b[38;5;28;01mreturn\u001b[39;00m \u001b[38;5;28msuper\u001b[39m()\u001b[38;5;241m.\u001b[39mrecv(buflen, flags)\n",
      "File \u001b[0;32m/Applications/Xcode.app/Contents/Developer/Library/Frameworks/Python3.framework/Versions/3.9/lib/python3.9/ssl.py:1101\u001b[0m, in \u001b[0;36mSSLSocket.read\u001b[0;34m(self, len, buffer)\u001b[0m\n\u001b[1;32m   1099\u001b[0m         \u001b[38;5;28;01mreturn\u001b[39;00m \u001b[38;5;28mself\u001b[39m\u001b[38;5;241m.\u001b[39m_sslobj\u001b[38;5;241m.\u001b[39mread(\u001b[38;5;28mlen\u001b[39m, buffer)\n\u001b[1;32m   1100\u001b[0m     \u001b[38;5;28;01melse\u001b[39;00m:\n\u001b[0;32m-> 1101\u001b[0m         \u001b[38;5;28;01mreturn\u001b[39;00m \u001b[38;5;28;43mself\u001b[39;49m\u001b[38;5;241;43m.\u001b[39;49m\u001b[43m_sslobj\u001b[49m\u001b[38;5;241;43m.\u001b[39;49m\u001b[43mread\u001b[49m\u001b[43m(\u001b[49m\u001b[38;5;28;43mlen\u001b[39;49m\u001b[43m)\u001b[49m\n\u001b[1;32m   1102\u001b[0m \u001b[38;5;28;01mexcept\u001b[39;00m SSLError \u001b[38;5;28;01mas\u001b[39;00m x:\n\u001b[1;32m   1103\u001b[0m     \u001b[38;5;28;01mif\u001b[39;00m x\u001b[38;5;241m.\u001b[39margs[\u001b[38;5;241m0\u001b[39m] \u001b[38;5;241m==\u001b[39m SSL_ERROR_EOF \u001b[38;5;129;01mand\u001b[39;00m \u001b[38;5;28mself\u001b[39m\u001b[38;5;241m.\u001b[39msuppress_ragged_eofs:\n",
      "\u001b[0;31mKeyboardInterrupt\u001b[0m: "
     ]
    }
   ],
   "source": [
    "def get_character_profile(character, summary):\n",
    "    prompt = Prompts.generateCharacterProfile(character, summary)\n",
    "\n",
    "    responseData = generate_response(prompt)\n",
    "    return responseData\n",
    "\n",
    "def get_character_keyScenes(character, summary):\n",
    "    prompt = Prompts.generateCharacterKeyScenes(character, summary)\n",
    "\n",
    "    responseData = generate_response(prompt)\n",
    "    return responseData\n",
    "\n",
    "# Iterate through all characters and update their profiles\n",
    "for character in characters:\n",
    "    char = character.to_dict()\n",
    "    character.detailedProfile = get_character_profile(char, story.summary)\n",
    "    character.keyScenes = get_character_keyScenes(char, story.summary)"
   ]
  },
  {
   "cell_type": "markdown",
   "metadata": {},
   "source": [
    "# 4- Plot Summary: Outline the major plot points."
   ]
  },
  {
   "cell_type": "code",
   "execution_count": 10,
   "metadata": {},
   "outputs": [],
   "source": [
    "char_dicts = []\n",
    "for character in characters:\n",
    "    char_dicts.append(character.to_dict())\n",
    "\n",
    "prompt = Prompts.generateStoryAct(story.summary, char_dicts)\n",
    "\n",
    "storyActs = generate_response(prompt).split('\\n\\n')\n",
    "\n",
    "story.acts = storyActs"
   ]
  },
  {
   "cell_type": "markdown",
   "metadata": {},
   "source": [
    "# 5- Create chapters out of the Acts\n"
   ]
  },
  {
   "cell_type": "code",
   "execution_count": 26,
   "metadata": {},
   "outputs": [
    {
     "name": "stdout",
     "output_type": "stream",
     "text": [
      "['Chapter 1: Lady Seraphina, armed with dark magic and a deadly blade, crosses the Threshold into the blood-soaked realm of \"Sword and Sinew.\" She faces her first challenge in the form of the rival warlord Lord Aric, who also seeks the Crown of Shadows for his nefarious purposes. Their clash sets the stage for a dangerous game of cat and mouse as Lady Seraphina navigates the treacherous landscape filled with betrayal and ambushes.', \"Chapter 2: Lady Seraphina encounters the duplicitous court jester Malvolio, who schemes to manipulate her for his own gain. Torn between trusting him and seeing through his deception, Lady Seraphina must tread carefully as she uncovers more layers of treachery and deceit surrounding the Crown of Shadows. Malvolio's motives remain unclear as they dance around each other in a dangerous game of manipulation.\", 'Chapter 3: The tension between Lady Seraphina and Lord Aric reaches its peak as they engage in a deadly battle for control of the Crown of Shadows. With the fate of the realm hanging in the balance, Lady Seraphina must dig deep into her dark magic and cunning tactics to outwit her formidable opponent. As the moon waxes and secrets unravel, the stakes are raised higher than ever before, leading to a final showdown that will determine the fate of Sword and Sinew.']\n",
      "[\"Chapter 1: The Call to Adventure\\nLady Seraphina receives a cryptic message from an old ally, urging her to seek out the Crown of Shadows. Intrigued by the artifact's power, she sets off on her journey, unaware of the dangers that lie ahead. As she travels through the twisted forests of the realm, she encounters a group of mercenaries hired by Lord Aric to capture her, setting the stage for a deadly confrontation.\", \"Chapter 2: Crossing the Threshold\\nFaced with the mercenaries' ambush, Lady Seraphina unleashes her dark magic, revealing her true power as a sorceress. In the chaos of battle, she manages to escape but not without sustaining injuries. Nursing her wounds, she seeks refuge in a hidden temple, where she discovers ancient scrolls detailing the Crown of Shadows' history and the sacrifices required to wield its power.\", 'Chapter 3: The Road of Trials\\nAs Lady Seraphina delves deeper into the heart of darkness, she encounters Baron Von Drakul, a relentless undead knight who has been sent to stop her at all costs. Their fierce battle tests her skills and resolve, pushing her to the brink of her own mortality. With each victory, she grows closer to understanding the true nature of the Crown of Shadows and the price she must pay to claim it.', 'Chapter 4: The Meeting with the Goddess\\nIn a moment of respite, Lady Seraphina encounters the mysterious enchantress, Esmeralda, who offers guidance and a warning of the dangers that await her. United in their quest for power, the two women form an uneasy alliance, each harboring secrets and hidden agendas that threaten to tear them apart. Together, they journey towards the ancient citadel where the Crown of Shadows is said to be hidden, drawing ever closer to their destiny.', 'Chapter 5: The Ultimate Boon\\nAs Lady Seraphina and Esmeralda reach the citadel, they confront Lord Aric and his forces in a final showdown for the Crown of Shadows. Betrayals and revelations unravel as the true intentions of each character are laid bare, leading to a climactic battle that will determine the fate of the realm. In a moment of sacrifice and redemption, Lady Seraphina claims the Crown of Shadows, but at what cost to her own soul and the world around her?']\n",
      "['Chapter 1: The Call to Adventure\\nLady Seraphina receives a cryptic message from a mysterious figure, urging her to seek out the Crown of Shadows and warning her of the dangers that lie ahead. Despite her initial reluctance, she knows that her destiny is intertwined with the artifact, and she sets out on her journey, determined to fulfill her quest no matter the cost.', 'Chapter 2: Crossing the Threshold\\nOn her journey, Lady Seraphina encounters the first of many obstacles: a band of ruthless bandits who seek to claim the Crown of Shadows for themselves. With her quick wit and deadly magic, she navigates through the treacherous terrain and emerges victorious, gaining a newfound sense of confidence in her abilities.', 'Chapter 3: The Road of Trials\\nAs Lady Seraphina delves deeper into the heart of the blood-soaked realm, she faces a series of challenges that test her strength, resolve, and morality. Betrayals and alliances are formed and broken, as she must navigate the complex web of politics and power dynamics that threaten to consume her. Dark forces lurk in the shadows, watching her every move with intent to thwart her mission.', \"Chapter 4: Meeting with the Goddess\\nIn a pivotal moment of the story, Lady Seraphina encounters a powerful sorceress who reveals to her the true nature of the Crown of Shadows and the devastating consequences of wielding its power. The sorceress imparts ancient wisdom upon Lady Seraphina, urging her to look within herself and find the strength to resist the temptations of ultimate power. The seeds of doubt are planted in Lady Seraphina's mind, as she begins to question her motivations and the true cost of her quest.\", 'Chapter 5: The Ultimate Boon\\nAt the climax of her journey, Lady Seraphina finally reaches the sacred temple where the Crown of Shadows rests. As she approaches the artifact, she is faced with a choice that will determine the fate of the realm and all who dwell within it. Will she choose to claim the Crown and embrace its dark power, or will she find a way to break the cycle of violence and destruction that has plagued \"Sword and Sinew\"? The final battle is waged, as Lady Seraphina confronts her inner demons and makes a decision that will reverberate throughout the land for generations to come.']\n"
     ]
    }
   ],
   "source": [
    "def generate_chapter(act, summary):\n",
    "    prompt = Prompts.generateChapterFor(act, summary)\n",
    "\n",
    "    story_chapters = generate_response(prompt).split('\\n\\n')\n",
    "\n",
    "    print(story_chapters)\n",
    "\n",
    "    for response in story_chapters:\n",
    "        chapter = Chapter()\n",
    "        chapter.description = response\n",
    "        story.chapters.append(chapter)\n",
    "\n",
    "story.chapters = []\n",
    "\n",
    "for act in story.acts:\n",
    "    generate_chapter(act, story.summary)"
   ]
  },
  {
   "cell_type": "markdown",
   "metadata": {},
   "source": [
    "### Expanding chapter description to other elements"
   ]
  },
  {
   "cell_type": "code",
   "execution_count": 28,
   "metadata": {},
   "outputs": [],
   "source": [
    "for chapter in story.chapters:\n",
    "    prompt = Prompts.generateChapterTitle(chapter, story.summary)\n",
    "\n",
    "    chapter.name = generate_response(prompt)\n",
    "\n",
    "    prompt = Prompts.generateChapterGoals(chapter, story.summary)\n",
    "\n",
    "    chapter.goals = generate_response(prompt)\n",
    "\n",
    "    prompt = Prompts.generateChapterConsequences(chapter, story.summary)\n",
    "\n",
    "    chapter.consequences = generate_response(prompt)\n",
    "\n",
    "    prompt = Prompts.generateChapterEndResult(chapter, story.summary)\n",
    "\n",
    "    chapter.end_result = generate_response(prompt)\n",
    "\n",
    "    prompt = Prompts.generateChapterCharacters(chapter, story.summary)\n",
    "\n",
    "    chapter.characters = generate_response(prompt).strip(\"[]\").split(\", \")"
   ]
  },
  {
   "cell_type": "markdown",
   "metadata": {},
   "source": [
    "# 6- Scene List: Create a list of scenes in the novel and write them"
   ]
  },
  {
   "cell_type": "code",
   "execution_count": 45,
   "metadata": {},
   "outputs": [],
   "source": [
    "def create_scenes_from_chapter(chapter):\n",
    "    prompt = Prompts.generateScenesFromChapter(chapter, chapter.act, story.summary)\n",
    "\n",
    "    return generate_response(prompt).split(sep='\\n\\n')"
   ]
  },
  {
   "cell_type": "code",
   "execution_count": 46,
   "metadata": {},
   "outputs": [],
   "source": [
    "def define_scene_details(chapter, scene):\n",
    "    prompt = Prompts.generateSceneDetails(chapter, scene, story.summary)\n",
    "    \n",
    "    scene.name = generate_response(prompt)\n",
    "\n",
    "    prompt = Prompts.generateSceneDescription(chapter, scene, story.summary)\n",
    "    \n",
    "    scene.goals = generate_response(prompt)\n",
    "\n",
    "    prompt = Prompts.generateSceneConsequences(chapter, scene, story.summary)\n",
    "    \n",
    "    scene.consequences = generate_response(prompt)\n",
    "\n",
    "    prompt = Prompts.generateSceneEndResult(scene, story.summary, chapter)\n",
    "    \n",
    "    scene.end_result = generate_response(prompt)\n",
    "\n",
    "    prompt = Prompts.generateSceneStoryline(scene, story.summary, chapter)\n",
    "    \n",
    "    scene.final_text = generate_response(prompt)"
   ]
  },
  {
   "cell_type": "code",
   "execution_count": 51,
   "metadata": {},
   "outputs": [
    {
     "name": "stdout",
     "output_type": "stream",
     "text": [
      "Starting chapter \"Dancing on the Edge of Destiny\"\n",
      "Creating scene Scene 1: Lady Seraphina, cloaked in shadows and armed with a deadly blade, stealthily infiltrates the warlord Lord Aric's fortress, seeking the first piece of the puzzle that will lead her to the Crown of Shadows. As she navigates the dimly lit corridors, her goal is to find the elusive map rumored to be in Lord Aric's possession, but she must remain undetected to avoid the dire consequences if caught in enemy territory. The end result of this scene sees Lady Seraphina successfully locating the map, a crucial step towards her ultimate goal, but the risk of discovery looms over her as she prepares to make her escape.\n",
      "Creating scene Scene 2: In a tense showdown in the courtyard of the fortress, Lady Seraphina comes face to face with Lord Aric, the rival warlord who seeks the Crown of Shadows for his own dark purposes. Their clash of wills and blades sets the stage for a high-stakes game of cat and mouse, each trying to outmaneuver the other in a deadly dance of deception and combat. As the consequences of this confrontation unfold, Lady Seraphina gains valuable insight into Lord Aric's plans and motives, which will shape her strategy in the chapters to come.\n",
      "Creating scene Scene 3: After narrowly escaping Lord Aric's clutches, Lady Seraphina retreats to a secluded alcove to analyze the map she obtained and decipher the cryptic clues that point towards the location of the Crown of Shadows. Her goal in this scene is to unravel the ancient riddles and hidden symbols that lead her deeper into the treacherous heart of \"Sword and Sinew,\" but the consequences of delving into this mystery leave her vulnerable to unknown dangers lurking in the shadows. The scene ends with Lady Seraphina determined to press forward despite the risks, her resolve steeling her against the looming threats that await.\n",
      "Creating scene Scene 4: As Lady Seraphina follows the map's instructions to a hidden crypt where the Crown of Shadows is rumored to be located, she encounters a group of undead knights who guard the entrance with malevolent intent. Her goal is clear - to overcome these spectral sentinels and claim the artifact that could tip the balance of power in the blood-soaked realm. The consequences of this harrowing battle will test Lady Seraphina's skill and courage, pushing her to the brink of her abilities as she fights for her life and her destiny. The end result of this scene sees Lady Seraphina emerging victorious but wounded, her path forward uncertain as she faces the next chapter of her perilous journey.\n",
      "Starting chapter Title: Dance of Deception\n",
      "Creating scene Scene: Lady Seraphina arrives at the court of the duplicitous court jester Malvolio, where she is greeted with false charm and veiled intentions. Lady Seraphina senses that Malvolio is not to be trusted, but she plays along, curious to uncover his true motives and gain information about the Crown of Shadows. Malvolio offers to assist Lady Seraphina in her quest, but she remains cautious, knowing that his help may come at a steep price.\n",
      "Creating scene Scene: Lady Seraphina and Malvolio engage in a verbal dance, each trying to outmaneuver the other in a game of wit and deceit. Malvolio's manipulative nature becomes more apparent as he subtly tries to steer Lady Seraphina towards his own agenda while feigning loyalty and sincerity. Lady Seraphina must decide whether to continue playing along with Malvolio's deception or to confront him and risk revealing her suspicions.\n",
      "Creating scene Scene: Tensions rise between Lady Seraphina and Malvolio as they continue their dangerous dance of deception. Lady Seraphina begins to unravel the web of lies surrounding Malvolio, realizing that he is a key player in the treacherous game for the Crown of Shadows. Malvolio becomes more desperate to maintain his facade, while Lady Seraphina becomes determined to expose his true intentions and safeguard her mission.\n",
      "Creating scene Scene: In a pivotal moment, Lady Seraphina confronts Malvolio, revealing that she has seen through his manipulation and deceit. Malvolio, caught off guard, drops his mask of guile and reveals his true allegiance to one of the rival warlords seeking the Crown of Shadows. Lady Seraphina realizes the depth of the treachery surrounding her quest and must act quickly to protect herself and prevent Malvolio from further sabotaging her mission.\n",
      "Creating scene Scene: The confrontation between Lady Seraphina and Malvolio escalates into a physical battle, with Lady Seraphina using her dark magic and sword skills to defend herself against Malvolio's treacherous schemes. As the clash unfolds, Lady Seraphina manages to outmaneuver Malvolio and escape his clutches, but not without sustaining injuries and realizing the gravity of the situation. The chapter ends on a cliffhanger as Lady Seraphina prepares to face the dangers ahead, knowing that the stakes have been raised and the true dangers lie ahead in her quest for the Crown of Shadows.\n",
      "Starting chapter \"The Deadly Dance of Shadows: The Final Showdown\"\n",
      "Creating scene Scene 1: Lady Seraphina and Lord Aric face off in a deserted courtyard, their eyes locked in a deadly stare as they prepare to battle for the Crown of Shadows. Lady Seraphina's goal is to use her dark magic to outmaneuver Lord Aric and claim the artifact, while Lord Aric aims to prove his dominance and seize control for himself. The consequences of this showdown will determine the course of the realm as tensions rise to a boiling point.\n",
      "Creating scene Scene 2: The clash between Lady Seraphina and Lord Aric intensifies, with sparks flying as their magical powers collide in a dazzling display of light and shadow. Lady Seraphina's cunning tactics and quick thinking give her the upper hand, but Lord Aric's sheer strength and determination keep the battle on a knife's edge. As the moon waxes overhead, the stakes grow higher with each passing moment.\n",
      "Creating scene Scene 3: In a crucial moment of the battle, Lady Seraphina unleashes a devastating spell that temporarily incapacitates Lord Aric, giving her the opening she needs to make a final push for victory. The consequences of this strategic move will reverberate throughout the realm, setting the stage for a new power dynamic and shifting alliances among the key players.\n",
      "Creating scene Scene 4: As Lady Seraphina stands triumphant over Lord Aric, the Crown of Shadows within her reach, a sudden twist of fate plunges the situation into chaos. The consequences of this shocking turn of events will test Lady Seraphina's resolve and inner strength like never before, setting the stage for a new chapter filled with uncertainty and peril.\n",
      "Creating scene Scene 5: With the Crown of Shadows in her possession, Lady Seraphina's victory is short-lived as the artifact's dark influence begins to corrupt her from within. The consequences of this revelation will send ripples through the realm, leading to a series of new challenges and obstacles that must be overcome in order to prevent total damnation. The end result of this scene sees Lady Seraphina facing her darkest hour, with the true test of her strength and willpower yet to come.\n",
      "Starting chapter Title: The Cryptic Message\n",
      "Creating scene Lady Seraphina, intrigued by the cryptic message from her old ally, sets off on her journey to retrieve the Crown of Shadows. As she travels through the twisted forests of the realm, she encounters a group of mercenaries hired by Lord Aric to capture her, leading to a deadly confrontation. In the skirmish, Lady Seraphina narrowly escapes but sustains a wound that needs attention, forcing her to find a safe place to rest and recover before continuing her quest. Her old ally warns her of the dangers of the artifact, weighing heavily on her mind as she debates its worth. The confrontation with the mercenaries alerts other forces in the realm to her quest, increasing surveillance and obstacles in her path. Lady Seraphina's sense of urgency grows as she delves deeper into the mysteries surrounding the Crown of Shadows, uncovering a darker secret that complicates her mission and forces her to reconsider her motives and alliances. At the end of the chapter, she narrowly escapes the mercenaries and finds a safe place to rest, pondering the newfound power and complexities surrounding the artifact.\n",
      "Starting chapter \"A Sorceress Unleashed: The Secrets of the Crown of Shadows\"\n",
      "Creating scene Scene 1: Lady Seraphina is ambushed by a group of mercenaries in a dark forest, forcing her to unleash her dark magic in a fierce display of power. Despite her injuries, she manages to fend off her attackers and escape, leaving a trail of destruction in her wake. The goal is for Lady Seraphina to showcase her true sorceress abilities and establish her prowess in combat.\n",
      "Creating scene Scene 2: Nursing her wounds in a hidden temple, Lady Seraphina stumbles upon ancient scrolls that reveal the history of the Crown of Shadows and the sacrifices necessary to wield its power. Intrigued and wary of the challenges ahead, she must now make crucial decisions about how to approach her quest. The consequences include determining if she is willing to make the necessary sacrifices to obtain the artifact and the knowledge gained from the scrolls shaping her journey moving forward.\n",
      "Creating scene Scene 3: As Lady Seraphina contemplates her next move, a plot twists unfolds when she discovers she is not the only one seeking the Crown of Shadows. A mysterious figure known as the Shadow Hand has been manipulating events to ensure the artifact falls into their hands. Realizing the imminent danger, Lady Seraphina must navigate a treacherous path filled with deception, betrayal, and unexpected alliances as she sets out to retrieve the artifact and prevent it from falling into the wrong hands. The end result is a heightened sense of urgency and an escalation of stakes in Lady Seraphina's quest.\n",
      "Starting chapter Title: Clash with the Undead Knight\n",
      "Creating scene Lady Seraphina and Baron Von Drakul engage in a fierce battle at the crossroads of the forbidden forest. Seraphina's goal is to outmaneuver the undead knight and gain the upper hand, while Von Drakul seeks to stop her from reaching the Crown of Shadows. The consequences of this brutal confrontation result in Seraphina sustaining severe injuries that weaken her physically and magically, setting the stage for further challenges in her quest. The end result sees Seraphina emerging victorious, but at a great cost to her well-being and the realization that sacrifices may need to be made in order to claim the artifact. \n",
      "Creating scene As the dust settles from the battle, Seraphina discovers a hidden chamber within the forest, revealing ancient inscriptions that shed light on the true power of the Crown of Shadows. Her goal in this scene is to decipher the meaning of the inscriptions and understand the depths of the artifact's influence. The consequences of this discovery lead Seraphina to reevaluate her commitment to the quest, as she learns of the sacrifices required to wield the Crown's power. The end result leaves Seraphina questioning her moral compass and the lengths she is willing to go to achieve her goals. \n",
      "Creating scene In the aftermath of the battle, Seraphina is confronted by a spectral apparition of her deceased mentor, warning her of the dangers that lie ahead. The goal of this scene is for Seraphina to come to terms with her past and gain insight into the true intentions of her mentor. The consequences of this encounter deepen Seraphina's internal conflict, as she grapples with the toll her quest is taking on her morality and humanity. The end result sees Seraphina haunted by the ghostly visage of her mentor, pushing her further towards a path of darkness in her pursuit of power. \n",
      "Creating scene As night falls, Seraphina is ambushed by a group of shadow assassins sent by a rival warlord to silence her quest for the Crown of Shadows. Her goal in this scene is to fend off the assassins and uncover the identity of her enemy. The consequences of this ambush introduce a new obstacle for Seraphina to overcome, as she must now navigate the treacherous landscape of deceit and betrayal in addition to facing physical threats. The end result reveals the true extent of the dangers surrounding the artifact, as Seraphina realizes that she is not the only one willing to kill for its power.\n",
      "Starting chapter Title: The Enigmatic Alliance\n",
      "Creating scene Lady Seraphina and Esmeralda meet in a secluded grove, where the enchantress offers guidance and warns of the treacherous path ahead. Lady Seraphina, intrigued by Esmeralda's knowledge, decides to form an alliance with her despite lingering suspicions. The two women discuss their shared goal of obtaining the Crown of Shadows, each hiding their true intentions as they set out towards the ancient citadel. As they journey together, tensions simmer beneath the surface, hinting at conflicts to come. The end of the scene sees Lady Seraphina and Esmeralda bonding over their common quest, but shadows of uncertainty loom over their newfound partnership.\n",
      "Starting chapter \"Dance of Shadows: The Climactic Showdown\"\n",
      "Creating scene Scene 1: Lady Seraphina and Esmeralda stealthily make their way through the citadel, evading guards and traps set by Lord Aric. Their goal is to reach the chamber where the Crown of Shadows is kept without alerting the enemy. The consequences for the next chapter are that they will have to face the full force of Lord Aric's defenses if they are discovered. The end result of the scene is that they successfully reach the chamber, but not without leaving a trail of destruction behind.\n",
      "Creating scene Scene 2: In the chamber, Lady Seraphina and Esmeralda come face to face with Lord Aric and his elite warriors. A tense standoff occurs as each character's true intentions are revealed through dialogue and actions. The goal is to set the stage for the final showdown for the Crown of Shadows. The consequences for the next chapter are that alliances will shift and betrayals will be exposed. The end result of the scene is a cliffhanger as both sides prepare for battle.\n",
      "Creating scene Scene 3: The climactic battle between Lady Seraphina, Esmeralda, and Lord Aric's forces erupts in the citadel courtyard. Swords clash, spells fly, and blood is spilled as the fate of the realm hangs in the balance. The goal is to deliver a pulse-pounding and emotionally resonant fight scene. The consequences for the next chapter are that the aftermath of the battle will need to be addressed, with casualties to mourn and wounds to heal. The end result of the scene is Lady Seraphina emerging victorious, claiming the Crown of Shadows, but at a great cost.\n",
      "Creating scene Scene 4: As Lady Seraphina holds the Crown of Shadows aloft, a dark power begins to radiate from the artifact, corrupting her from within. Esmeralda tries to reach out to her friend, but Lady Seraphina is consumed by the overwhelming magic. The goal is to reveal the true nature of the Crown of Shadows and its sinister purpose. The consequences for the next chapter are that Lady Seraphina must now find a way to break free from the artifact's grasp before it's too late. The end result of the scene is a sense of foreboding as the consequences of using the Crown of Shadows unfold.\n",
      "Starting chapter Title: The Cryptic Message\n",
      "Creating scene Lady Seraphina is summoned to a secluded clearing in the forest by the mysterious figure. The figure reveals themselves as a cloaked enchanter, who urges her to seek out the Crown of Shadows, warning her of the treacherous path ahead. Lady Seraphina is skeptical at first but is compelled by a sense of destiny as she accepts the enchanter's call to adventure. As she sets out on her journey, the enchanter bestows upon her a talisman of protection, a shimmering amulet that pulses with ancient power. Lady Seraphina's goal in this scene is to overcome her doubts and embrace the quest ahead, leading to consequences in the next chapter as she fully commits to retrieving the artifact and facing the dangers that await. The end result is Lady Seraphina standing alone in the clearing, the amulet glowing faintly on her chest, a determined gleam in her eyes as she begins her perilous journey towards the Crown of Shadows. \n",
      "Creating scene Lady Seraphina ventures into the dark heart of the kingdom, encountering a band of roving brigands who seek to waylay her and steal her belongings. With quick reflexes and a whisper of dark magic, she dispatches the brigands with lethal precision, her blade dancing in the moonlight. Despite the danger, Lady Seraphina's resolve only strengthens as she proves her mettle and resourcefulness in the face of adversity. Her goal in this scene is to showcase her skills and determination, setting the stage for the escalating dangers she will face on her quest. The consequences for the next chapter involve the brigands' allies seeking vengeance, leading to a heightened sense of peril for Lady Seraphina. The end result is Lady Seraphina standing victorious amidst the fallen brigands, her confidence bolstered by the successful encounter. \n",
      "Creating scene Lady Seraphina arrives at a desolate village shrouded in mist, where the townsfolk speak in hushed tones of a cursed well that is said to hold the key to unlocking the secrets of the Crown of Shadows. Intrigued by the legend, she seeks out the well, only to be confronted by the ghostly apparitions of those who perished there long ago. Undaunted, Lady Seraphina uses her sorcerous talents to communicate with the spirits, unraveling the tragic tale of betrayal and power that binds them to the well. Her goal in this scene is to uncover clues that will aid her in her quest for the artifact, leading to consequences in the next chapter as she delves deeper into the mysteries surrounding the Crown of Shadows. The end result is Lady Seraphina gaining valuable insights from the spirits, her determination solidified as she presses onward towards her goal.\n",
      "Starting chapter Chapter 2: The Dance of Shadows\n",
      "Creating scene Lady Seraphina uses her dark magic to create a blinding illusion, disorienting the bandits and giving her the upper hand in the battle. As she dispatches the enemies with ease, she feels a surge of power and confidence in her abilities, solidifying her determination to retrieve the Crown of Shadows. However, one of the bandits manages to escape and warns their leader of Lady Seraphina's presence, setting the stage for future confrontations. In the end, Lady Seraphina stands victorious amidst the fallen foes, her eyes gleaming with the promise of more challenges ahead on her perilous journey.\n",
      "Starting chapter Title: Dance of Shadows\n",
      "Creating scene Scene 1: Lady Seraphina enters the treacherous forest of whispers, where shadows dance with malevolent glee, accompanied by her loyal companion, a skilled thief named Rook. Their goal is to navigate the twisting paths filled with hidden dangers and unseen threats, testing their trust in each other as they face the unknown. The consequences of this scene will lead to a deeper bond between Lady Seraphina and Rook, as they rely on each other's strengths to survive the dark forest.\n",
      "Creating scene Scene 2: Lady Seraphina and Rook encounter a band of cursed spirits, restless souls bound to the realm by ancient magic. As they battle the undead knights, Lady Seraphina's dark magic clashes with their spectral weapons, revealing her true power and skill in combat. The consequences of this scene will show the extent of Lady Seraphina's sorcery and her ability to command the mystical forces around her, setting the stage for further confrontations with darker entities.\n",
      "Creating scene Scene 3: A meeting with the enigmatic Court Jester takes place in a dimly lit tavern, where secrets are traded like currency and alliances hang by a delicate thread. Lady Seraphina must navigate the Jester's cryptic words and veiled intentions, as his role in the quest for the Crown of Shadows remains unclear. The consequences of this scene will deepen the intrigue surrounding the Court Jester and his mysterious motives, setting the stage for future betrayals and alliances that will shape Lady Seraphina's journey.\n",
      "Creating scene Scene 4: Lady Seraphina is faced with a moral dilemma when she discovers a village plagued by a dark curse, its inhabitants suffering under the weight of their own sins. As she decides whether to intervene and help those in need or continue her quest unabated, Lady Seraphina grapples with the consequences of her choices and the impact they have on the world around her. The end result of this scene will reveal Lady Seraphina's compassion and humanity, tempered by her unwavering determination to achieve her goal, setting the stage for conflicts of conscience in the chapters to come.\n",
      "Starting chapter Title: The Sorceress's Revelation\n",
      "Creating scene Lady Seraphina arrives at the hidden sanctuary where the powerful sorceress resides, feeling both anxious and intrigued by what she will learn. The Sorceress greets her with a mix of warmth and caution, sensing the darkness that resides within Lady Seraphina. As they sit in the dimly lit chamber surrounded by mystical artifacts, the Sorceress begins to reveal the ancient prophecies and legends surrounding the Crown of Shadows, painting a grim picture of the consequences of wielding its power. Lady Seraphina listens intently, her eyes wide with a mix of fear and fascination, as the Sorceress imparts wisdom that challenges everything she thought she knew about her quest.\n",
      "Creating scene Lady Seraphina struggles to reconcile the new knowledge she has gained with her original motivations for seeking the Crown of Shadows. Doubts begin to gnaw at her as she questions whether the price of ultimate power is too high to pay. The Sorceress watches knowingly, her gaze piercing into Lady Seraphina's soul, as she encourages her to dig deep within herself to find the strength to resist the temptation that the artifact represents. An inner turmoil brews within Lady Seraphina, torn between her desire for power and the warnings of the Sorceress, setting the stage for a profound transformation in her character.\n",
      "Creating scene As the conversation unfolds, Lady Seraphina finds herself at a crossroads, her resolve tested like never before. The Sorceress's words linger in the air, haunting her thoughts as she grapples with the consequences of her actions. She must make a decision that will not only shape the course of her quest but also define the kind of person she wants to become. The weight of responsibility presses down on Lady Seraphina's shoulders, urging her to choose wisely as the fate of not only herself but the entire realm hangs in the balance.\n",
      "Creating scene In a moment of clarity, Lady Seraphina's inner turmoil reaches its peak, and she finally makes a choice that will alter the trajectory of her journey. With a steely determination in her eyes, she faces the Sorceress and declares her decision, setting in motion a chain of events that will lead her down a path fraught with danger and uncertainty. The echoes of her choice reverberate through the chamber, signaling the beginning of a new chapter in Lady Seraphina's quest for power and redemption.\n",
      "Creating scene The Sorceress nods in approval, a glimmer of pride in her eyes as she watches Lady Seraphina embrace her destiny. She offers a final piece of wisdom, a cryptic prophecy that hints at the challenges and revelations that lie ahead. With a sense of foreboding and determination, Lady Seraphina bids farewell to the Sorceress, knowing that her journey is far from over. As she steps out into the night, the weight of her decision heavy on her shoulders, Lady Seraphina sets forth into the unknown, ready to face whatever trials await her on the path to claiming the Crown of Shadows.\n",
      "Starting chapter \"Eternal Power: Lady Seraphina's Fateful Decision\"\n",
      "Creating scene Lady Seraphina confronts the court jester in a battle of wits and magic, testing each other's cunning and power. Their goal is to outmaneuver and outsmart one another, with the consequence being that the court jester may reveal a crucial piece of information that could sway Lady Seraphina's decision regarding the Crown of Shadows in the next chapter. The end result sees Lady Seraphina gaining a new insight into the court jester's true motivations, leading her to question alliances and trust.\n",
      "Creating scene Lady Seraphina faces off against the undead knights in a fierce combat, where her skills with a blade and dark magic are put to the ultimate test. Their goal is to defeat Lady Seraphina and capture her soul for their dark lord, with the consequence being that if Lady Seraphina falls, the realm of \"Sword and Sinew\" may be doomed to darkness and chaos. The end result sees Lady Seraphina emerging victorious but wounded, setting the stage for further conflict with the dark forces at play.\n",
      "Creating scene Lady Seraphina reaches the sacred temple where the Crown of Shadows rests, facing the final choice that will determine the fate of the realm. Her goal is to make a decision that reflects her growth and development throughout the story, with the consequence being that her choice will have far-reaching effects on the world and its inhabitants. The end result sees Lady Seraphina discovering the true nature of the Crown of Shadows and making a bold decision to destroy it, breaking the cycle of darkness and paving the way for a new era of peace and redemption in \"Sword and Sinew.\"\n",
      "Creating scene Lady Seraphina grapples with her inner demons as she contemplates the consequences of her decision regarding the Crown of Shadows. Her goal is to come to terms with her past and embrace a future free from the shadows that have haunted her, with the consequence being that her inner turmoil may manifest in external conflicts in the next chapter. The end result sees Lady Seraphina finding a sense of closure and resolution, setting the stage for a new chapter in her journey towards redemption and self-discovery in the blood-soaked realm of \"Sword and Sinew.\"\n"
     ]
    }
   ],
   "source": [
    "previous_scene = \"\"\n",
    "for chapter in story.chapters:\n",
    "    print(f\"Starting chapter {chapter.id}-{chapter.name}\")\n",
    "    sceneResponses = create_scenes_from_chapter(chapter)\n",
    "    for sceneResponse in sceneResponses:\n",
    "        scene = Scene()\n",
    "        scene.description = sceneResponse\n",
    "        scene.act = chapter.act\n",
    "        scene.plotpoint = chapter.plotpoint\n",
    "        scene.previous_scene = previous_scene\n",
    "        scene.goals = chapter.goals\n",
    "        scene.consequences = chapter.consequences\n",
    "        scene.chapter = chapter.name\n",
    "        define_scene_details(scene, chapter)\n",
    "        chapter.scenes.append(scene)\n",
    "        print(f\"Creating scene {scene.id}-{scene.name}\")\n",
    "        print(f\"Final Scene: {scene.__dict__}\")\n",
    "\n",
    "        previous_scene = \"Before this scene, this happened: \" + scene.description + scene.consequences"
   ]
  },
  {
   "cell_type": "markdown",
   "metadata": {},
   "source": [
    "# 9- Write the Novel: How can we make the final_text be longer, bigger and uncut?"
   ]
  },
  {
   "cell_type": "code",
   "execution_count": null,
   "metadata": {},
   "outputs": [],
   "source": [
    "# chapters = []\n",
    "\n",
    "# for scene in scenes:\n",
    "#     prompt = f\"\"\"\n",
    "#         Considering the summary of this scene {scene}, which belongs to this act of the story {act}, and the characters {characters}, write the scene.\n",
    "#     \"\"\"\n",
    "\n",
    "#     chapters.append(api_calls(prompt))"
   ]
  },
  {
   "cell_type": "markdown",
   "metadata": {},
   "source": [
    "# 10- Join all the chapters into a txt and export it."
   ]
  },
  {
   "cell_type": "code",
   "execution_count": 48,
   "metadata": {},
   "outputs": [
    {
     "name": "stdout",
     "output_type": "stream",
     "text": [
      "Scene texts written to book.txt\n"
     ]
    }
   ],
   "source": [
    "export_book()"
   ]
  }
 ],
 "metadata": {
  "kernelspec": {
   "display_name": ".venv",
   "language": "python",
   "name": "python3"
  },
  "language_info": {
   "codemirror_mode": {
    "name": "ipython",
    "version": 3
   },
   "file_extension": ".py",
   "mimetype": "text/x-python",
   "name": "python",
   "nbconvert_exporter": "python",
   "pygments_lexer": "ipython3",
   "version": "3.9.6"
  }
 },
 "nbformat": 4,
 "nbformat_minor": 2
}
