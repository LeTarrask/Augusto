{
 "cells": [
  {
   "cell_type": "code",
   "execution_count": 2,
   "metadata": {},
   "outputs": [],
   "source": [
    "from openInterface.api_calls import generate_response\n",
    "import json\n",
    "from models.character import Character\n",
    "from models.chapter import Chapter\n",
    "from models.scene import Scene\n",
    "from models.story import Story\n",
    "\n",
    "story = Story()"
   ]
  },
  {
   "cell_type": "code",
   "execution_count": 43,
   "metadata": {},
   "outputs": [],
   "source": [
    "def export_book():\n",
    "    # Create a list to store all the scene texts\n",
    "    all_scene_texts = []\n",
    "    all_scene_texts.append(\"This is the beginning of the book.\")\n",
    "    all_scene_texts.append(\"Summary:\")\n",
    "    all_scene_texts.append(story.summary)\n",
    "    all_scene_texts.append(\"\\n\\n\")\n",
    "\n",
    "    all_scene_texts.append(\"Acts:\")\n",
    "    for act in story.acts:\n",
    "        all_scene_texts.append(act)\n",
    "        all_scene_texts.append(\"\\n\\n\")\n",
    "\n",
    "    all_scene_texts.append(\"Plotlines:\")\n",
    "    for plotline in story.plotlines:\n",
    "        all_scene_texts.append(plotline)\n",
    "        all_scene_texts.append(\"\\n\\n\")\n",
    "\n",
    "    all_scene_texts.append(\"Characters:\")        \n",
    "    for character in story.characters:\n",
    "        all_scene_texts.append(character.name)\n",
    "        all_scene_texts.append(\"\\n\")\n",
    "        all_scene_texts.append(str(character.__dict__))\n",
    "\n",
    "    for chapter in story.chapters:\n",
    "        all_scene_texts.append(f\"CHAPTER: {chapter.id}\\n\" + chapter.name)\n",
    "        all_scene_texts.append(chapter.description)\n",
    "        all_scene_texts.append(\"\\n\")\n",
    "        \n",
    "        # all_scene_texts.append(\"Characters:\")\n",
    "        # for character in chapter.characters:\n",
    "        #     all_scene_texts.append(character.name)\n",
    "\n",
    "        all_scene_texts.append(\"Goals:\")\n",
    "        all_scene_texts.append(chapter.goals)\n",
    "        all_scene_texts.append(\"\\n\")\n",
    "\n",
    "        all_scene_texts.append(f\"SCENES: {len(chapter.scenes)}\")\n",
    "        for scene in chapter.scenes:\n",
    "            all_scene_texts.append(f\"Scene {scene.id}: \" + scene.name)\n",
    "            all_scene_texts.append(\"Description:\")\n",
    "            all_scene_texts.append(scene.description)\n",
    "            # all_scene_texts.append(\"Characters:\")\n",
    "            # all_scene_texts.append(scene.characters).join(\", \")\n",
    "            all_scene_texts.append(\"Goals:\")\n",
    "            all_scene_texts.append(scene.goals)\n",
    "\n",
    "            if hasattr(scene, 'final_text'):\n",
    "                all_scene_texts.append(\"Scene:\")\n",
    "                all_scene_texts.append(scene.final_text)\n",
    "\n",
    "        all_scene_texts.append(\"----------------------\")\n",
    "        all_scene_texts.append(\"\\n\")\n",
    "\n",
    "    # Write the scene texts to a text file\n",
    "    output_file = \"book.txt\"\n",
    "    with open(output_file, \"w\") as f:\n",
    "        for scene_text in all_scene_texts:\n",
    "            f.write(scene_text + \"\\n\")\n",
    "\n",
    "    print(f\"Scene texts written to {output_file}\")\n"
   ]
  },
  {
   "cell_type": "markdown",
   "metadata": {},
   "source": [
    "# 1- User writes a One-Paragraph Summary"
   ]
  },
  {
   "cell_type": "code",
   "execution_count": 4,
   "metadata": {},
   "outputs": [],
   "source": [
    "story.summary = \"In the blood-soaked realm of “Sword and Sinew,” where treachery festers like a poisoned chalice, Lady Seraphina, a rogue sorceress with a penchant for vengeance, embarks on a perilous quest. Her mission: to retrieve the Crown of Shadows, an artifact said to grant dominion over life and death. But standing in her way are rival warlords, a duplicitous court jester, and a band of undead knights who hunger for her soul. As the moon waxes and secrets unravel, Lady Seraphina dances on the edge of damnation, wielding her blade and dark magic in a deadly waltz toward destiny.\""
   ]
  },
  {
   "cell_type": "markdown",
   "metadata": {},
   "source": [
    "# 2- Character Summaries: Create brief character descriptions."
   ]
  },
  {
   "cell_type": "code",
   "execution_count": 5,
   "metadata": {},
   "outputs": [],
   "source": [
    "def create_character_objects(characterData):\n",
    "    \"\"\"\n",
    "    Converts a dictionary of character data into an array of Character objects.\n",
    "\n",
    "    Args:\n",
    "        characterData (dict): A dictionary containing character data.\n",
    "\n",
    "    Returns:\n",
    "        list: List of Character objects.\n",
    "    \"\"\"\n",
    "    characters = []\n",
    "    for char_data in characterData['characters']:\n",
    "        char_obj = Character()\n",
    "        char_obj.name = char_data.get('Name', '')\n",
    "        char_obj.role = char_data.get('Role', '')\n",
    "        char_obj.age = char_data.get('Age', '')\n",
    "        char_obj.occupation = char_data.get('Occupation', '')\n",
    "        char_obj.appearance = char_data.get('Appearance', '')\n",
    "        char_obj.personality_traits = char_data.get('Personality Traits', '')\n",
    "        char_obj.motivation = char_data.get('Motivation', '')\n",
    "        char_obj.backstory = char_data.get('Backstory', '')\n",
    "        characters.append(char_obj)\n",
    "    return characters"
   ]
  },
  {
   "cell_type": "code",
   "execution_count": 6,
   "metadata": {},
   "outputs": [],
   "source": [
    "characters = []\n",
    "\n",
    "## WE COULD HAVE CHARACTER ROLES HERE: ANTAGONISTS; PROTAGONISTS; ETC.\n",
    "## THIS COULD RUN 2 TIMES; SO WE HAVE EXTRA CHARACTERS.\n",
    "## TODO: fix the output of this prompt to make it error free when decoding\n",
    "prompt = f\"\"\"\n",
    "Imagine a story with this summary: '{story.summary}'. I need you to create brief character descriptions for this story. Feel free to add more characters or modify the prompts as needed. Please write a dict of characters in the following JSON compatible format, without any other text:\n",
    "    {{\n",
    "        \"Name\": \"\",\n",
    "        \"Role\": \"\",\n",
    "        \"Age\": \"\",\n",
    "        \"Occupation\": \"\",\n",
    "        \"Appearance\": \"\",\n",
    "        \"Personality Traits\": \"\",\n",
    "        \"Motivation\": \"\",\n",
    "        \"Backstory\": \"\"\n",
    "    }}\n",
    "\"\"\"\n",
    "\n",
    "response = generate_response(prompt)\n",
    "\n",
    "charactersData = json.loads(response)\n",
    "decodedCharacters = create_character_objects(charactersData)\n",
    "characters += decodedCharacters\n",
    "\n",
    "# # We save the character ids in the story object as well\n",
    "for character in characters:\n",
    "    story.characters.append(character)"
   ]
  },
  {
   "cell_type": "markdown",
   "metadata": {},
   "source": [
    "# 3- Character Charts: Develop detailed character profiles."
   ]
  },
  {
   "cell_type": "code",
   "execution_count": 49,
   "metadata": {},
   "outputs": [
    {
     "ename": "KeyboardInterrupt",
     "evalue": "",
     "output_type": "error",
     "traceback": [
      "\u001b[0;31m---------------------------------------------------------------------------\u001b[0m",
      "\u001b[0;31mKeyboardInterrupt\u001b[0m                         Traceback (most recent call last)",
      "Cell \u001b[0;32mIn[49], line 40\u001b[0m\n\u001b[1;32m     38\u001b[0m \u001b[38;5;28;01mfor\u001b[39;00m character \u001b[38;5;129;01min\u001b[39;00m characters:\n\u001b[1;32m     39\u001b[0m     char \u001b[38;5;241m=\u001b[39m character\u001b[38;5;241m.\u001b[39mto_dict()\n\u001b[0;32m---> 40\u001b[0m     character\u001b[38;5;241m.\u001b[39mdetailedProfile \u001b[38;5;241m=\u001b[39m \u001b[43mget_character_profile\u001b[49m\u001b[43m(\u001b[49m\u001b[43mchar\u001b[49m\u001b[43m,\u001b[49m\u001b[43m \u001b[49m\u001b[43mstory\u001b[49m\u001b[38;5;241;43m.\u001b[39;49m\u001b[43msummary\u001b[49m\u001b[43m)\u001b[49m\n\u001b[1;32m     41\u001b[0m     character\u001b[38;5;241m.\u001b[39mkeyScenes \u001b[38;5;241m=\u001b[39m get_character_keyScenes(char, story\u001b[38;5;241m.\u001b[39msummary)\n",
      "Cell \u001b[0;32mIn[49], line 16\u001b[0m, in \u001b[0;36mget_character_profile\u001b[0;34m(character, summary)\u001b[0m\n\u001b[1;32m      2\u001b[0m \u001b[38;5;250m\u001b[39m\u001b[38;5;124;03m\"\"\"\u001b[39;00m\n\u001b[1;32m      3\u001b[0m \u001b[38;5;124;03mGenerates a detailed character profile for the given character.\u001b[39;00m\n\u001b[1;32m      4\u001b[0m \n\u001b[0;32m   (...)\u001b[0m\n\u001b[1;32m      9\u001b[0m \u001b[38;5;124;03m    character'detailedProfile'.\u001b[39;00m\n\u001b[1;32m     10\u001b[0m \u001b[38;5;124;03m\"\"\"\u001b[39;00m\n\u001b[1;32m     12\u001b[0m prompt \u001b[38;5;241m=\u001b[39m \u001b[38;5;124mf\u001b[39m\u001b[38;5;124m\"\"\"\u001b[39m\n\u001b[1;32m     13\u001b[0m \u001b[38;5;124m    Consider the story \u001b[39m\u001b[38;5;124m'\u001b[39m\u001b[38;5;132;01m{\u001b[39;00msummary\u001b[38;5;132;01m}\u001b[39;00m\u001b[38;5;124m'\u001b[39m\u001b[38;5;124m. I need you to write a detailed character profile for this character \u001b[39m\u001b[38;5;124m'\u001b[39m\u001b[38;5;132;01m{\u001b[39;00mcharacter\u001b[38;5;132;01m}\u001b[39;00m\u001b[38;5;124m'\u001b[39m\u001b[38;5;124m who will appear in it. \u001b[39m\n\u001b[1;32m     14\u001b[0m \u001b[38;5;124m\u001b[39m\u001b[38;5;124m\"\"\"\u001b[39m\n\u001b[0;32m---> 16\u001b[0m responseData \u001b[38;5;241m=\u001b[39m \u001b[43mgenerate_response\u001b[49m\u001b[43m(\u001b[49m\u001b[43mprompt\u001b[49m\u001b[43m)\u001b[49m\n\u001b[1;32m     17\u001b[0m \u001b[38;5;28;01mreturn\u001b[39;00m responseData\n",
      "File \u001b[0;32m~/Art Roubeaux/Python/Augusto/openInterface/api_calls.py:23\u001b[0m, in \u001b[0;36mgenerate_response\u001b[0;34m(prompt)\u001b[0m\n\u001b[1;32m     13\u001b[0m \u001b[38;5;250m\u001b[39m\u001b[38;5;124;03m\"\"\"\u001b[39;00m\n\u001b[1;32m     14\u001b[0m \u001b[38;5;124;03mGenerates a response from the OpenAI API based on the given prompt.\u001b[39;00m\n\u001b[1;32m     15\u001b[0m \n\u001b[0;32m   (...)\u001b[0m\n\u001b[1;32m     20\u001b[0m \u001b[38;5;124;03m    str: The API response.\u001b[39;00m\n\u001b[1;32m     21\u001b[0m \u001b[38;5;124;03m\"\"\"\u001b[39;00m\n\u001b[1;32m     22\u001b[0m \u001b[38;5;28;01mtry\u001b[39;00m:\n\u001b[0;32m---> 23\u001b[0m     response \u001b[38;5;241m=\u001b[39m \u001b[43mclient\u001b[49m\u001b[38;5;241;43m.\u001b[39;49m\u001b[43mchat\u001b[49m\u001b[38;5;241;43m.\u001b[39;49m\u001b[43mcompletions\u001b[49m\u001b[38;5;241;43m.\u001b[39;49m\u001b[43mcreate\u001b[49m\u001b[43m(\u001b[49m\n\u001b[1;32m     24\u001b[0m \u001b[43m        \u001b[49m\u001b[43mmodel\u001b[49m\u001b[38;5;241;43m=\u001b[39;49m\u001b[38;5;124;43m\"\u001b[39;49m\u001b[38;5;124;43mgpt-3.5-turbo\u001b[39;49m\u001b[38;5;124;43m\"\u001b[39;49m\u001b[43m,\u001b[49m\n\u001b[1;32m     25\u001b[0m \u001b[43m        \u001b[49m\u001b[43mmessages\u001b[49m\u001b[38;5;241;43m=\u001b[39;49m\u001b[43m[\u001b[49m\n\u001b[1;32m     26\u001b[0m \u001b[43m            \u001b[49m\u001b[43m{\u001b[49m\u001b[38;5;124;43m\"\u001b[39;49m\u001b[38;5;124;43mrole\u001b[39;49m\u001b[38;5;124;43m\"\u001b[39;49m\u001b[43m:\u001b[49m\u001b[43m \u001b[49m\u001b[38;5;124;43m\"\u001b[39;49m\u001b[38;5;124;43muser\u001b[39;49m\u001b[38;5;124;43m\"\u001b[39;49m\u001b[43m,\u001b[49m\u001b[43m \u001b[49m\u001b[38;5;124;43m\"\u001b[39;49m\u001b[38;5;124;43mcontent\u001b[39;49m\u001b[38;5;124;43m\"\u001b[39;49m\u001b[43m:\u001b[49m\u001b[43m \u001b[49m\u001b[43mprompt\u001b[49m\u001b[43m}\u001b[49m\u001b[43m,\u001b[49m\n\u001b[1;32m     27\u001b[0m \u001b[43m        \u001b[49m\u001b[43m]\u001b[49m\u001b[43m,\u001b[49m\n\u001b[1;32m     28\u001b[0m \u001b[43m    \u001b[49m\u001b[43m)\u001b[49m\n\u001b[1;32m     29\u001b[0m     \u001b[38;5;28;01mreturn\u001b[39;00m response\u001b[38;5;241m.\u001b[39mchoices[\u001b[38;5;241m0\u001b[39m]\u001b[38;5;241m.\u001b[39mmessage\u001b[38;5;241m.\u001b[39mcontent\n\u001b[1;32m     30\u001b[0m \u001b[38;5;28;01mexcept\u001b[39;00m \u001b[38;5;167;01mException\u001b[39;00m \u001b[38;5;28;01mas\u001b[39;00m e:\n",
      "File \u001b[0;32m~/Art Roubeaux/Python/Augusto/.venv/lib/python3.9/site-packages/openai/_utils/_utils.py:275\u001b[0m, in \u001b[0;36mrequired_args.<locals>.inner.<locals>.wrapper\u001b[0;34m(*args, **kwargs)\u001b[0m\n\u001b[1;32m    273\u001b[0m             msg \u001b[38;5;241m=\u001b[39m \u001b[38;5;124mf\u001b[39m\u001b[38;5;124m\"\u001b[39m\u001b[38;5;124mMissing required argument: \u001b[39m\u001b[38;5;132;01m{\u001b[39;00mquote(missing[\u001b[38;5;241m0\u001b[39m])\u001b[38;5;132;01m}\u001b[39;00m\u001b[38;5;124m\"\u001b[39m\n\u001b[1;32m    274\u001b[0m     \u001b[38;5;28;01mraise\u001b[39;00m \u001b[38;5;167;01mTypeError\u001b[39;00m(msg)\n\u001b[0;32m--> 275\u001b[0m \u001b[38;5;28;01mreturn\u001b[39;00m \u001b[43mfunc\u001b[49m\u001b[43m(\u001b[49m\u001b[38;5;241;43m*\u001b[39;49m\u001b[43margs\u001b[49m\u001b[43m,\u001b[49m\u001b[43m \u001b[49m\u001b[38;5;241;43m*\u001b[39;49m\u001b[38;5;241;43m*\u001b[39;49m\u001b[43mkwargs\u001b[49m\u001b[43m)\u001b[49m\n",
      "File \u001b[0;32m~/Art Roubeaux/Python/Augusto/.venv/lib/python3.9/site-packages/openai/resources/chat/completions.py:667\u001b[0m, in \u001b[0;36mCompletions.create\u001b[0;34m(self, messages, model, frequency_penalty, function_call, functions, logit_bias, logprobs, max_tokens, n, presence_penalty, response_format, seed, stop, stream, temperature, tool_choice, tools, top_logprobs, top_p, user, extra_headers, extra_query, extra_body, timeout)\u001b[0m\n\u001b[1;32m    615\u001b[0m \u001b[38;5;129m@required_args\u001b[39m([\u001b[38;5;124m\"\u001b[39m\u001b[38;5;124mmessages\u001b[39m\u001b[38;5;124m\"\u001b[39m, \u001b[38;5;124m\"\u001b[39m\u001b[38;5;124mmodel\u001b[39m\u001b[38;5;124m\"\u001b[39m], [\u001b[38;5;124m\"\u001b[39m\u001b[38;5;124mmessages\u001b[39m\u001b[38;5;124m\"\u001b[39m, \u001b[38;5;124m\"\u001b[39m\u001b[38;5;124mmodel\u001b[39m\u001b[38;5;124m\"\u001b[39m, \u001b[38;5;124m\"\u001b[39m\u001b[38;5;124mstream\u001b[39m\u001b[38;5;124m\"\u001b[39m])\n\u001b[1;32m    616\u001b[0m \u001b[38;5;28;01mdef\u001b[39;00m \u001b[38;5;21mcreate\u001b[39m(\n\u001b[1;32m    617\u001b[0m     \u001b[38;5;28mself\u001b[39m,\n\u001b[0;32m   (...)\u001b[0m\n\u001b[1;32m    665\u001b[0m     timeout: \u001b[38;5;28mfloat\u001b[39m \u001b[38;5;241m|\u001b[39m httpx\u001b[38;5;241m.\u001b[39mTimeout \u001b[38;5;241m|\u001b[39m \u001b[38;5;28;01mNone\u001b[39;00m \u001b[38;5;241m|\u001b[39m NotGiven \u001b[38;5;241m=\u001b[39m NOT_GIVEN,\n\u001b[1;32m    666\u001b[0m ) \u001b[38;5;241m-\u001b[39m\u001b[38;5;241m>\u001b[39m ChatCompletion \u001b[38;5;241m|\u001b[39m Stream[ChatCompletionChunk]:\n\u001b[0;32m--> 667\u001b[0m     \u001b[38;5;28;01mreturn\u001b[39;00m \u001b[38;5;28;43mself\u001b[39;49m\u001b[38;5;241;43m.\u001b[39;49m\u001b[43m_post\u001b[49m\u001b[43m(\u001b[49m\n\u001b[1;32m    668\u001b[0m \u001b[43m        \u001b[49m\u001b[38;5;124;43m\"\u001b[39;49m\u001b[38;5;124;43m/chat/completions\u001b[39;49m\u001b[38;5;124;43m\"\u001b[39;49m\u001b[43m,\u001b[49m\n\u001b[1;32m    669\u001b[0m \u001b[43m        \u001b[49m\u001b[43mbody\u001b[49m\u001b[38;5;241;43m=\u001b[39;49m\u001b[43mmaybe_transform\u001b[49m\u001b[43m(\u001b[49m\n\u001b[1;32m    670\u001b[0m \u001b[43m            \u001b[49m\u001b[43m{\u001b[49m\n\u001b[1;32m    671\u001b[0m \u001b[43m                \u001b[49m\u001b[38;5;124;43m\"\u001b[39;49m\u001b[38;5;124;43mmessages\u001b[39;49m\u001b[38;5;124;43m\"\u001b[39;49m\u001b[43m:\u001b[49m\u001b[43m \u001b[49m\u001b[43mmessages\u001b[49m\u001b[43m,\u001b[49m\n\u001b[1;32m    672\u001b[0m \u001b[43m                \u001b[49m\u001b[38;5;124;43m\"\u001b[39;49m\u001b[38;5;124;43mmodel\u001b[39;49m\u001b[38;5;124;43m\"\u001b[39;49m\u001b[43m:\u001b[49m\u001b[43m \u001b[49m\u001b[43mmodel\u001b[49m\u001b[43m,\u001b[49m\n\u001b[1;32m    673\u001b[0m \u001b[43m                \u001b[49m\u001b[38;5;124;43m\"\u001b[39;49m\u001b[38;5;124;43mfrequency_penalty\u001b[39;49m\u001b[38;5;124;43m\"\u001b[39;49m\u001b[43m:\u001b[49m\u001b[43m \u001b[49m\u001b[43mfrequency_penalty\u001b[49m\u001b[43m,\u001b[49m\n\u001b[1;32m    674\u001b[0m \u001b[43m                \u001b[49m\u001b[38;5;124;43m\"\u001b[39;49m\u001b[38;5;124;43mfunction_call\u001b[39;49m\u001b[38;5;124;43m\"\u001b[39;49m\u001b[43m:\u001b[49m\u001b[43m \u001b[49m\u001b[43mfunction_call\u001b[49m\u001b[43m,\u001b[49m\n\u001b[1;32m    675\u001b[0m \u001b[43m                \u001b[49m\u001b[38;5;124;43m\"\u001b[39;49m\u001b[38;5;124;43mfunctions\u001b[39;49m\u001b[38;5;124;43m\"\u001b[39;49m\u001b[43m:\u001b[49m\u001b[43m \u001b[49m\u001b[43mfunctions\u001b[49m\u001b[43m,\u001b[49m\n\u001b[1;32m    676\u001b[0m \u001b[43m                \u001b[49m\u001b[38;5;124;43m\"\u001b[39;49m\u001b[38;5;124;43mlogit_bias\u001b[39;49m\u001b[38;5;124;43m\"\u001b[39;49m\u001b[43m:\u001b[49m\u001b[43m \u001b[49m\u001b[43mlogit_bias\u001b[49m\u001b[43m,\u001b[49m\n\u001b[1;32m    677\u001b[0m \u001b[43m                \u001b[49m\u001b[38;5;124;43m\"\u001b[39;49m\u001b[38;5;124;43mlogprobs\u001b[39;49m\u001b[38;5;124;43m\"\u001b[39;49m\u001b[43m:\u001b[49m\u001b[43m \u001b[49m\u001b[43mlogprobs\u001b[49m\u001b[43m,\u001b[49m\n\u001b[1;32m    678\u001b[0m \u001b[43m                \u001b[49m\u001b[38;5;124;43m\"\u001b[39;49m\u001b[38;5;124;43mmax_tokens\u001b[39;49m\u001b[38;5;124;43m\"\u001b[39;49m\u001b[43m:\u001b[49m\u001b[43m \u001b[49m\u001b[43mmax_tokens\u001b[49m\u001b[43m,\u001b[49m\n\u001b[1;32m    679\u001b[0m \u001b[43m                \u001b[49m\u001b[38;5;124;43m\"\u001b[39;49m\u001b[38;5;124;43mn\u001b[39;49m\u001b[38;5;124;43m\"\u001b[39;49m\u001b[43m:\u001b[49m\u001b[43m \u001b[49m\u001b[43mn\u001b[49m\u001b[43m,\u001b[49m\n\u001b[1;32m    680\u001b[0m \u001b[43m                \u001b[49m\u001b[38;5;124;43m\"\u001b[39;49m\u001b[38;5;124;43mpresence_penalty\u001b[39;49m\u001b[38;5;124;43m\"\u001b[39;49m\u001b[43m:\u001b[49m\u001b[43m \u001b[49m\u001b[43mpresence_penalty\u001b[49m\u001b[43m,\u001b[49m\n\u001b[1;32m    681\u001b[0m \u001b[43m                \u001b[49m\u001b[38;5;124;43m\"\u001b[39;49m\u001b[38;5;124;43mresponse_format\u001b[39;49m\u001b[38;5;124;43m\"\u001b[39;49m\u001b[43m:\u001b[49m\u001b[43m \u001b[49m\u001b[43mresponse_format\u001b[49m\u001b[43m,\u001b[49m\n\u001b[1;32m    682\u001b[0m \u001b[43m                \u001b[49m\u001b[38;5;124;43m\"\u001b[39;49m\u001b[38;5;124;43mseed\u001b[39;49m\u001b[38;5;124;43m\"\u001b[39;49m\u001b[43m:\u001b[49m\u001b[43m \u001b[49m\u001b[43mseed\u001b[49m\u001b[43m,\u001b[49m\n\u001b[1;32m    683\u001b[0m \u001b[43m                \u001b[49m\u001b[38;5;124;43m\"\u001b[39;49m\u001b[38;5;124;43mstop\u001b[39;49m\u001b[38;5;124;43m\"\u001b[39;49m\u001b[43m:\u001b[49m\u001b[43m \u001b[49m\u001b[43mstop\u001b[49m\u001b[43m,\u001b[49m\n\u001b[1;32m    684\u001b[0m \u001b[43m                \u001b[49m\u001b[38;5;124;43m\"\u001b[39;49m\u001b[38;5;124;43mstream\u001b[39;49m\u001b[38;5;124;43m\"\u001b[39;49m\u001b[43m:\u001b[49m\u001b[43m \u001b[49m\u001b[43mstream\u001b[49m\u001b[43m,\u001b[49m\n\u001b[1;32m    685\u001b[0m \u001b[43m                \u001b[49m\u001b[38;5;124;43m\"\u001b[39;49m\u001b[38;5;124;43mtemperature\u001b[39;49m\u001b[38;5;124;43m\"\u001b[39;49m\u001b[43m:\u001b[49m\u001b[43m \u001b[49m\u001b[43mtemperature\u001b[49m\u001b[43m,\u001b[49m\n\u001b[1;32m    686\u001b[0m \u001b[43m                \u001b[49m\u001b[38;5;124;43m\"\u001b[39;49m\u001b[38;5;124;43mtool_choice\u001b[39;49m\u001b[38;5;124;43m\"\u001b[39;49m\u001b[43m:\u001b[49m\u001b[43m \u001b[49m\u001b[43mtool_choice\u001b[49m\u001b[43m,\u001b[49m\n\u001b[1;32m    687\u001b[0m \u001b[43m                \u001b[49m\u001b[38;5;124;43m\"\u001b[39;49m\u001b[38;5;124;43mtools\u001b[39;49m\u001b[38;5;124;43m\"\u001b[39;49m\u001b[43m:\u001b[49m\u001b[43m \u001b[49m\u001b[43mtools\u001b[49m\u001b[43m,\u001b[49m\n\u001b[1;32m    688\u001b[0m \u001b[43m                \u001b[49m\u001b[38;5;124;43m\"\u001b[39;49m\u001b[38;5;124;43mtop_logprobs\u001b[39;49m\u001b[38;5;124;43m\"\u001b[39;49m\u001b[43m:\u001b[49m\u001b[43m \u001b[49m\u001b[43mtop_logprobs\u001b[49m\u001b[43m,\u001b[49m\n\u001b[1;32m    689\u001b[0m \u001b[43m                \u001b[49m\u001b[38;5;124;43m\"\u001b[39;49m\u001b[38;5;124;43mtop_p\u001b[39;49m\u001b[38;5;124;43m\"\u001b[39;49m\u001b[43m:\u001b[49m\u001b[43m \u001b[49m\u001b[43mtop_p\u001b[49m\u001b[43m,\u001b[49m\n\u001b[1;32m    690\u001b[0m \u001b[43m                \u001b[49m\u001b[38;5;124;43m\"\u001b[39;49m\u001b[38;5;124;43muser\u001b[39;49m\u001b[38;5;124;43m\"\u001b[39;49m\u001b[43m:\u001b[49m\u001b[43m \u001b[49m\u001b[43muser\u001b[49m\u001b[43m,\u001b[49m\n\u001b[1;32m    691\u001b[0m \u001b[43m            \u001b[49m\u001b[43m}\u001b[49m\u001b[43m,\u001b[49m\n\u001b[1;32m    692\u001b[0m \u001b[43m            \u001b[49m\u001b[43mcompletion_create_params\u001b[49m\u001b[38;5;241;43m.\u001b[39;49m\u001b[43mCompletionCreateParams\u001b[49m\u001b[43m,\u001b[49m\n\u001b[1;32m    693\u001b[0m \u001b[43m        \u001b[49m\u001b[43m)\u001b[49m\u001b[43m,\u001b[49m\n\u001b[1;32m    694\u001b[0m \u001b[43m        \u001b[49m\u001b[43moptions\u001b[49m\u001b[38;5;241;43m=\u001b[39;49m\u001b[43mmake_request_options\u001b[49m\u001b[43m(\u001b[49m\n\u001b[1;32m    695\u001b[0m \u001b[43m            \u001b[49m\u001b[43mextra_headers\u001b[49m\u001b[38;5;241;43m=\u001b[39;49m\u001b[43mextra_headers\u001b[49m\u001b[43m,\u001b[49m\u001b[43m \u001b[49m\u001b[43mextra_query\u001b[49m\u001b[38;5;241;43m=\u001b[39;49m\u001b[43mextra_query\u001b[49m\u001b[43m,\u001b[49m\u001b[43m \u001b[49m\u001b[43mextra_body\u001b[49m\u001b[38;5;241;43m=\u001b[39;49m\u001b[43mextra_body\u001b[49m\u001b[43m,\u001b[49m\u001b[43m \u001b[49m\u001b[43mtimeout\u001b[49m\u001b[38;5;241;43m=\u001b[39;49m\u001b[43mtimeout\u001b[49m\n\u001b[1;32m    696\u001b[0m \u001b[43m        \u001b[49m\u001b[43m)\u001b[49m\u001b[43m,\u001b[49m\n\u001b[1;32m    697\u001b[0m \u001b[43m        \u001b[49m\u001b[43mcast_to\u001b[49m\u001b[38;5;241;43m=\u001b[39;49m\u001b[43mChatCompletion\u001b[49m\u001b[43m,\u001b[49m\n\u001b[1;32m    698\u001b[0m \u001b[43m        \u001b[49m\u001b[43mstream\u001b[49m\u001b[38;5;241;43m=\u001b[39;49m\u001b[43mstream\u001b[49m\u001b[43m \u001b[49m\u001b[38;5;129;43;01mor\u001b[39;49;00m\u001b[43m \u001b[49m\u001b[38;5;28;43;01mFalse\u001b[39;49;00m\u001b[43m,\u001b[49m\n\u001b[1;32m    699\u001b[0m \u001b[43m        \u001b[49m\u001b[43mstream_cls\u001b[49m\u001b[38;5;241;43m=\u001b[39;49m\u001b[43mStream\u001b[49m\u001b[43m[\u001b[49m\u001b[43mChatCompletionChunk\u001b[49m\u001b[43m]\u001b[49m\u001b[43m,\u001b[49m\n\u001b[1;32m    700\u001b[0m \u001b[43m    \u001b[49m\u001b[43m)\u001b[49m\n",
      "File \u001b[0;32m~/Art Roubeaux/Python/Augusto/.venv/lib/python3.9/site-packages/openai/_base_client.py:1208\u001b[0m, in \u001b[0;36mSyncAPIClient.post\u001b[0;34m(self, path, cast_to, body, options, files, stream, stream_cls)\u001b[0m\n\u001b[1;32m   1194\u001b[0m \u001b[38;5;28;01mdef\u001b[39;00m \u001b[38;5;21mpost\u001b[39m(\n\u001b[1;32m   1195\u001b[0m     \u001b[38;5;28mself\u001b[39m,\n\u001b[1;32m   1196\u001b[0m     path: \u001b[38;5;28mstr\u001b[39m,\n\u001b[0;32m   (...)\u001b[0m\n\u001b[1;32m   1203\u001b[0m     stream_cls: \u001b[38;5;28mtype\u001b[39m[_StreamT] \u001b[38;5;241m|\u001b[39m \u001b[38;5;28;01mNone\u001b[39;00m \u001b[38;5;241m=\u001b[39m \u001b[38;5;28;01mNone\u001b[39;00m,\n\u001b[1;32m   1204\u001b[0m ) \u001b[38;5;241m-\u001b[39m\u001b[38;5;241m>\u001b[39m ResponseT \u001b[38;5;241m|\u001b[39m _StreamT:\n\u001b[1;32m   1205\u001b[0m     opts \u001b[38;5;241m=\u001b[39m FinalRequestOptions\u001b[38;5;241m.\u001b[39mconstruct(\n\u001b[1;32m   1206\u001b[0m         method\u001b[38;5;241m=\u001b[39m\u001b[38;5;124m\"\u001b[39m\u001b[38;5;124mpost\u001b[39m\u001b[38;5;124m\"\u001b[39m, url\u001b[38;5;241m=\u001b[39mpath, json_data\u001b[38;5;241m=\u001b[39mbody, files\u001b[38;5;241m=\u001b[39mto_httpx_files(files), \u001b[38;5;241m*\u001b[39m\u001b[38;5;241m*\u001b[39moptions\n\u001b[1;32m   1207\u001b[0m     )\n\u001b[0;32m-> 1208\u001b[0m     \u001b[38;5;28;01mreturn\u001b[39;00m cast(ResponseT, \u001b[38;5;28;43mself\u001b[39;49m\u001b[38;5;241;43m.\u001b[39;49m\u001b[43mrequest\u001b[49m\u001b[43m(\u001b[49m\u001b[43mcast_to\u001b[49m\u001b[43m,\u001b[49m\u001b[43m \u001b[49m\u001b[43mopts\u001b[49m\u001b[43m,\u001b[49m\u001b[43m \u001b[49m\u001b[43mstream\u001b[49m\u001b[38;5;241;43m=\u001b[39;49m\u001b[43mstream\u001b[49m\u001b[43m,\u001b[49m\u001b[43m \u001b[49m\u001b[43mstream_cls\u001b[49m\u001b[38;5;241;43m=\u001b[39;49m\u001b[43mstream_cls\u001b[49m\u001b[43m)\u001b[49m)\n",
      "File \u001b[0;32m~/Art Roubeaux/Python/Augusto/.venv/lib/python3.9/site-packages/openai/_base_client.py:897\u001b[0m, in \u001b[0;36mSyncAPIClient.request\u001b[0;34m(self, cast_to, options, remaining_retries, stream, stream_cls)\u001b[0m\n\u001b[1;32m    888\u001b[0m \u001b[38;5;28;01mdef\u001b[39;00m \u001b[38;5;21mrequest\u001b[39m(\n\u001b[1;32m    889\u001b[0m     \u001b[38;5;28mself\u001b[39m,\n\u001b[1;32m    890\u001b[0m     cast_to: Type[ResponseT],\n\u001b[0;32m   (...)\u001b[0m\n\u001b[1;32m    895\u001b[0m     stream_cls: \u001b[38;5;28mtype\u001b[39m[_StreamT] \u001b[38;5;241m|\u001b[39m \u001b[38;5;28;01mNone\u001b[39;00m \u001b[38;5;241m=\u001b[39m \u001b[38;5;28;01mNone\u001b[39;00m,\n\u001b[1;32m    896\u001b[0m ) \u001b[38;5;241m-\u001b[39m\u001b[38;5;241m>\u001b[39m ResponseT \u001b[38;5;241m|\u001b[39m _StreamT:\n\u001b[0;32m--> 897\u001b[0m     \u001b[38;5;28;01mreturn\u001b[39;00m \u001b[38;5;28;43mself\u001b[39;49m\u001b[38;5;241;43m.\u001b[39;49m\u001b[43m_request\u001b[49m\u001b[43m(\u001b[49m\n\u001b[1;32m    898\u001b[0m \u001b[43m        \u001b[49m\u001b[43mcast_to\u001b[49m\u001b[38;5;241;43m=\u001b[39;49m\u001b[43mcast_to\u001b[49m\u001b[43m,\u001b[49m\n\u001b[1;32m    899\u001b[0m \u001b[43m        \u001b[49m\u001b[43moptions\u001b[49m\u001b[38;5;241;43m=\u001b[39;49m\u001b[43moptions\u001b[49m\u001b[43m,\u001b[49m\n\u001b[1;32m    900\u001b[0m \u001b[43m        \u001b[49m\u001b[43mstream\u001b[49m\u001b[38;5;241;43m=\u001b[39;49m\u001b[43mstream\u001b[49m\u001b[43m,\u001b[49m\n\u001b[1;32m    901\u001b[0m \u001b[43m        \u001b[49m\u001b[43mstream_cls\u001b[49m\u001b[38;5;241;43m=\u001b[39;49m\u001b[43mstream_cls\u001b[49m\u001b[43m,\u001b[49m\n\u001b[1;32m    902\u001b[0m \u001b[43m        \u001b[49m\u001b[43mremaining_retries\u001b[49m\u001b[38;5;241;43m=\u001b[39;49m\u001b[43mremaining_retries\u001b[49m\u001b[43m,\u001b[49m\n\u001b[1;32m    903\u001b[0m \u001b[43m    \u001b[49m\u001b[43m)\u001b[49m\n",
      "File \u001b[0;32m~/Art Roubeaux/Python/Augusto/.venv/lib/python3.9/site-packages/openai/_base_client.py:926\u001b[0m, in \u001b[0;36mSyncAPIClient._request\u001b[0;34m(self, cast_to, options, remaining_retries, stream, stream_cls)\u001b[0m\n\u001b[1;32m    923\u001b[0m     kwargs[\u001b[38;5;124m\"\u001b[39m\u001b[38;5;124mauth\u001b[39m\u001b[38;5;124m\"\u001b[39m] \u001b[38;5;241m=\u001b[39m \u001b[38;5;28mself\u001b[39m\u001b[38;5;241m.\u001b[39mcustom_auth\n\u001b[1;32m    925\u001b[0m \u001b[38;5;28;01mtry\u001b[39;00m:\n\u001b[0;32m--> 926\u001b[0m     response \u001b[38;5;241m=\u001b[39m \u001b[38;5;28;43mself\u001b[39;49m\u001b[38;5;241;43m.\u001b[39;49m\u001b[43m_client\u001b[49m\u001b[38;5;241;43m.\u001b[39;49m\u001b[43msend\u001b[49m\u001b[43m(\u001b[49m\n\u001b[1;32m    927\u001b[0m \u001b[43m        \u001b[49m\u001b[43mrequest\u001b[49m\u001b[43m,\u001b[49m\n\u001b[1;32m    928\u001b[0m \u001b[43m        \u001b[49m\u001b[43mstream\u001b[49m\u001b[38;5;241;43m=\u001b[39;49m\u001b[43mstream\u001b[49m\u001b[43m \u001b[49m\u001b[38;5;129;43;01mor\u001b[39;49;00m\u001b[43m \u001b[49m\u001b[38;5;28;43mself\u001b[39;49m\u001b[38;5;241;43m.\u001b[39;49m\u001b[43m_should_stream_response_body\u001b[49m\u001b[43m(\u001b[49m\u001b[43mrequest\u001b[49m\u001b[38;5;241;43m=\u001b[39;49m\u001b[43mrequest\u001b[49m\u001b[43m)\u001b[49m\u001b[43m,\u001b[49m\n\u001b[1;32m    929\u001b[0m \u001b[43m        \u001b[49m\u001b[38;5;241;43m*\u001b[39;49m\u001b[38;5;241;43m*\u001b[39;49m\u001b[43mkwargs\u001b[49m\u001b[43m,\u001b[49m\n\u001b[1;32m    930\u001b[0m \u001b[43m    \u001b[49m\u001b[43m)\u001b[49m\n\u001b[1;32m    931\u001b[0m \u001b[38;5;28;01mexcept\u001b[39;00m httpx\u001b[38;5;241m.\u001b[39mTimeoutException \u001b[38;5;28;01mas\u001b[39;00m err:\n\u001b[1;32m    932\u001b[0m     log\u001b[38;5;241m.\u001b[39mdebug(\u001b[38;5;124m\"\u001b[39m\u001b[38;5;124mEncountered httpx.TimeoutException\u001b[39m\u001b[38;5;124m\"\u001b[39m, exc_info\u001b[38;5;241m=\u001b[39m\u001b[38;5;28;01mTrue\u001b[39;00m)\n",
      "File \u001b[0;32m~/Art Roubeaux/Python/Augusto/.venv/lib/python3.9/site-packages/httpx/_client.py:914\u001b[0m, in \u001b[0;36mClient.send\u001b[0;34m(self, request, stream, auth, follow_redirects)\u001b[0m\n\u001b[1;32m    906\u001b[0m follow_redirects \u001b[38;5;241m=\u001b[39m (\n\u001b[1;32m    907\u001b[0m     \u001b[38;5;28mself\u001b[39m\u001b[38;5;241m.\u001b[39mfollow_redirects\n\u001b[1;32m    908\u001b[0m     \u001b[38;5;28;01mif\u001b[39;00m \u001b[38;5;28misinstance\u001b[39m(follow_redirects, UseClientDefault)\n\u001b[1;32m    909\u001b[0m     \u001b[38;5;28;01melse\u001b[39;00m follow_redirects\n\u001b[1;32m    910\u001b[0m )\n\u001b[1;32m    912\u001b[0m auth \u001b[38;5;241m=\u001b[39m \u001b[38;5;28mself\u001b[39m\u001b[38;5;241m.\u001b[39m_build_request_auth(request, auth)\n\u001b[0;32m--> 914\u001b[0m response \u001b[38;5;241m=\u001b[39m \u001b[38;5;28;43mself\u001b[39;49m\u001b[38;5;241;43m.\u001b[39;49m\u001b[43m_send_handling_auth\u001b[49m\u001b[43m(\u001b[49m\n\u001b[1;32m    915\u001b[0m \u001b[43m    \u001b[49m\u001b[43mrequest\u001b[49m\u001b[43m,\u001b[49m\n\u001b[1;32m    916\u001b[0m \u001b[43m    \u001b[49m\u001b[43mauth\u001b[49m\u001b[38;5;241;43m=\u001b[39;49m\u001b[43mauth\u001b[49m\u001b[43m,\u001b[49m\n\u001b[1;32m    917\u001b[0m \u001b[43m    \u001b[49m\u001b[43mfollow_redirects\u001b[49m\u001b[38;5;241;43m=\u001b[39;49m\u001b[43mfollow_redirects\u001b[49m\u001b[43m,\u001b[49m\n\u001b[1;32m    918\u001b[0m \u001b[43m    \u001b[49m\u001b[43mhistory\u001b[49m\u001b[38;5;241;43m=\u001b[39;49m\u001b[43m[\u001b[49m\u001b[43m]\u001b[49m\u001b[43m,\u001b[49m\n\u001b[1;32m    919\u001b[0m \u001b[43m\u001b[49m\u001b[43m)\u001b[49m\n\u001b[1;32m    920\u001b[0m \u001b[38;5;28;01mtry\u001b[39;00m:\n\u001b[1;32m    921\u001b[0m     \u001b[38;5;28;01mif\u001b[39;00m \u001b[38;5;129;01mnot\u001b[39;00m stream:\n",
      "File \u001b[0;32m~/Art Roubeaux/Python/Augusto/.venv/lib/python3.9/site-packages/httpx/_client.py:942\u001b[0m, in \u001b[0;36mClient._send_handling_auth\u001b[0;34m(self, request, auth, follow_redirects, history)\u001b[0m\n\u001b[1;32m    939\u001b[0m request \u001b[38;5;241m=\u001b[39m \u001b[38;5;28mnext\u001b[39m(auth_flow)\n\u001b[1;32m    941\u001b[0m \u001b[38;5;28;01mwhile\u001b[39;00m \u001b[38;5;28;01mTrue\u001b[39;00m:\n\u001b[0;32m--> 942\u001b[0m     response \u001b[38;5;241m=\u001b[39m \u001b[38;5;28;43mself\u001b[39;49m\u001b[38;5;241;43m.\u001b[39;49m\u001b[43m_send_handling_redirects\u001b[49m\u001b[43m(\u001b[49m\n\u001b[1;32m    943\u001b[0m \u001b[43m        \u001b[49m\u001b[43mrequest\u001b[49m\u001b[43m,\u001b[49m\n\u001b[1;32m    944\u001b[0m \u001b[43m        \u001b[49m\u001b[43mfollow_redirects\u001b[49m\u001b[38;5;241;43m=\u001b[39;49m\u001b[43mfollow_redirects\u001b[49m\u001b[43m,\u001b[49m\n\u001b[1;32m    945\u001b[0m \u001b[43m        \u001b[49m\u001b[43mhistory\u001b[49m\u001b[38;5;241;43m=\u001b[39;49m\u001b[43mhistory\u001b[49m\u001b[43m,\u001b[49m\n\u001b[1;32m    946\u001b[0m \u001b[43m    \u001b[49m\u001b[43m)\u001b[49m\n\u001b[1;32m    947\u001b[0m     \u001b[38;5;28;01mtry\u001b[39;00m:\n\u001b[1;32m    948\u001b[0m         \u001b[38;5;28;01mtry\u001b[39;00m:\n",
      "File \u001b[0;32m~/Art Roubeaux/Python/Augusto/.venv/lib/python3.9/site-packages/httpx/_client.py:979\u001b[0m, in \u001b[0;36mClient._send_handling_redirects\u001b[0;34m(self, request, follow_redirects, history)\u001b[0m\n\u001b[1;32m    976\u001b[0m \u001b[38;5;28;01mfor\u001b[39;00m hook \u001b[38;5;129;01min\u001b[39;00m \u001b[38;5;28mself\u001b[39m\u001b[38;5;241m.\u001b[39m_event_hooks[\u001b[38;5;124m\"\u001b[39m\u001b[38;5;124mrequest\u001b[39m\u001b[38;5;124m\"\u001b[39m]:\n\u001b[1;32m    977\u001b[0m     hook(request)\n\u001b[0;32m--> 979\u001b[0m response \u001b[38;5;241m=\u001b[39m \u001b[38;5;28;43mself\u001b[39;49m\u001b[38;5;241;43m.\u001b[39;49m\u001b[43m_send_single_request\u001b[49m\u001b[43m(\u001b[49m\u001b[43mrequest\u001b[49m\u001b[43m)\u001b[49m\n\u001b[1;32m    980\u001b[0m \u001b[38;5;28;01mtry\u001b[39;00m:\n\u001b[1;32m    981\u001b[0m     \u001b[38;5;28;01mfor\u001b[39;00m hook \u001b[38;5;129;01min\u001b[39;00m \u001b[38;5;28mself\u001b[39m\u001b[38;5;241m.\u001b[39m_event_hooks[\u001b[38;5;124m\"\u001b[39m\u001b[38;5;124mresponse\u001b[39m\u001b[38;5;124m\"\u001b[39m]:\n",
      "File \u001b[0;32m~/Art Roubeaux/Python/Augusto/.venv/lib/python3.9/site-packages/httpx/_client.py:1015\u001b[0m, in \u001b[0;36mClient._send_single_request\u001b[0;34m(self, request)\u001b[0m\n\u001b[1;32m   1010\u001b[0m     \u001b[38;5;28;01mraise\u001b[39;00m \u001b[38;5;167;01mRuntimeError\u001b[39;00m(\n\u001b[1;32m   1011\u001b[0m         \u001b[38;5;124m\"\u001b[39m\u001b[38;5;124mAttempted to send an async request with a sync Client instance.\u001b[39m\u001b[38;5;124m\"\u001b[39m\n\u001b[1;32m   1012\u001b[0m     )\n\u001b[1;32m   1014\u001b[0m \u001b[38;5;28;01mwith\u001b[39;00m request_context(request\u001b[38;5;241m=\u001b[39mrequest):\n\u001b[0;32m-> 1015\u001b[0m     response \u001b[38;5;241m=\u001b[39m \u001b[43mtransport\u001b[49m\u001b[38;5;241;43m.\u001b[39;49m\u001b[43mhandle_request\u001b[49m\u001b[43m(\u001b[49m\u001b[43mrequest\u001b[49m\u001b[43m)\u001b[49m\n\u001b[1;32m   1017\u001b[0m \u001b[38;5;28;01massert\u001b[39;00m \u001b[38;5;28misinstance\u001b[39m(response\u001b[38;5;241m.\u001b[39mstream, SyncByteStream)\n\u001b[1;32m   1019\u001b[0m response\u001b[38;5;241m.\u001b[39mrequest \u001b[38;5;241m=\u001b[39m request\n",
      "File \u001b[0;32m~/Art Roubeaux/Python/Augusto/.venv/lib/python3.9/site-packages/httpx/_transports/default.py:233\u001b[0m, in \u001b[0;36mHTTPTransport.handle_request\u001b[0;34m(self, request)\u001b[0m\n\u001b[1;32m    220\u001b[0m req \u001b[38;5;241m=\u001b[39m httpcore\u001b[38;5;241m.\u001b[39mRequest(\n\u001b[1;32m    221\u001b[0m     method\u001b[38;5;241m=\u001b[39mrequest\u001b[38;5;241m.\u001b[39mmethod,\n\u001b[1;32m    222\u001b[0m     url\u001b[38;5;241m=\u001b[39mhttpcore\u001b[38;5;241m.\u001b[39mURL(\n\u001b[0;32m   (...)\u001b[0m\n\u001b[1;32m    230\u001b[0m     extensions\u001b[38;5;241m=\u001b[39mrequest\u001b[38;5;241m.\u001b[39mextensions,\n\u001b[1;32m    231\u001b[0m )\n\u001b[1;32m    232\u001b[0m \u001b[38;5;28;01mwith\u001b[39;00m map_httpcore_exceptions():\n\u001b[0;32m--> 233\u001b[0m     resp \u001b[38;5;241m=\u001b[39m \u001b[38;5;28;43mself\u001b[39;49m\u001b[38;5;241;43m.\u001b[39;49m\u001b[43m_pool\u001b[49m\u001b[38;5;241;43m.\u001b[39;49m\u001b[43mhandle_request\u001b[49m\u001b[43m(\u001b[49m\u001b[43mreq\u001b[49m\u001b[43m)\u001b[49m\n\u001b[1;32m    235\u001b[0m \u001b[38;5;28;01massert\u001b[39;00m \u001b[38;5;28misinstance\u001b[39m(resp\u001b[38;5;241m.\u001b[39mstream, typing\u001b[38;5;241m.\u001b[39mIterable)\n\u001b[1;32m    237\u001b[0m \u001b[38;5;28;01mreturn\u001b[39;00m Response(\n\u001b[1;32m    238\u001b[0m     status_code\u001b[38;5;241m=\u001b[39mresp\u001b[38;5;241m.\u001b[39mstatus,\n\u001b[1;32m    239\u001b[0m     headers\u001b[38;5;241m=\u001b[39mresp\u001b[38;5;241m.\u001b[39mheaders,\n\u001b[1;32m    240\u001b[0m     stream\u001b[38;5;241m=\u001b[39mResponseStream(resp\u001b[38;5;241m.\u001b[39mstream),\n\u001b[1;32m    241\u001b[0m     extensions\u001b[38;5;241m=\u001b[39mresp\u001b[38;5;241m.\u001b[39mextensions,\n\u001b[1;32m    242\u001b[0m )\n",
      "File \u001b[0;32m~/Art Roubeaux/Python/Augusto/.venv/lib/python3.9/site-packages/httpcore/_sync/connection_pool.py:216\u001b[0m, in \u001b[0;36mConnectionPool.handle_request\u001b[0;34m(self, request)\u001b[0m\n\u001b[1;32m    213\u001b[0m         closing \u001b[38;5;241m=\u001b[39m \u001b[38;5;28mself\u001b[39m\u001b[38;5;241m.\u001b[39m_assign_requests_to_connections()\n\u001b[1;32m    215\u001b[0m     \u001b[38;5;28mself\u001b[39m\u001b[38;5;241m.\u001b[39m_close_connections(closing)\n\u001b[0;32m--> 216\u001b[0m     \u001b[38;5;28;01mraise\u001b[39;00m exc \u001b[38;5;28;01mfrom\u001b[39;00m \u001b[38;5;28;01mNone\u001b[39;00m\n\u001b[1;32m    218\u001b[0m \u001b[38;5;66;03m# Return the response. Note that in this case we still have to manage\u001b[39;00m\n\u001b[1;32m    219\u001b[0m \u001b[38;5;66;03m# the point at which the response is closed.\u001b[39;00m\n\u001b[1;32m    220\u001b[0m \u001b[38;5;28;01massert\u001b[39;00m \u001b[38;5;28misinstance\u001b[39m(response\u001b[38;5;241m.\u001b[39mstream, Iterable)\n",
      "File \u001b[0;32m~/Art Roubeaux/Python/Augusto/.venv/lib/python3.9/site-packages/httpcore/_sync/connection_pool.py:196\u001b[0m, in \u001b[0;36mConnectionPool.handle_request\u001b[0;34m(self, request)\u001b[0m\n\u001b[1;32m    192\u001b[0m connection \u001b[38;5;241m=\u001b[39m pool_request\u001b[38;5;241m.\u001b[39mwait_for_connection(timeout\u001b[38;5;241m=\u001b[39mtimeout)\n\u001b[1;32m    194\u001b[0m \u001b[38;5;28;01mtry\u001b[39;00m:\n\u001b[1;32m    195\u001b[0m     \u001b[38;5;66;03m# Send the request on the assigned connection.\u001b[39;00m\n\u001b[0;32m--> 196\u001b[0m     response \u001b[38;5;241m=\u001b[39m \u001b[43mconnection\u001b[49m\u001b[38;5;241;43m.\u001b[39;49m\u001b[43mhandle_request\u001b[49m\u001b[43m(\u001b[49m\n\u001b[1;32m    197\u001b[0m \u001b[43m        \u001b[49m\u001b[43mpool_request\u001b[49m\u001b[38;5;241;43m.\u001b[39;49m\u001b[43mrequest\u001b[49m\n\u001b[1;32m    198\u001b[0m \u001b[43m    \u001b[49m\u001b[43m)\u001b[49m\n\u001b[1;32m    199\u001b[0m \u001b[38;5;28;01mexcept\u001b[39;00m ConnectionNotAvailable:\n\u001b[1;32m    200\u001b[0m     \u001b[38;5;66;03m# In some cases a connection may initially be available to\u001b[39;00m\n\u001b[1;32m    201\u001b[0m     \u001b[38;5;66;03m# handle a request, but then become unavailable.\u001b[39;00m\n\u001b[1;32m    202\u001b[0m     \u001b[38;5;66;03m#\u001b[39;00m\n\u001b[1;32m    203\u001b[0m     \u001b[38;5;66;03m# In this case we clear the connection and try again.\u001b[39;00m\n\u001b[1;32m    204\u001b[0m     pool_request\u001b[38;5;241m.\u001b[39mclear_connection()\n",
      "File \u001b[0;32m~/Art Roubeaux/Python/Augusto/.venv/lib/python3.9/site-packages/httpcore/_sync/connection.py:101\u001b[0m, in \u001b[0;36mHTTPConnection.handle_request\u001b[0;34m(self, request)\u001b[0m\n\u001b[1;32m     98\u001b[0m     \u001b[38;5;28mself\u001b[39m\u001b[38;5;241m.\u001b[39m_connect_failed \u001b[38;5;241m=\u001b[39m \u001b[38;5;28;01mTrue\u001b[39;00m\n\u001b[1;32m     99\u001b[0m     \u001b[38;5;28;01mraise\u001b[39;00m exc\n\u001b[0;32m--> 101\u001b[0m \u001b[38;5;28;01mreturn\u001b[39;00m \u001b[38;5;28;43mself\u001b[39;49m\u001b[38;5;241;43m.\u001b[39;49m\u001b[43m_connection\u001b[49m\u001b[38;5;241;43m.\u001b[39;49m\u001b[43mhandle_request\u001b[49m\u001b[43m(\u001b[49m\u001b[43mrequest\u001b[49m\u001b[43m)\u001b[49m\n",
      "File \u001b[0;32m~/Art Roubeaux/Python/Augusto/.venv/lib/python3.9/site-packages/httpcore/_sync/http11.py:143\u001b[0m, in \u001b[0;36mHTTP11Connection.handle_request\u001b[0;34m(self, request)\u001b[0m\n\u001b[1;32m    141\u001b[0m     \u001b[38;5;28;01mwith\u001b[39;00m Trace(\u001b[38;5;124m\"\u001b[39m\u001b[38;5;124mresponse_closed\u001b[39m\u001b[38;5;124m\"\u001b[39m, logger, request) \u001b[38;5;28;01mas\u001b[39;00m trace:\n\u001b[1;32m    142\u001b[0m         \u001b[38;5;28mself\u001b[39m\u001b[38;5;241m.\u001b[39m_response_closed()\n\u001b[0;32m--> 143\u001b[0m \u001b[38;5;28;01mraise\u001b[39;00m exc\n",
      "File \u001b[0;32m~/Art Roubeaux/Python/Augusto/.venv/lib/python3.9/site-packages/httpcore/_sync/http11.py:113\u001b[0m, in \u001b[0;36mHTTP11Connection.handle_request\u001b[0;34m(self, request)\u001b[0m\n\u001b[1;32m    102\u001b[0m     \u001b[38;5;28;01mpass\u001b[39;00m\n\u001b[1;32m    104\u001b[0m \u001b[38;5;28;01mwith\u001b[39;00m Trace(\n\u001b[1;32m    105\u001b[0m     \u001b[38;5;124m\"\u001b[39m\u001b[38;5;124mreceive_response_headers\u001b[39m\u001b[38;5;124m\"\u001b[39m, logger, request, kwargs\n\u001b[1;32m    106\u001b[0m ) \u001b[38;5;28;01mas\u001b[39;00m trace:\n\u001b[1;32m    107\u001b[0m     (\n\u001b[1;32m    108\u001b[0m         http_version,\n\u001b[1;32m    109\u001b[0m         status,\n\u001b[1;32m    110\u001b[0m         reason_phrase,\n\u001b[1;32m    111\u001b[0m         headers,\n\u001b[1;32m    112\u001b[0m         trailing_data,\n\u001b[0;32m--> 113\u001b[0m     ) \u001b[38;5;241m=\u001b[39m \u001b[38;5;28;43mself\u001b[39;49m\u001b[38;5;241;43m.\u001b[39;49m\u001b[43m_receive_response_headers\u001b[49m\u001b[43m(\u001b[49m\u001b[38;5;241;43m*\u001b[39;49m\u001b[38;5;241;43m*\u001b[39;49m\u001b[43mkwargs\u001b[49m\u001b[43m)\u001b[49m\n\u001b[1;32m    114\u001b[0m     trace\u001b[38;5;241m.\u001b[39mreturn_value \u001b[38;5;241m=\u001b[39m (\n\u001b[1;32m    115\u001b[0m         http_version,\n\u001b[1;32m    116\u001b[0m         status,\n\u001b[1;32m    117\u001b[0m         reason_phrase,\n\u001b[1;32m    118\u001b[0m         headers,\n\u001b[1;32m    119\u001b[0m     )\n\u001b[1;32m    121\u001b[0m network_stream \u001b[38;5;241m=\u001b[39m \u001b[38;5;28mself\u001b[39m\u001b[38;5;241m.\u001b[39m_network_stream\n",
      "File \u001b[0;32m~/Art Roubeaux/Python/Augusto/.venv/lib/python3.9/site-packages/httpcore/_sync/http11.py:186\u001b[0m, in \u001b[0;36mHTTP11Connection._receive_response_headers\u001b[0;34m(self, request)\u001b[0m\n\u001b[1;32m    183\u001b[0m timeout \u001b[38;5;241m=\u001b[39m timeouts\u001b[38;5;241m.\u001b[39mget(\u001b[38;5;124m\"\u001b[39m\u001b[38;5;124mread\u001b[39m\u001b[38;5;124m\"\u001b[39m, \u001b[38;5;28;01mNone\u001b[39;00m)\n\u001b[1;32m    185\u001b[0m \u001b[38;5;28;01mwhile\u001b[39;00m \u001b[38;5;28;01mTrue\u001b[39;00m:\n\u001b[0;32m--> 186\u001b[0m     event \u001b[38;5;241m=\u001b[39m \u001b[38;5;28;43mself\u001b[39;49m\u001b[38;5;241;43m.\u001b[39;49m\u001b[43m_receive_event\u001b[49m\u001b[43m(\u001b[49m\u001b[43mtimeout\u001b[49m\u001b[38;5;241;43m=\u001b[39;49m\u001b[43mtimeout\u001b[49m\u001b[43m)\u001b[49m\n\u001b[1;32m    187\u001b[0m     \u001b[38;5;28;01mif\u001b[39;00m \u001b[38;5;28misinstance\u001b[39m(event, h11\u001b[38;5;241m.\u001b[39mResponse):\n\u001b[1;32m    188\u001b[0m         \u001b[38;5;28;01mbreak\u001b[39;00m\n",
      "File \u001b[0;32m~/Art Roubeaux/Python/Augusto/.venv/lib/python3.9/site-packages/httpcore/_sync/http11.py:224\u001b[0m, in \u001b[0;36mHTTP11Connection._receive_event\u001b[0;34m(self, timeout)\u001b[0m\n\u001b[1;32m    221\u001b[0m     event \u001b[38;5;241m=\u001b[39m \u001b[38;5;28mself\u001b[39m\u001b[38;5;241m.\u001b[39m_h11_state\u001b[38;5;241m.\u001b[39mnext_event()\n\u001b[1;32m    223\u001b[0m \u001b[38;5;28;01mif\u001b[39;00m event \u001b[38;5;129;01mis\u001b[39;00m h11\u001b[38;5;241m.\u001b[39mNEED_DATA:\n\u001b[0;32m--> 224\u001b[0m     data \u001b[38;5;241m=\u001b[39m \u001b[38;5;28;43mself\u001b[39;49m\u001b[38;5;241;43m.\u001b[39;49m\u001b[43m_network_stream\u001b[49m\u001b[38;5;241;43m.\u001b[39;49m\u001b[43mread\u001b[49m\u001b[43m(\u001b[49m\n\u001b[1;32m    225\u001b[0m \u001b[43m        \u001b[49m\u001b[38;5;28;43mself\u001b[39;49m\u001b[38;5;241;43m.\u001b[39;49m\u001b[43mREAD_NUM_BYTES\u001b[49m\u001b[43m,\u001b[49m\u001b[43m \u001b[49m\u001b[43mtimeout\u001b[49m\u001b[38;5;241;43m=\u001b[39;49m\u001b[43mtimeout\u001b[49m\n\u001b[1;32m    226\u001b[0m \u001b[43m    \u001b[49m\u001b[43m)\u001b[49m\n\u001b[1;32m    228\u001b[0m     \u001b[38;5;66;03m# If we feed this case through h11 we'll raise an exception like:\u001b[39;00m\n\u001b[1;32m    229\u001b[0m     \u001b[38;5;66;03m#\u001b[39;00m\n\u001b[1;32m    230\u001b[0m     \u001b[38;5;66;03m#     httpcore.RemoteProtocolError: can't handle event type\u001b[39;00m\n\u001b[0;32m   (...)\u001b[0m\n\u001b[1;32m    234\u001b[0m     \u001b[38;5;66;03m# perspective. Instead we handle this case distinctly and treat\u001b[39;00m\n\u001b[1;32m    235\u001b[0m     \u001b[38;5;66;03m# it as a ConnectError.\u001b[39;00m\n\u001b[1;32m    236\u001b[0m     \u001b[38;5;28;01mif\u001b[39;00m data \u001b[38;5;241m==\u001b[39m \u001b[38;5;124mb\u001b[39m\u001b[38;5;124m\"\u001b[39m\u001b[38;5;124m\"\u001b[39m \u001b[38;5;129;01mand\u001b[39;00m \u001b[38;5;28mself\u001b[39m\u001b[38;5;241m.\u001b[39m_h11_state\u001b[38;5;241m.\u001b[39mtheir_state \u001b[38;5;241m==\u001b[39m h11\u001b[38;5;241m.\u001b[39mSEND_RESPONSE:\n",
      "File \u001b[0;32m~/Art Roubeaux/Python/Augusto/.venv/lib/python3.9/site-packages/httpcore/_backends/sync.py:126\u001b[0m, in \u001b[0;36mSyncStream.read\u001b[0;34m(self, max_bytes, timeout)\u001b[0m\n\u001b[1;32m    124\u001b[0m \u001b[38;5;28;01mwith\u001b[39;00m map_exceptions(exc_map):\n\u001b[1;32m    125\u001b[0m     \u001b[38;5;28mself\u001b[39m\u001b[38;5;241m.\u001b[39m_sock\u001b[38;5;241m.\u001b[39msettimeout(timeout)\n\u001b[0;32m--> 126\u001b[0m     \u001b[38;5;28;01mreturn\u001b[39;00m \u001b[38;5;28;43mself\u001b[39;49m\u001b[38;5;241;43m.\u001b[39;49m\u001b[43m_sock\u001b[49m\u001b[38;5;241;43m.\u001b[39;49m\u001b[43mrecv\u001b[49m\u001b[43m(\u001b[49m\u001b[43mmax_bytes\u001b[49m\u001b[43m)\u001b[49m\n",
      "File \u001b[0;32m/Applications/Xcode.app/Contents/Developer/Library/Frameworks/Python3.framework/Versions/3.9/lib/python3.9/ssl.py:1226\u001b[0m, in \u001b[0;36mSSLSocket.recv\u001b[0;34m(self, buflen, flags)\u001b[0m\n\u001b[1;32m   1222\u001b[0m     \u001b[38;5;28;01mif\u001b[39;00m flags \u001b[38;5;241m!=\u001b[39m \u001b[38;5;241m0\u001b[39m:\n\u001b[1;32m   1223\u001b[0m         \u001b[38;5;28;01mraise\u001b[39;00m \u001b[38;5;167;01mValueError\u001b[39;00m(\n\u001b[1;32m   1224\u001b[0m             \u001b[38;5;124m\"\u001b[39m\u001b[38;5;124mnon-zero flags not allowed in calls to recv() on \u001b[39m\u001b[38;5;132;01m%s\u001b[39;00m\u001b[38;5;124m\"\u001b[39m \u001b[38;5;241m%\u001b[39m\n\u001b[1;32m   1225\u001b[0m             \u001b[38;5;28mself\u001b[39m\u001b[38;5;241m.\u001b[39m\u001b[38;5;18m__class__\u001b[39m)\n\u001b[0;32m-> 1226\u001b[0m     \u001b[38;5;28;01mreturn\u001b[39;00m \u001b[38;5;28;43mself\u001b[39;49m\u001b[38;5;241;43m.\u001b[39;49m\u001b[43mread\u001b[49m\u001b[43m(\u001b[49m\u001b[43mbuflen\u001b[49m\u001b[43m)\u001b[49m\n\u001b[1;32m   1227\u001b[0m \u001b[38;5;28;01melse\u001b[39;00m:\n\u001b[1;32m   1228\u001b[0m     \u001b[38;5;28;01mreturn\u001b[39;00m \u001b[38;5;28msuper\u001b[39m()\u001b[38;5;241m.\u001b[39mrecv(buflen, flags)\n",
      "File \u001b[0;32m/Applications/Xcode.app/Contents/Developer/Library/Frameworks/Python3.framework/Versions/3.9/lib/python3.9/ssl.py:1101\u001b[0m, in \u001b[0;36mSSLSocket.read\u001b[0;34m(self, len, buffer)\u001b[0m\n\u001b[1;32m   1099\u001b[0m         \u001b[38;5;28;01mreturn\u001b[39;00m \u001b[38;5;28mself\u001b[39m\u001b[38;5;241m.\u001b[39m_sslobj\u001b[38;5;241m.\u001b[39mread(\u001b[38;5;28mlen\u001b[39m, buffer)\n\u001b[1;32m   1100\u001b[0m     \u001b[38;5;28;01melse\u001b[39;00m:\n\u001b[0;32m-> 1101\u001b[0m         \u001b[38;5;28;01mreturn\u001b[39;00m \u001b[38;5;28;43mself\u001b[39;49m\u001b[38;5;241;43m.\u001b[39;49m\u001b[43m_sslobj\u001b[49m\u001b[38;5;241;43m.\u001b[39;49m\u001b[43mread\u001b[49m\u001b[43m(\u001b[49m\u001b[38;5;28;43mlen\u001b[39;49m\u001b[43m)\u001b[49m\n\u001b[1;32m   1102\u001b[0m \u001b[38;5;28;01mexcept\u001b[39;00m SSLError \u001b[38;5;28;01mas\u001b[39;00m x:\n\u001b[1;32m   1103\u001b[0m     \u001b[38;5;28;01mif\u001b[39;00m x\u001b[38;5;241m.\u001b[39margs[\u001b[38;5;241m0\u001b[39m] \u001b[38;5;241m==\u001b[39m SSL_ERROR_EOF \u001b[38;5;129;01mand\u001b[39;00m \u001b[38;5;28mself\u001b[39m\u001b[38;5;241m.\u001b[39msuppress_ragged_eofs:\n",
      "\u001b[0;31mKeyboardInterrupt\u001b[0m: "
     ]
    }
   ],
   "source": [
    "def get_character_profile(character, summary):\n",
    "    \"\"\"\n",
    "    Generates a detailed character profile for the given character.\n",
    "\n",
    "    Args:\n",
    "        character (object): An object representing the character.\n",
    "\n",
    "    Returns:\n",
    "        character'detailedProfile'.\n",
    "    \"\"\"\n",
    "\n",
    "    prompt = f\"\"\"\n",
    "        Consider the story '{summary}'. I need you to write a detailed character profile for this character '{character}' who will appear in it. \n",
    "    \"\"\"\n",
    "\n",
    "    responseData = generate_response(prompt)\n",
    "    return responseData\n",
    "\n",
    "def get_character_keyScenes(character, summary):\n",
    "    \"\"\"\n",
    "    Generates a detailed character profile for the given character.\n",
    "\n",
    "    Args:\n",
    "        character (object): An object representing the character.\n",
    "\n",
    "    Returns:\n",
    "        character'detailedProfile'.\n",
    "    \"\"\"\n",
    "\n",
    "    prompt = f\"\"\"\n",
    "        Consider the story '{summary}'. I need you to write list a few key scenes For this character '{character}' where you think they can play a significant role in the story. Please separate each scene with the a new line and the word \"SCENE: \"\n",
    "    \"\"\"\n",
    "\n",
    "    responseData = generate_response(prompt)\n",
    "    return responseData\n",
    "\n",
    "# Iterate through all characters and update their profiles\n",
    "for character in characters:\n",
    "    char = character.to_dict()\n",
    "    character.detailedProfile = get_character_profile(char, story.summary)\n",
    "    character.keyScenes = get_character_keyScenes(char, story.summary)"
   ]
  },
  {
   "cell_type": "markdown",
   "metadata": {},
   "source": [
    "# 4- Plot Summary: Outline the major plot points."
   ]
  },
  {
   "cell_type": "code",
   "execution_count": 10,
   "metadata": {},
   "outputs": [],
   "source": [
    "char_dicts = []\n",
    "for character in characters:\n",
    "    char_dicts.append(character.to_dict())\n",
    "\n",
    "prompt = f\"\"\"\n",
    "    Brainstorm and write the major plot points for a story that has this summary '{story.summary}', and involves these characters: {char_dicts}, considering the keyScenes that they have to participate. Use the Hero's Journey template, by Joseph Campbell. Make sure your answer is divided in 3 main acts, each one of them according to traditional creative writing rules. Your answer must be just 3 paragraphs, one for each act, separated by a blank line. Don't include titles for the acts, or an extra line with Act# in the beginning of each one.\n",
    "\"\"\"\n",
    "\n",
    "storyActs = generate_response(prompt).split('\\n\\n')\n",
    "\n",
    "story.acts = storyActs"
   ]
  },
  {
   "cell_type": "markdown",
   "metadata": {},
   "source": [
    "# 5- Create chapters out of the Acts\n"
   ]
  },
  {
   "cell_type": "code",
   "execution_count": 26,
   "metadata": {},
   "outputs": [
    {
     "name": "stdout",
     "output_type": "stream",
     "text": [
      "['Chapter 1: Lady Seraphina, armed with dark magic and a deadly blade, crosses the Threshold into the blood-soaked realm of \"Sword and Sinew.\" She faces her first challenge in the form of the rival warlord Lord Aric, who also seeks the Crown of Shadows for his nefarious purposes. Their clash sets the stage for a dangerous game of cat and mouse as Lady Seraphina navigates the treacherous landscape filled with betrayal and ambushes.', \"Chapter 2: Lady Seraphina encounters the duplicitous court jester Malvolio, who schemes to manipulate her for his own gain. Torn between trusting him and seeing through his deception, Lady Seraphina must tread carefully as she uncovers more layers of treachery and deceit surrounding the Crown of Shadows. Malvolio's motives remain unclear as they dance around each other in a dangerous game of manipulation.\", 'Chapter 3: The tension between Lady Seraphina and Lord Aric reaches its peak as they engage in a deadly battle for control of the Crown of Shadows. With the fate of the realm hanging in the balance, Lady Seraphina must dig deep into her dark magic and cunning tactics to outwit her formidable opponent. As the moon waxes and secrets unravel, the stakes are raised higher than ever before, leading to a final showdown that will determine the fate of Sword and Sinew.']\n",
      "[\"Chapter 1: The Call to Adventure\\nLady Seraphina receives a cryptic message from an old ally, urging her to seek out the Crown of Shadows. Intrigued by the artifact's power, she sets off on her journey, unaware of the dangers that lie ahead. As she travels through the twisted forests of the realm, she encounters a group of mercenaries hired by Lord Aric to capture her, setting the stage for a deadly confrontation.\", \"Chapter 2: Crossing the Threshold\\nFaced with the mercenaries' ambush, Lady Seraphina unleashes her dark magic, revealing her true power as a sorceress. In the chaos of battle, she manages to escape but not without sustaining injuries. Nursing her wounds, she seeks refuge in a hidden temple, where she discovers ancient scrolls detailing the Crown of Shadows' history and the sacrifices required to wield its power.\", 'Chapter 3: The Road of Trials\\nAs Lady Seraphina delves deeper into the heart of darkness, she encounters Baron Von Drakul, a relentless undead knight who has been sent to stop her at all costs. Their fierce battle tests her skills and resolve, pushing her to the brink of her own mortality. With each victory, she grows closer to understanding the true nature of the Crown of Shadows and the price she must pay to claim it.', 'Chapter 4: The Meeting with the Goddess\\nIn a moment of respite, Lady Seraphina encounters the mysterious enchantress, Esmeralda, who offers guidance and a warning of the dangers that await her. United in their quest for power, the two women form an uneasy alliance, each harboring secrets and hidden agendas that threaten to tear them apart. Together, they journey towards the ancient citadel where the Crown of Shadows is said to be hidden, drawing ever closer to their destiny.', 'Chapter 5: The Ultimate Boon\\nAs Lady Seraphina and Esmeralda reach the citadel, they confront Lord Aric and his forces in a final showdown for the Crown of Shadows. Betrayals and revelations unravel as the true intentions of each character are laid bare, leading to a climactic battle that will determine the fate of the realm. In a moment of sacrifice and redemption, Lady Seraphina claims the Crown of Shadows, but at what cost to her own soul and the world around her?']\n",
      "['Chapter 1: The Call to Adventure\\nLady Seraphina receives a cryptic message from a mysterious figure, urging her to seek out the Crown of Shadows and warning her of the dangers that lie ahead. Despite her initial reluctance, she knows that her destiny is intertwined with the artifact, and she sets out on her journey, determined to fulfill her quest no matter the cost.', 'Chapter 2: Crossing the Threshold\\nOn her journey, Lady Seraphina encounters the first of many obstacles: a band of ruthless bandits who seek to claim the Crown of Shadows for themselves. With her quick wit and deadly magic, she navigates through the treacherous terrain and emerges victorious, gaining a newfound sense of confidence in her abilities.', 'Chapter 3: The Road of Trials\\nAs Lady Seraphina delves deeper into the heart of the blood-soaked realm, she faces a series of challenges that test her strength, resolve, and morality. Betrayals and alliances are formed and broken, as she must navigate the complex web of politics and power dynamics that threaten to consume her. Dark forces lurk in the shadows, watching her every move with intent to thwart her mission.', \"Chapter 4: Meeting with the Goddess\\nIn a pivotal moment of the story, Lady Seraphina encounters a powerful sorceress who reveals to her the true nature of the Crown of Shadows and the devastating consequences of wielding its power. The sorceress imparts ancient wisdom upon Lady Seraphina, urging her to look within herself and find the strength to resist the temptations of ultimate power. The seeds of doubt are planted in Lady Seraphina's mind, as she begins to question her motivations and the true cost of her quest.\", 'Chapter 5: The Ultimate Boon\\nAt the climax of her journey, Lady Seraphina finally reaches the sacred temple where the Crown of Shadows rests. As she approaches the artifact, she is faced with a choice that will determine the fate of the realm and all who dwell within it. Will she choose to claim the Crown and embrace its dark power, or will she find a way to break the cycle of violence and destruction that has plagued \"Sword and Sinew\"? The final battle is waged, as Lady Seraphina confronts her inner demons and makes a decision that will reverberate throughout the land for generations to come.']\n"
     ]
    }
   ],
   "source": [
    "def generate_chapter(act):\n",
    "    prompt = f\"\"\"\n",
    "            Given the story act {act} that follows Joseph Campbell's Hero Journay, please write several story chapter descriptions for the specific act, including the major plot points and all the key scenes you think are important to make sure the story makes sense. Don't forget that the story is about \"{story.summary}\". Include the main characters, and add conflict between them and the story. Be innovative and creative. Make a unique story. Each chapter description should be a single paragraph separated by a single linebreak. Don't add separators.\n",
    "        \"\"\"\n",
    "\n",
    "    story_chapters = generate_response(prompt).split('\\n\\n')\n",
    "\n",
    "    print(story_chapters)\n",
    "\n",
    "    for response in story_chapters:\n",
    "        chapter = Chapter()\n",
    "        chapter.description = response\n",
    "        story.chapters.append(chapter)\n",
    "\n",
    "story.chapters = []\n",
    "\n",
    "for act in story.acts:\n",
    "    generate_chapter(act)"
   ]
  },
  {
   "cell_type": "markdown",
   "metadata": {},
   "source": [
    "### Expanding chapter description to other elements"
   ]
  },
  {
   "cell_type": "code",
   "execution_count": 28,
   "metadata": {},
   "outputs": [],
   "source": [
    "for chapter in story.chapters:\n",
    "    prompt = f\"\"\"\n",
    "        This is a summary of a book: {story.summary}.\n",
    "        This is the description of the chapter: {chapter.__dict__}.\n",
    "        Write a title for the chapter.\n",
    "    \"\"\"\n",
    "    chapter.name = generate_response(prompt)\n",
    "\n",
    "    prompt = f\"\"\"\n",
    "        This is a summary of a book: {story.summary}.\n",
    "        This is the description of the chapter: {chapter.__dict__}.\n",
    "        Write the goal for the chapter in terms of narrative design and plot.\n",
    "    \"\"\"\n",
    "\n",
    "    chapter.goals = generate_response(prompt)\n",
    "\n",
    "    prompt = f\"\"\"\n",
    "        This is a summary of a book: {story.summary}.\n",
    "        This is the description of the chapter: {chapter.__dict__}.\n",
    "        Write the consequences of the chapter that need to happen in the next chapter.\n",
    "    \"\"\"\n",
    "\n",
    "    chapter.consequences = generate_response(prompt)\n",
    "\n",
    "    prompt = f\"\"\"\n",
    "        This is a summary of a book: {story.summary}.\n",
    "        This is the description of the chapter: {chapter.__dict__}.\n",
    "        Write the end result of the chapter in terms of story, including a plot twist.\n",
    "    \"\"\"\n",
    "\n",
    "    chapter.end_result = generate_response(prompt)\n",
    "\n",
    "    prompt = f\"\"\"\n",
    "        This is a summary of a book: {story.summary}.\n",
    "        This is the description of the chapter: {chapter.__dict__}.\n",
    "        Write the name of the characters that participate in this chapter. Return just the names separated by a comma.\n",
    "    \"\"\"\n",
    "\n",
    "    chapter.characters = generate_response(prompt).strip(\"[]\").split(\", \")"
   ]
  },
  {
   "cell_type": "markdown",
   "metadata": {},
   "source": [
    "# 6- Scene List: Create a list of scenes in the novel and write them"
   ]
  },
  {
   "cell_type": "code",
   "execution_count": 45,
   "metadata": {},
   "outputs": [],
   "source": [
    "def create_scenes_from_chapter(chapter):\n",
    "    prompt = f\"\"\"\n",
    "        You are outlining a novel. \n",
    "        This is the summary of the nove: {story.summary}. \n",
    "        You will brainstorm and write a logline for scenes for this specific chapter :{chapter.__dict__}. \n",
    "        I need you to write a list of scenes that will go from start to end of the chapter, describing what happens in the scene, who participates in it, what are their goals, what are the consequences for the next chapter and what is the end result of the scene. \n",
    "        \n",
    "        Please write as many scenes as you can. Make them creative, detailed and inspiring. \n",
    "        \n",
    "        Please return each scene in a single paragraph, without any headings, or separators, just a single linebreak.\n",
    "    \"\"\"\n",
    "\n",
    "    return generate_response(prompt).split(sep='\\n\\n')"
   ]
  },
  {
   "cell_type": "code",
   "execution_count": 46,
   "metadata": {},
   "outputs": [],
   "source": [
    "def define_scene_details(chapter, scene):\n",
    "    prompt = f\"\"\"\n",
    "        This is a summary of a book: {story.summary}.\n",
    "        This is the description of the chapter: {chapter.__dict__}.\n",
    "        This is the description of the scene you have to work with: {scene.__dict__}.\n",
    "        Write a title for the scene.\n",
    "    \"\"\"\n",
    "    \n",
    "    scene.name = generate_response(prompt)\n",
    "\n",
    "    prompt = f\"\"\"\n",
    "        This is a summary of a book: {story.summary}.\n",
    "        This is the description of the chapter: {chapter.__dict__}.\n",
    "        This is the description of the scene you have to work with: {scene.__dict__}.\n",
    "        Write the goals for this scene.\n",
    "    \"\"\"\n",
    "    \n",
    "    scene.goals = generate_response(prompt)\n",
    "\n",
    "    prompt = f\"\"\"\n",
    "        This is a summary of a book: {story.summary}.\n",
    "        This is the description of the chapter: {chapter.__dict__}.\n",
    "        This is the description of the scene you have to work with: {scene.__dict__}.\n",
    "        Write the consequences of this scene for the story.\n",
    "    \"\"\"\n",
    "    \n",
    "    scene.consequences = generate_response(prompt)\n",
    "\n",
    "    prompt = f\"\"\"\n",
    "        This is a summary of a book: {story.summary}.\n",
    "        This is the description of the chapter: {chapter.__dict__}.\n",
    "        This is the description of the scene you have to work with: {scene.__dict__}.\n",
    "        Write how this scene must end, including plot twists.\n",
    "    \"\"\"\n",
    "    \n",
    "    scene.end_result = generate_response(prompt)\n",
    "\n",
    "    prompt = f\"\"\"\n",
    "        This is a summary of a book: {story.summary}.\n",
    "        This is the description of the chapter: {chapter.__dict__}.\n",
    "        This is the description of the scene you have to work with: {scene.__dict__}.\n",
    "        Write a narrative scene, in the style of a book, as if you were telling the story as a professional writer.\n",
    "    \"\"\"\n",
    "    \n",
    "    scene.final_text = generate_response(prompt)"
   ]
  },
  {
   "cell_type": "code",
   "execution_count": 47,
   "metadata": {},
   "outputs": [
    {
     "name": "stdout",
     "output_type": "stream",
     "text": [
      "Starting chapter \"Dancing on the Edge of Destiny\"\n",
      "Creating scene Scene 1: Lady Seraphina cautiously navigates the shadowed woods, her senses attuned to any hint of danger, as she comes face to face with a group of undead knights led by a vengeful wraith. Her goal is to defeat the undead and continue her journey, but the consequence is that the wraith reveals a cryptic message about the Crown of Shadows, leaving Lady Seraphina unsettled as she presses forward.\n",
      "Creating scene Scene 2: Lady Seraphina confronts Lord Aric in a dramatic showdown, their blades clashing in a deadly dance of skill and power. Both seek the Crown of Shadows, but only one can emerge victorious. The consequence of this encounter is that Lady Seraphina gains valuable insight into Lord Aric's motives and learns that he will stop at nothing to claim the artifact for himself, setting the stage for a tense rivalry between them in the chapters to come.\n",
      "Creating scene Scene 3: The duplicitous court jester, disguised in a cloak of shadows, emerges from the darkness with a dagger aimed at Lady Seraphina's back. He reveals his alliance with Lord Aric, plunging her into a betrayal that shakes her to the core. The consequence is that Lady Seraphina is left wounded and vulnerable, her trust shattered and her path forward uncertain as she faces the harsh reality of deceit and treachery in the realm of \"Sword and Sinew.\"\n",
      "Creating scene Scene 4: As Lady Seraphina regains her composure and fends off the court jester's attack, she narrowly escapes a trap set by Lord Aric's spies, narrowly avoiding capture. The consequence of this narrow escape is that Lady Seraphina realizes the extent of the dangers that lie ahead and the need to be constantly vigilant and wary of those who seek to hinder her quest for the Crown of Shadows.\n",
      "Creating scene Scene 5: In a moment of solitude, Lady Seraphina reflects on the challenges she has faced and the betrayals she has endured, steeling her resolve to continue her mission despite the odds stacked against her. The consequence of this introspection is that Lady Seraphina emerges stronger and more determined than ever, ready to face whatever dangers and obstacles come her way as she dances on the edge of destiny in the blood-soaked realm of \"Sword and Sinew.\"\n",
      "Starting chapter Title: Dance of Deception\n",
      "Creating scene Scene 1: Lady Seraphina meets Malvolio in the grand hall of the castle, their initial conversation filled with veiled threats and subtle manipulations as they size each other up. Lady Seraphina's goal is to gather information from Malvolio while maintaining a facade of trust, but the consequences of this encounter will lead to further suspicion and tension between them in the next chapter. The end result of the scene sees Lady Seraphina walking away with her guard up, aware that Malvolio is not to be underestimated.\n",
      "Creating scene Scene 2: Lady Seraphina follows Malvolio to the hidden chambers beneath the castle, where he reveals a secret map that supposedly leads to the location of the Crown of Shadows. As they discuss their next steps, Lady Seraphina begins to doubt Malvolio's true intentions, suspecting that he may be leading her into a trap. The consequences of this scene will heighten the sense of danger and betrayal surrounding the artifact in the next chapter. The end result of the scene leaves Lady Seraphina grappling with whether to trust Malvolio or forge her own path forward.\n",
      "Creating scene Scene 3: Malvolio offers Lady Seraphina a poisonous concoction under the guise of friendship, but she sees through his deception just in time to avoid being poisoned. Their confrontation escalates into a tense standoff, with Lady Seraphina realizing that Malvolio's loyalty lies elsewhere. The consequences of this scene will push Lady Seraphina to question her allies and enemies more deeply in the next chapter. The end result of the scene is a dramatic clash between Lady Seraphina and Malvolio, setting the stage for a showdown of wits and wills.\n",
      "Creating scene Scene 4: Lady Seraphina confronts Malvolio with her suspicions and accuses him of working for the rival warlord who seeks the Crown of Shadows. Malvolio's mask of deception finally falls as he admits his true allegiance, revealing his treachery and betrayal. The consequences of this scene will shatter any trust between Lady Seraphina and Malvolio, leading to a dangerous divide in their relationship in the next chapter. The end result of the scene is a decisive moment where Lady Seraphina must fight for her survival and make a daring escape from Malvolio's clutches.\n",
      "Starting chapter \"The Deadly Dance of Shadows: The Final Showdown\"\n",
      "Creating scene Scene 1: Lady Seraphina and Lord Aric face off in a grand hall, surrounded by flickering torchlight and the menacing shadows of the Crown of Shadows. Lady Seraphina uses her dark magic to create illusions, testing Lord Aric's resolve and cunning tactics as they exchange verbal barbs and engage in a deadly game of wits.\n",
      "Creating scene Scene 2: The tension rises as Lady Seraphina unveils a hidden dagger, ready to strike at Lord Aric's heart as he attempts to disarm her with his skillful swordplay. The clash of blades echoes through the hall as both combatants push themselves to their limits, each determined to emerge victorious in their deadly dance of shadows.\n",
      "Creating scene Scene 3: As the moon waxes overhead, Lady Seraphina and Lord Aric find themselves locked in a deadly embrace, their magic intertwining in a dazzling display of power and intensity. The fate of the Crown of Shadows hangs in the balance as they each strive to gain control of the artifact, their dark ambitions driving them to the brink of madness.\n",
      "Creating scene Scene 4: The final showdown reaches its peak as Lady Seraphina unleashes a devastating spell, shrouding the hall in darkness and sending Lord Aric reeling. With the artifact within her reach, Lady Seraphina's triumph seems assured, but a sudden twist of fate threatens to shatter her victory and plunge her into a nightmare of her own making.\n",
      "Creating scene Scene 5: In a climactic moment of truth, Lady Seraphina's dark magic is turned against her by the Crown of Shadows, its insidious influence corrupting her very soul. As the moon wanes and the shadows deepen, Lady Seraphina must confront the darkness within herself, facing the ultimate test of her strength and resolve as she struggles to retain control over the powerful artifact and resist damnation.\n",
      "Starting chapter Title: The Cryptic Message\n",
      "Creating scene Lady Seraphina receives a cryptic message from an old ally, urging her to seek out the Crown of Shadows. Intrigued by the artifact's power, she sets off on her journey, unaware of the dangers that lie ahead. As she travels through the twisted forests of the realm, she encounters a group of mercenaries hired by Lord Aric to capture her, setting the stage for a deadly confrontation. Lady Seraphina narrowly escapes the mercenaries hired by Lord Aric, but sustains a wound that needs to be tended to. She must find a safe place to rest and recover before continuing her journey to retrieve the Crown of Shadows. Lady Seraphina learns more about the dangers of the Crown of Shadows from her old ally, who warns her of the consequences of wielding such power. This knowledge weighs heavy on her mind as she debates whether the artifact is truly worth the risk. The confrontation with the mercenaries alerts other forces in the realm to Lady Seraphina's quest, leading to increased surveillance and obstacles in her path. Lady Seraphina's encounter with the mercenaries sparks a sense of urgency in her mission, pushing her to delve deeper into the mysteries surrounding the Crown of Shadows. As she uncovers more pieces of the puzzle, she realizes that the artifact may hold a darker secret than she initially thought, leading her to question her own motives and alliances. At the end of Chapter 1, Lady Seraphina narrowly escapes the mercenaries hired by Lord Aric, but sustains a wound that needs to be tended to. She finds a safe place to rest and recover, where she learns more about the dangers of the Crown of Shadows from her old ally. This warning weighs heavily on her mind as she debates the worth of the artifact. As Lady Seraphina continues her journey, she must navigate through treacherous territory, facing increased surveillance and obstacles in her path. The confrontation with the mercenaries sparks a sense of urgency in her mission, pushing her to delve deeper into the mysteries surrounding the Crown of Shadows. However, as she uncovers more pieces of the puzzle, she realizes that the artifact may hold a darker secret than she originally thought. This revelation leads to a plot twist - Lady Seraphina discovers that the Crown of Shadows has the ability to manipulate not only life and death, but also time itself. This newfound power complicates her mission and forces her to reconsider her motives and alliances as she moves closer to her goal.\n",
      "Starting chapter \"A Sorceress Unleashed: The Secrets of the Crown of Shadows\"\n",
      "Creating scene Lady Seraphina confronts the mercenaries' ambush with her dark magic, showcasing her true power as a sorceress. In the chaos of battle, she manages to escape but not without sustaining injuries, prompting her to seek refuge in a hidden temple. The ancient scrolls in the temple detail the history of the Crown of Shadows and the sacrifices necessary to wield its power, leading Lady Seraphina to make vital decisions about her mission. As she contemplates her next move, a plot twist occurs when she learns she is not the sole seeker of the artifact, as the mysterious Shadow Hand has been manipulating events to secure it. Realizing the danger she faces, Lady Seraphina must navigate deception, betrayal, and unexpected alliances in her quest to retrieve the Crown of Shadows and prevent it from falling into the wrong hands.\n",
      "Starting chapter Title: Clash with the Undead Knight\n",
      "Creating scene Lady Seraphina faces Baron Von Drakul in a fierce battle, testing her skills and resolve in a high-stakes showdown. Both combatants are driven by their own motivations, with Seraphina determined to claim the Crown of Shadows and Drakul intent on stopping her at all costs. The intensity of the fight pushes Seraphina to the brink of her mortality, challenging her physical and magical abilities like never before. In the aftermath of the battle, Seraphina emerges victorious but not unscathed, sustaining severe injuries that weaken her going forward. As she grapples with her wounds, a shocking revelation about the Crown of Shadows is unveiled - to claim its power, she must sacrifice someone she loves deeply. This moral dilemma forces Seraphina to question the true cost of her quest and sets the stage for internal conflict and difficult choices in the chapters to come. The consequences of this chapter set the tone for escalating tension and stakes, as new obstacles and adversaries emerge to complicate Seraphina's perilous journey towards ultimate power. Set against a backdrop of darkness and treachery, the clash with Baron Von Drakul marks a pivotal moment in Seraphina's quest, propelling her closer to the ultimate showdown for the Crown of Shadows where the lines between right and wrong blur in a dangerous dance of power and sacrifice.\n",
      "Starting chapter Title: The Enigmatic Alliance\n",
      "Creating scene Lady Seraphina and Esmeralda meet at a crossroads, the air heavy with tension as they cautiously size each other up. Lady Seraphina seeks guidance and a potential ally, while Esmeralda sees an opportunity to further her own hidden agenda. Their conversation is laced with veiled intentions and cryptic warnings, setting the stage for a fragile alliance built on secrets and mistrust. The consequences of this meeting will shape the dynamics between the two women as they embark on their journey towards the ancient citadel.\n",
      "Creating scene Lady Seraphina and Esmeralda traverse a treacherous forest, the branches clawing at their cloaks as they navigate the path towards the hidden citadel. As they walk, they share fragments of their pasts, each revealing a carefully crafted facade to the other. Their goals become intertwined as they realize that their fates are inexorably linked to the success of their quest for the Crown of Shadows. The impending dangers and challenges of their journey loom larger with each step, pushing them closer to their destiny.\n",
      "Creating scene At a makeshift campfire, Lady Seraphina and Esmeralda finally let their guards down, sharing stories and vulnerabilities under the flickering light of the flames. The evening brings a rare moment of camaraderie between the two women, revealing glimpses of their true selves beneath the masks they wear. However, as the night deepens, so too do the shadows of their shared pasts and the looming betrayal that threatens to unravel their fragile alliance. \n",
      "Creating scene As Lady Seraphina and Esmeralda approach the ancient citadel, tensions between them reach a boiling point as hidden motives and conflicting agendas come to light. The revelation of Esmeralda's betrayal shatters the fragile trust that held their alliance together, setting off a chain of events that will put Lady Seraphina's strength and cunning to the ultimate test. With the Crown of Shadows within reach, Lady Seraphina must now navigate a web of deception, danger, and treachery to claim the artifact and fulfill her destiny as the rogue sorceress of \"Sword and Sinew.\"\n",
      "Starting chapter \"Dance of Shadows: The Climactic Showdown\"\n",
      "Creating scene Scene: Lady Seraphina and Esmeralda enter the citadel under the cover of night, preparing for the final showdown with Lord Aric and his forces. Lady Seraphina's goal is to retrieve the Crown of Shadows and prevent it from falling into the wrong hands, while Esmeralda is determined to stand by her side and support her in any way possible. The consequences of this scene will lead to a confrontation that will determine the fate of the realm, setting the stage for the climactic battle that is about to unfold. The end result of this scene will see Lady Seraphina and Esmeralda facing off against Lord Aric and his minions, with the Crown of Shadows at the center of their conflict. \n",
      "Creating scene Scene: As the tension escalates, betrayals and revelations come to light as each character's true intentions are laid bare. Lady Seraphina learns of Lord Aric's dark ambitions to use the Crown of Shadows for his own gain, while Esmeralda discovers a shocking secret that puts their friendship to the test. The consequences of this scene will lead to a shift in alliances and a heightened sense of urgency as the characters prepare for the impending battle. The end result of this scene will see Lady Seraphina and Esmeralda forced to make difficult choices that will have far-reaching consequences for themselves and the realm. \n",
      "Creating scene Scene: The climactic battle between Lady Seraphina, Esmeralda, and Lord Aric reaches its peak as swords clash and dark magic fills the air. Lady Seraphina's goal is to claim the Crown of Shadows and prevent it from causing further harm, while Esmeralda fights to protect her friend and the realm from the artifact's corrupting influence. The consequences of this scene will determine the outcome of the conflict and set the stage for the resolution of the story. The end result of this scene will see Lady Seraphina emerging victorious, but at a great cost to her own soul and the world around her, as the true nature of the Crown of Shadows is revealed in a shocking twist that changes everything. \n",
      "Creating scene Scene: In a moment of sacrifice and redemption, Lady Seraphina makes a fateful decision to destroy the Crown of Shadows, releasing its dark power and freeing herself from its grasp. Esmeralda stands by her side, offering support and comfort in the aftermath of the battle. The consequences of this scene will lead to a sense of closure and resolution for the characters as they come to terms with the events that have unfolded. The end result of this scene will see Lady Seraphina and Esmeralda emerging stronger and wiser from their ordeal, ready to face whatever challenges lie ahead in the next chapter of their journey.\n",
      "Starting chapter Title: The Cryptic Message\n",
      "Creating scene Lady Seraphina receives a cryptic message from a mysterious figure in the dead of night, urging her to seek out the Crown of Shadows and warning her of the dangers that lie ahead. Despite her initial reluctance, she knows that her destiny is intertwined with the artifact, and she sets out on her journey, determined to fulfill her quest no matter the cost. As she travels through dark and treacherous lands, Lady Seraphina encounters a band of undead knights who guard the entrance to the Shadowed Valley, where the Crown is believed to be hidden. A fierce battle ensues, testing her swordsmanship and magical prowess as she fights for her life and a chance to continue her quest. Amidst the chaos of battle, Lady Seraphina unlocks a hidden power within herself, unleashing a devastating spell that drives back the undead horde and allows her to press on towards her goal.\n",
      "Creating scene As Lady Seraphina delves deeper into the Shadowed Valley, she comes face to face with the duplicitous court jester, who seeks to betray her and claim the Crown of Shadows for himself. A battle of wits ensues as they match each other move for move, with Lady Seraphina's determination and cunning proving to be her greatest weapons. In a moment of treachery, the court jester attempts to ensnare her in a deadly trap, but she sees through his deception and turns the tables on him, capturing him and extracting vital information about the artifact's location.\n",
      "Creating scene As Lady Seraphina reaches the heart of the Shadowed Valley, she finally lays eyes on the Crown of Shadows, a dark and malevolent presence that whispers promises of power and death. With a heavy heart and a steely resolve, she reaches out to claim the artifact, only to be confronted by a vision of her own soul consumed by darkness. The consequences of wielding such power become all too clear to her in that moment, as she must now decide whether to risk her very essence for the sake of fulfilling her destiny. The chapter ends with Lady Seraphina standing at a crossroads, her hand poised over the Crown of Shadows, her future hanging in the balance as she grapples with the weight of her decision.\n",
      "Starting chapter Chapter 2: The Dance of Shadows\n",
      "Creating scene Lady Seraphina uses her dark magic to create illusions that distract the bandits while she sneaks past them, showcasing her cunning and resourcefulness. The bandits, led by their ruthless leader, fall for the ruse and are left confused and disoriented, allowing Seraphina to gain the upper hand. With quick thinking and precise spellwork, she incapacitates the bandits one by one, showing her prowess in combat and magic. As the dust settles, Seraphina emerges victorious, her confidence in her abilities growing stronger. However, the defeated bandits may seek revenge or regroup to come after her in the next chapter, posing a new threat to her mission. The end result of this scene sees Lady Seraphina standing amidst the defeated bandits, her aura of power and determination palpable, but as she revels in her triumph, she is ambushed by a mysterious figure cloaked in shadows, setting the stage for even greater challenges ahead.\n",
      "Starting chapter Title: Dance of Shadows\n",
      "Creating scene Scene 1: Lady Seraphina encounters a group of rival warlords on the Road of Trials, leading to a tense standoff where she must decide whether to fight or negotiate. Lady Seraphina's goal is to avoid unnecessary bloodshed and gain valuable information about the location of the Crown of Shadows. The consequences for the next chapter are strained alliances and heightened tensions among the warlords, as they see Lady Seraphina as a threat to their power. The end result is that Lady Seraphina successfully convinces the warlords to divulge crucial details about the artifact's whereabouts, gaining a significant advantage in her quest.\n",
      "Creating scene Scene 2: Lady Seraphina is lured into a trap set by the duplicitous court jester, who has been working against her in secret. As she navigates the treacherous maze of illusions and deceit, Lady Seraphina must rely on her wit and sorcery to outsmart her cunning adversary. Her goal is to uncover the jester's motivations and prevent him from sabotaging her mission. The consequences for the next chapter include a deeper understanding of the court jester's schemes and the revelation of a new enemy in Lady Seraphina's quest. The end result is that Lady Seraphina narrowly escapes the trap, but not without sustaining a significant blow to her trust in others.\n",
      "Creating scene Scene 3: Lady Seraphina faces off against the band of undead knights who hunger for her soul, leading to a climactic battle that tests her combat skills and dark magic. Her goal is to defeat the undead knights and prove her strength in the face of supernatural adversaries. The consequences for the next chapter involve the undead knights regrouping and seeking revenge on Lady Seraphina for their defeat. The end result is that Lady Seraphina emerges victorious but is left shaken by the realization of the dark forces aligned against her in her quest for the Crown of Shadows.\n",
      "Starting chapter Title: The Sorceress's Revelation\n",
      "Creating scene Lady Seraphina treks through the dark forest, her mind consumed with thoughts of the Crown of Shadows and the power it promises. As she emerges into a clearing, she is startled to find herself face to face with the powerful sorceress, who stands before her with an air of ancient wisdom and intrigue. The sorceress reveals the true nature of the artifact, warning Lady Seraphina of the dire consequences of wielding its power. Lady Seraphina listens intently, feeling the seeds of doubt and uncertainty taking root in her mind. The sorceress imparts a cryptic message, urging Lady Seraphina to look within herself and find the strength to resist the temptations of ultimate power. As the encounter unfolds, Lady Seraphina grapples with conflicting emotions and questions her motivations for seeking the Crown of Shadows.\n",
      "Creating scene Lady Seraphina struggles to reconcile the revelations from the sorceress with her burning desire for power and vengeance. The inner turmoil within her intensifies as she weighs the potential consequences of her quest. She paces back and forth, her thoughts a whirlwind of conflicting emotions and uncertainties. In a moment of vulnerability, Lady Seraphina confides in the sorceress about her past traumas and the driving force behind her quest for dominion. The sorceress listens intently, her gaze penetrating Lady Seraphina's soul, as if searching for the flicker of light amidst the darkness that surrounds her. The tension in the air is palpable as Lady Seraphina struggles to come to terms with the profound impact of the sorceress's words.\n",
      "Creating scene Lady Seraphina, fueled by a newfound sense of determination, confronts the sorceress with a steely resolve in her eyes. She demands answers and clarity, unwilling to let doubt consume her any longer. The sorceress meets her gaze with a knowing smile, recognizing the spark of defiance and strength within Lady Seraphina. In a moment of revelation, the sorceress unveils the depths of Lady Seraphina's own power and potential, urging her to embrace her inner strength and face the challenges ahead. As the encounter reaches its climax, Lady Seraphina feels a sense of empowerment and clarity wash over her, as if shedding the layers of doubt and confusion that once clouded her vision. With a newfound sense of purpose, Lady Seraphina prepares to embark on the next phase of her journey, armed with the knowledge and wisdom imparted by the sorceress.\n",
      "Creating scene Lady Seraphina gazes into the distance, her mind racing with thoughts of the sorceress's revelations and the path she must now choose. The weight of her decisions hangs heavy in the air as she contemplates the consequences of her actions. In a moment of solitude, Lady Seraphina reflects on her journey thus far, the challenges she has faced, and the choices that have led her to this pivotal moment. The shadows of doubt and uncertainty loom large around her, threatening to engulf her in their darkness. With a deep breath, Lady Seraphina closes her eyes and summons her inner strength, ready to face the challenges that lie ahead. As the chapter draws to a close, a sense of anticipation and trepidation fills the air, signaling the beginning of a new chapter in Lady Seraphina's quest for power and redemption.\n",
      "Starting chapter \"Eternal Power: Lady Seraphina's Fateful Decision\"\n",
      "Creating scene Lady Seraphina stands at the entrance of the sacred temple, her heart pounding with both fear and determination. As she enters, she is greeted by the court jester, who offers her cryptic words of warning and temptation. Lady Seraphina must navigate his cunning words and deceptive nature, all while keeping her eye on the prize: the Crown of Shadows. The jester's goal is to sway her decision and manipulate her into claiming the artifact for his own malevolent purposes. The consequences of their interaction will test Lady Seraphina's resolve and cunning in the face of trickery, setting the stage for the final showdown.\n",
      "Creating scene Lady Seraphina finally reaches the inner chamber where the Crown of Shadows rests, shimmering ominously in the dim light. The undead knights, guardians of the artifact, emerge from the shadows to defend their prize. Lady Seraphina draws her blade and unleashes her dark magic, engaging in a fierce battle with the undead warriors. Her goal is to defeat them and claim the Crown, but the consequences of her violent actions will weigh heavily on her conscience in the aftermath. The end result of the battle will determine whether she is worthy of wielding the power of the artifact or if it will consume her with darkness.\n",
      "Creating scene In a moment of clarity amidst the chaos, Lady Seraphina realizes the truth about the Crown of Shadows. It is not a source of power, but a trap set by the dark forces manipulating the realm. With this revelation, she makes the decision to destroy the artifact, breaking the cycle of violence and choosing a path of peace and redemption for \"Sword and Sinew.\" The end result of her choice is a wave of light and energy that cleanses the temple, dispelling the darkness that once shrouded it. Lady Seraphina emerges from the temple, her heart heavy with the weight of her decision but light with the knowledge that she has saved her realm from certain doom.\n",
      "Creating scene As Lady Seraphina exits the temple, she is faced with the aftermath of her choice. The dark forces that sought to manipulate her are now angered by her defiance, unleashing their fury upon the realm. The consequences of her decision to destroy the Crown of Shadows are felt far and wide, as chaos descends upon \"Sword and Sinew.\" Lady Seraphina must rally her allies and confront the dark forces head-on, showing them that she will not be swayed from her path of redemption. The end result of this confrontation will determine the future of the realm and whether Lady Seraphina's sacrifice was in vain.\n",
      "Creating scene In the final scene of the chapter, Lady Seraphina stands on the precipice of battle, her allies by her side and her enemies closing in. As the dark forces converge upon them, Lady Seraphina channels her inner strength and unleashes a torrent of magic that pushes back the darkness. The battle rages on, with the fate of \"Sword and Sinew\" hanging in the balance. Lady Seraphina's goal is to protect her realm and her people, to prove that her choice to destroy the Crown of Shadows was the right one. The consequences of the battle will shape the future of the realm, leading to new challenges and conflicts that will test Lady Seraphina's resolve and courage. The end result will be a new beginning for \"Sword and Sinew,\" as Lady Seraphina emerges victorious, her soul bathed in the light of redemption.\n"
     ]
    }
   ],
   "source": [
    "previous_scene = \"\"\n",
    "for chapter in story.chapters:\n",
    "    print(f\"Starting chapter {chapter.name}\")\n",
    "    sceneResponses = create_scenes_from_chapter(chapter)\n",
    "    for sceneResponse in sceneResponses:\n",
    "        print(f\"Creating scene {sceneResponse}\")\n",
    "        scene = Scene()\n",
    "        scene.description = sceneResponse\n",
    "        scene.act = chapter.act\n",
    "        scene.plotpoint = chapter.plotpoint\n",
    "        scene.previous_scene = previous_scene\n",
    "        scene.goals = chapter.goals\n",
    "        scene.consequences = chapter.consequences\n",
    "        scene.plotpoint = chapter.plotpoint\n",
    "        scene.chapter = chapter.name\n",
    "        # define_scene_details(scene, chapter)\n",
    "        chapter.scenes.append(scene)\n",
    "\n",
    "        previous_scene = \"Before this scene, this happened: \" + scene.description + scene.consequences"
   ]
  },
  {
   "cell_type": "markdown",
   "metadata": {},
   "source": [
    "# 9- Write the Novel: How can we make the final_text be longer, bigger and uncut?"
   ]
  },
  {
   "cell_type": "code",
   "execution_count": null,
   "metadata": {},
   "outputs": [],
   "source": [
    "# chapters = []\n",
    "\n",
    "# for scene in scenes:\n",
    "#     prompt = f\"\"\"\n",
    "#         Considering the summary of this scene {scene}, which belongs to this act of the story {act}, and the characters {characters}, write the scene.\n",
    "#     \"\"\"\n",
    "\n",
    "#     chapters.append(api_calls(prompt))"
   ]
  },
  {
   "cell_type": "markdown",
   "metadata": {},
   "source": [
    "# 10- Join all the chapters into a txt and export it."
   ]
  },
  {
   "cell_type": "code",
   "execution_count": 48,
   "metadata": {},
   "outputs": [
    {
     "name": "stdout",
     "output_type": "stream",
     "text": [
      "Scene texts written to book.txt\n"
     ]
    }
   ],
   "source": [
    "export_book()"
   ]
  },
  {
   "cell_type": "code",
   "execution_count": 38,
   "metadata": {},
   "outputs": [
    {
     "name": "stdout",
     "output_type": "stream",
     "text": [
      "\n"
     ]
    }
   ],
   "source": [
    "print(chapters[6].scenes[42].final_text)"
   ]
  }
 ],
 "metadata": {
  "kernelspec": {
   "display_name": ".venv",
   "language": "python",
   "name": "python3"
  },
  "language_info": {
   "codemirror_mode": {
    "name": "ipython",
    "version": 3
   },
   "file_extension": ".py",
   "mimetype": "text/x-python",
   "name": "python",
   "nbconvert_exporter": "python",
   "pygments_lexer": "ipython3",
   "version": "3.9.6"
  }
 },
 "nbformat": 4,
 "nbformat_minor": 2
}
