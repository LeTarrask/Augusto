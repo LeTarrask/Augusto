{
 "cells": [
  {
   "cell_type": "code",
   "execution_count": null,
   "metadata": {},
   "outputs": [],
   "source": [
    "from openai import OpenAI\n",
    "from dotenv import load_dotenv\n",
    "import os\n",
    "\n",
    "# Set your OpenAI API key\n",
    "load_dotenv()\n",
    "api_key = os.getenv(\"API_KEY\")\n",
    "\n",
    "# Initialize the OpenAI API client\n",
    "client = OpenAI(api_key=api_key)\n",
    "\n",
    "def generate_response(prompt):\n",
    "    \"\"\"\n",
    "    Generates a response from the OpenAI API based on the given prompt.\n",
    "\n",
    "    Args:\n",
    "        prompt (str): The prompt/query to send to the API.\n",
    "\n",
    "    Returns:\n",
    "        str: The API response.\n",
    "    \"\"\"\n",
    "    try:\n",
    "        response = client.chat.completions.create(\n",
    "            model=\"gpt-3.5-turbo\",\n",
    "            messages=[\n",
    "                {\"role\": \"user\", \"content\": prompt},\n",
    "            ],\n",
    "        )\n",
    "        return response.choices[0].message.content\n",
    "    except Exception as e:\n",
    "        print(f\"Error generating response: {e}\")\n",
    "        return None"
   ]
  },
  {
   "cell_type": "markdown",
   "metadata": {},
   "source": [
    "# 1- User writes a One-Paragraph Summary"
   ]
  },
  {
   "cell_type": "code",
   "execution_count": null,
   "metadata": {},
   "outputs": [],
   "source": [
    "summary = \"\""
   ]
  },
  {
   "cell_type": "markdown",
   "metadata": {},
   "source": [
    "# 2- Character Summaries: Create brief character descriptions."
   ]
  },
  {
   "cell_type": "code",
   "execution_count": null,
   "metadata": {},
   "outputs": [],
   "source": [
    "prompt = \"\"\"\n",
    "Imagine a story with this summary: '{{summary}}'. I need you to create brief character descriptions for this story. Feel free to add more characters or modify the prompts as needed. Please write a dict of characters in the following formats, without any other text:\n",
    "{{\n",
    "    \"characterName\": {{\n",
    "        \"Name\": \"\",\n",
    "        \"Role\": \"\",\n",
    "        \"Age\": \"\",\n",
    "        \"Occupation\": \"\",\n",
    "        \"Appearance\": \"\",\n",
    "        \"Personality Traits\": \"\",\n",
    "        \"Motivation\": \"\",\n",
    "        \"Backstory\": \"\"\n",
    "    }}\n",
    "}}\n",
    "\"\"\"\n",
    "\n",
    "## WE COULD HAVE CHARACTER ROLES HERE: ANTAGONISTS; PROTAGONISTS; ETC.\n",
    "\n",
    "characters = generate_response(prompt)\n",
    "\n",
    "## THIS COULD RUN 2 TIMES; SO WE HAVE EXTRA CHARACTERS."
   ]
  },
  {
   "cell_type": "markdown",
   "metadata": {},
   "source": [
    "# 3- Character Charts: Develop detailed character profiles."
   ]
  },
  {
   "cell_type": "code",
   "execution_count": null,
   "metadata": {},
   "outputs": [],
   "source": [
    "for character in characters:\n",
    "    prompt = \"\"\"\n",
    "        Consider the story '{{summary}}'. I need you to write a detailed character profile for this character '{{character}}' who will appear in it. Also, list a few key scenes where you think they can play a significant role in the story. Please answer with the format:\n",
    "        {\n",
    "            'characterProfile': 'Your Answer',\n",
    "            'keyScenes': 'Your Answer'\n",
    "        }\n",
    "    \"\"\"\n",
    "\n",
    "    response = generate_response(prompt)\n",
    "    character[\"detailedProfile\"] = response[\"characterProfile\"]\n",
    "    character[\"keyScenes\"] = response[\"keyScenes\"]\n"
   ]
  },
  {
   "cell_type": "markdown",
   "metadata": {},
   "source": [
    "# 4- Plot Summary: Outline the major plot points."
   ]
  },
  {
   "cell_type": "code",
   "execution_count": null,
   "metadata": {},
   "outputs": [],
   "source": [
    "prompt = \"\"\"\n",
    "    Brainstorm and write the major plot points for a story that has this summary '{summary}', and involves these characters: {characters}\n",
    "\"\"\"\n",
    "\n",
    "plotPoints = generate_response(prompt)\n",
    "\n",
    "## Maybe it should return the plot points in some format?"
   ]
  },
  {
   "cell_type": "markdown",
   "metadata": {},
   "source": [
    "# 5- Scene List: Create a list of scenes in the novel."
   ]
  },
  {
   "cell_type": "code",
   "execution_count": null,
   "metadata": {},
   "outputs": [],
   "source": [
    "prompt = \"\"\"\n",
    "    Considering this logline '{summary}', these major plot points '{plot_points}', and these characters '{characters}', write a dictionary of scenes for a novel of scenes for a novel, describing what happens in the scene, who participates in it, what are their goals and what is the end result of the scene. Use scene numbers as keys and scene details as values. \n",
    "\"\"\"\n",
    "\n",
    "sceneLogLines = generate_response(prompt)"
   ]
  },
  {
   "cell_type": "markdown",
   "metadata": {},
   "source": [
    "# 6- Expand Each Scene: Write a paragraph for each scene."
   ]
  },
  {
   "cell_type": "code",
   "execution_count": null,
   "metadata": {},
   "outputs": [],
   "source": [
    "scenes = []\n",
    "\n",
    "for logLine in sceneLogLines:\n",
    "    prompt = \"\"\"\n",
    " 'Considering the {scene}', brainstorm the most creative output of description for the scene, with the participation of '{characters}'. You can create other characters and add them, make up situations that you seem plausible AND innovative, and mark any possible plot twist with <**PLOT TWIST**> markers. Please consider the character goals, and the end result. Answer everything using this format: \n",
    "scene = {\n",
    "    'description': \"anything you want the scene description to be\",\n",
    "    'characters': ['a list of character names that participate in it'],\n",
    "    'plot_twist': \"the plot twists you find interesting to add here\"\n",
    "}\n",
    "\"\"\"\n",
    "    scenes.append(generate_response(prompt))"
   ]
  },
  {
   "cell_type": "markdown",
   "metadata": {},
   "source": [
    "# 7- Character Synopses: Write a one-page synopsis for each major character."
   ]
  },
  {
   "cell_type": "code",
   "execution_count": null,
   "metadata": {},
   "outputs": [],
   "source": [
    "for character in characters:\n",
    "    # Filter scenes involving the target character\n",
    "    filtered_scenes = [scene for scene in scenes if character in scene['characters']]    \n",
    "\n",
    "    prompt = \"\"\"\n",
    "        Considering this character {character}, that appears in these scenes {filtered_scenes} of the novel with this summary {summary} and write a long character synopsis of said character role in the novel.\n",
    "    \"\"\"\n",
    "\n",
    "    character[\"synopsis\"] = generate_response(prompt)"
   ]
  },
  {
   "cell_type": "markdown",
   "metadata": {},
   "source": [
    "# 8- Synopsis: Expand the plot summary into a multi-page synopsis."
   ]
  },
  {
   "cell_type": "code",
   "execution_count": null,
   "metadata": {},
   "outputs": [],
   "source": [
    "part_size = len(scenes) // 3\n",
    "\n",
    "part1 = scenes[:part_size]\n",
    "part2 = scenes[part_size:2 * part_size]\n",
    "part3 = scenes[2 * part_size:]\n",
    "\n",
    "parts = [part1, part2, part3]\n",
    "\n",
    "acts = []\n",
    "\n",
    "for part in parts:\n",
    "    prompt = \"\"\"\n",
    "        Considering the summary of these scenes: {part}, write the synopsis of this act of the novel.\n",
    "    \"\"\"\n",
    "\n",
    "    acts.append(generate_response(prompt))\n"
   ]
  },
  {
   "cell_type": "markdown",
   "metadata": {},
   "source": [
    "# 9- Write the Novel: Begin writing your novel based on the detailed synopsis."
   ]
  },
  {
   "cell_type": "code",
   "execution_count": null,
   "metadata": {},
   "outputs": [],
   "source": [
    "chapters = []\n",
    "\n",
    "for scene in scenes:\n",
    "    prompt = \"\"\"\n",
    "        Considering the summary of this scene {scene}, which belongs to this act of the story {act}, and the characters {characters}, write the scene.\n",
    "    \"\"\"\n",
    "\n",
    "    chapters.append(generate_response(prompt))"
   ]
  },
  {
   "cell_type": "markdown",
   "metadata": {},
   "source": [
    "# 10- Join all the chapters into a txt and export it."
   ]
  },
  {
   "cell_type": "code",
   "execution_count": null,
   "metadata": {},
   "outputs": [],
   "source": [
    "def write_chapters_to_txt(chapters, output_file):\n",
    "    \"\"\"\n",
    "    Writes the chapters (list of texts) to a text file.\n",
    "\n",
    "    Args:\n",
    "        chapters (list): List of text chapters.\n",
    "        output_file (str): Path to the output text file.\n",
    "    \"\"\"\n",
    "    try:\n",
    "        with open(output_file, 'w') as file:\n",
    "            for chapter in chapters:\n",
    "                file.write(chapter + '\\n')\n",
    "        print(f\"Chapters successfully written to {output_file}\")\n",
    "    except Exception as e:\n",
    "        print(f\"Error writing chapters to {output_file}: {e}\")\n",
    "\n",
    "output_file = \"book.txt\"\n",
    "write_chapters_to_txt(chapters, output_file)"
   ]
  }
 ],
 "metadata": {
  "kernelspec": {
   "display_name": ".venv",
   "language": "python",
   "name": "python3"
  },
  "language_info": {
   "codemirror_mode": {
    "name": "ipython",
    "version": 3
   },
   "file_extension": ".py",
   "mimetype": "text/x-python",
   "name": "python",
   "nbconvert_exporter": "python",
   "pygments_lexer": "ipython3",
   "version": "3.9.6"
  }
 },
 "nbformat": 4,
 "nbformat_minor": 2
}
