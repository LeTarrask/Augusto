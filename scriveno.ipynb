{
 "cells": [
  {
   "cell_type": "code",
   "execution_count": 16,
   "metadata": {},
   "outputs": [
    {
     "name": "stdout",
     "output_type": "stream",
     "text": [
      "Chunk 1:\n",
      "Lorem ipsum dolor sit amet, consectetur adipiscing elit.\n",
      "\n",
      "Chunk 2:\n",
      "Sed ut perspiciatis unde omnis iste natus error sit voluptatem accusantium doloremque laudantium\n",
      "\n",
      "Chunk 3:\n",
      ",\n",
      "    totam rem aperiam, eaque ipsa quae ab illo inventore veritatis et quasi architecto beatae vitae\n",
      "\n",
      "Chunk 4:\n",
      "dicta sunt explicabo.\n",
      "\n"
     ]
    }
   ],
   "source": [
    "#Splits text in chunks\n",
    "def split_text(text, chunk_size, max_line_length=100):\n",
    "    \"\"\"\n",
    "    Splits a given text into paragraphs or, if lines are too long,\n",
    "    into chunks of at most the specified size.\n",
    "\n",
    "    Args:\n",
    "        text (str): The input text.\n",
    "        chunk_size (int): The desired size of each chunk (in characters).\n",
    "        max_line_length (int): Maximum length of a single line (default: 100).\n",
    "\n",
    "    Returns:\n",
    "        list: A list of text chunks (paragraphs or line chunks).\n",
    "    \"\"\"\n",
    "    if chunk_size <= 0:\n",
    "        raise ValueError(\"Chunk size must be a positive integer.\")\n",
    "\n",
    "    # Initialize an empty list to store the text chunks\n",
    "    text_chunks = []\n",
    "\n",
    "    # Split the text into paragraphs (based on empty lines)\n",
    "    paragraphs = text.split(\"\\n\\n\")\n",
    "\n",
    "    for paragraph in paragraphs:\n",
    "        # Split each paragraph into lines\n",
    "        lines = paragraph.split(\"\\n\")\n",
    "\n",
    "        # Initialize a buffer for the current chunk\n",
    "        current_chunk = \"\"\n",
    "\n",
    "        for line in lines:\n",
    "            # If the line is too long, split it into chunks\n",
    "            if len(line) > max_line_length:\n",
    "                for i in range(0, len(line), max_line_length):\n",
    "                    chunk = line[i:i + max_line_length]\n",
    "                    current_chunk += chunk + \"\\n\"\n",
    "                    if len(current_chunk) >= chunk_size:\n",
    "                        text_chunks.append(current_chunk.strip())\n",
    "                        current_chunk = \"\"\n",
    "            else:\n",
    "                # Add the line to the current chunk\n",
    "                current_chunk += line + \"\\n\"\n",
    "\n",
    "            # Check if the current chunk size exceeds the desired chunk size\n",
    "            if len(current_chunk) >= chunk_size:\n",
    "                text_chunks.append(current_chunk.strip())\n",
    "                current_chunk = \"\"\n",
    "\n",
    "        # Add any remaining content in the current chunk\n",
    "        if current_chunk:\n",
    "            text_chunks.append(current_chunk.strip())\n",
    "\n",
    "    return text_chunks"
   ]
  },
  {
   "cell_type": "code",
   "execution_count": 14,
   "metadata": {},
   "outputs": [],
   "source": [
    "## This method should call GPT, prompt it and return the rewritten text\n",
    "\n",
    "import PromptTemplates.prompts as Prompts\n",
    "from OpenInterface.api_calls import generate_response\n",
    "\n",
    "def rewrite(text):\n",
    "    prompt = Prompts.generateRewrittenText(text)\n",
    "\n",
    "    return generate_response(prompt)\n",
    "\n",
    "def combine_texts(text1):\n",
    "    # Call the rewrite method on text2\n",
    "    rewritten_text = rewrite(text1)\n",
    "\n",
    "    # Join text1 and rewritten_text2\n",
    "    combined_text = f\"{text1}\\n{rewritten_text}\\n-------------\\n\"\n",
    "\n",
    "    return combined_text"
   ]
  },
  {
   "cell_type": "code",
   "execution_count": 15,
   "metadata": {},
   "outputs": [
    {
     "name": "stdout",
     "output_type": "stream",
     "text": [
      "Text content: ['As festas de carnaval\\nO carnaval é uma festa brasileira muito conhecida em todo o mundo. Nela, as pessoas se fantasiam de diversas formas.\\n\\nQuem vai a esse tipo de comemoração é chamado de folião e costuma se divertir muito ao longo de todo o evento.\\n\\nAlém de fantasias, a festa possui sempre algum tipo de música que é tocada em volume muito alto, para que muitas pessoas possam ouvi-la. Na região nordeste do Brasil, as músicas mais tocadas durante o carnaval são aquelas consideradas do estilo “Axé”. Na região sudeste, o “funk” é o principal ritmo presente na comemoração.\\n\\nHá também os desfiles de escolas de samba, que reúnem uma grande quantidade de pessoas para que sejam realizados todos os anos. Artistas famosos e outras celebridades costumam desfilar em carros dessas escolas de samba.\\n\\nO carnaval é um evento que atrai muitos turistas estrangeiros para o país. Diversos trabalhadores também conseguem lucrar com a venda de produtos nessa época do ano.\\n\\nEm cidades do interior do país, há a realização de blocos onde os foliões se divertem de forma diferente dos demais locais. Geralmente os blocos costumam reunir muitas pessoas em torno de um carro chamado trio-elétrico, onde há sempre um ou mais cantores que animam a festa.\\n\\nAté mesmo quem trabalha nos dias de carnaval costuma se divertir bastante durante as comemorações. Muitas pessoas fazem novas amizades nessa época do ano.\\nSuggestions:\\n- Substituir \"As festas de carnaval\" por \"O Carnaval no Brasil\"\\n- Substituir \"Nela, as pessoas se fantasiam de diversas formas.\" por \"Durante o Carnaval, as pessoas se fantasiam de diversas maneiras.\"\\n- Substituir \"Quem vai a esse tipo de comemoração é chamado de folião\" por \"Aqueles que participam dessas festividades são conhecidos como foliões.\"\\n- Substituir \"costuma se divertir muito ao longo de todo o evento.\" por \"geralmente se divertem ao longo de todo o evento.\"\\n- Substituir \"Na região nordeste do Brasil, as músicas mais tocadas durante o carnaval são aquelas consideradas do estilo \\'Axé\\'.\" por \"No Nordeste do Brasil, as músicas mais populares durante o Carnaval são do gênero \\'Axé\\'.\"\\n- Substituir \"Na região sudeste, o \\'funk\\' é o principal ritmo presente na comemoração.\" por \"Já no Sudeste, o \\'funk\\' é o ritmo dominante nas festividades.\"\\n- Substituir \"Há também os desfiles de escolas de samba,\" por \"Também ocorrem os desfiles das escolas de samba,\"\\n- Substituir \"que reúnem uma grande quantidade de pessoas para que sejam realizados todos os anos.\" por \"que atraem um grande número de espectadores todos os anos.\"\\n- Substituir \"Diversos trabalhadores também conseguem lucrar com a venda de produtos nessa época do ano.\" por \"Muitos trabalhadores também conseguem lucrar com a venda de produtos durante esse período.\"\\n- Substituir \"Há a realização de blocos onde os foliões se divertem de forma diferente dos demais locais.\" por \"Em cidades do interior, ocorrem os blocos onde os foliões se divertem de maneira única.\"\\n- Substituir \"Geralmente os blocos costumam reunir muitas pessoas em torno de um carro chamado trio-elétrico,\" por \"Os blocos geralmente atraem multidões ao redor de um trio elétrico,\"\\n\\n```\\nO Carnaval no Brasil\\nDurante o Carnaval, as pessoas se fantasiam de diversas maneiras. Aqueles que participam dessas festividades são conhecidos como foliões e geralmente se divertem ao longo de todo o evento.\\nNo Nordeste do Brasil, as músicas mais populares durante o Carnaval são do gênero \\'Axé\\'. Já no Sudeste, o \\'funk\\' é o ritmo dominante nas festividades.\\nTambém ocorrem os desfiles das escolas de samba, que atraem um grande número de espectadores todos os anos. Artistas famosos e outras celebridades costumam desfilar nos carros dessas escolas.\\nMuitos trabalhadores também conseguem lucrar com a venda de produtos durante esse período.\\nEm cidades do interior, ocorrem os blocos onde os foliões se divertem de maneira única. Os blocos geralmente atraem multidões ao redor de um trio elétrico, onde há sempre um ou mais cantores que animam a festa.\\nMesmo quem trabalha nos dias de Carnaval costuma se divertir bastante durante as comemorações, fazendo novas amizades nessa época do ano.\\n```\\n-------------\\n']\n",
      "Text content saved back to scriveno_input/test1.txt\n",
      "Text content: ['Nomes de pessoas que nascem no Brasil\\nOs brasileiros dão nomes diversos aos seus filhos, mas existem alguns que são usados mais vezes.\\n\\nOs nomes João e Maria são os mais comuns. Pais e mães mais jovens costumam registrar seus filhos com um desses nomes juntamente com outro nome, como por exemplo, João Pedro ou Maria Vitória.\\n\\nAlgumas pessoas preferem registrar seus filhos com nomes que são de avós e tios. Ao final do sobrenome, usa-se a palavra “Filho”, “Neto”, “Sobrinho” ou “Júnior”. Geralmente as crianças são registradas com os mesmos nomes de parentes como forma de homenagem aos mais velhos.\\n\\nNo Brasil, alguns pais e mães gostam de batizar os filhos com nomes iguais aos de pessoas famosas. É comum de se encontrar crianças chamadas de “Michael Jackson”, “Mike Tyson” ou “Elvis Presley”.\\n\\nAlguns cartórios não permitem mais que as crianças sejam registradas com nomes muito estranhos. Isso gera polêmica, mas é uma regra respeitada no país.\\n\\nOs apelidos são bastante utilizados no cotidiano dos brasileiros. Alguns desses apelidos são gerados do próprio nome, como “Zé” para quem se chama “José”. Outros apelidos são uma forma carinhosa de tratamento, como “Aninha” para as garotas chamadas de “Ana”.\\n\\nAs festas de carnaval\\nO carnaval é uma festa brasileira muito conhecida em todo o mundo. Nela, as pessoas se fantasiam de diversas formas.\\n\\nQuem vai a esse tipo de comemoração é chamado de folião e costuma se divertir muito ao longo de todo o evento.\\n\\nAlém de fantasias, a festa possui sempre algum tipo de música que é tocada em volume muito alto, para que muitas pessoas possam ouvi-la. Na região nordeste do Brasil, as músicas mais tocadas durante o carnaval são aquelas consideradas do estilo “Axé”. Na região sudeste, o “funk” é o principal ritmo presente na comemoração.\\n\\nHá também os desfiles de escolas de samba, que reúnem uma grande quantidade de pessoas para que sejam realizados todos os anos. Artistas famosos e outras celebridades costumam desfilar em carros dessas escolas\\nSuggestions:\\n- Rename the title to \"Nomes Populares no Brasil\"\\n- For better structure, separate the text into two paragraphs: one about names in Brazil and another about Carnaval\\n- Consider adding more information about the cultural significance of names in Brazil\\n- Add a conclusion or final thoughts about the topic of names in Brazil\\n- Consider adding more details about the types of costumes worn during Carnaval and the traditions associated with it\\n- Check for any grammar mistakes or awkward phrasings and correct them\\n- Consider expanding on the impact of Carnaval on Brazilian culture\\n\\nOptimized Version:\\n\\nNomes Populares no Brasil\\n\\nOs brasileiros dão nomes diversos aos seus filhos, mas existem alguns que são mais comuns. Os nomes João e Maria são os mais utilizados, sendo comuns também os compostos como João Pedro e Maria Vitória. Além disso, é comum homenagear familiares ao escolher nomes para os filhos, utilizando sobrenomes como \"Filho\", \"Neto\" ou \"Júnior\".\\n\\nOutra prática no Brasil é o uso de nomes de pessoas famosas para batizar os filhos, como \"Michael Jackson\" ou \"Elvis Presley\". Apelidos também são comuns, seja como forma de diminutivo ou de carinho, como \"Zé\" para José e \"Aninha\" para Ana. No entanto, alguns cartórios têm restrições quanto a nomes considerados muito estranhos.\\n\\nSobre o Carnaval, essa festa tradicional brasileira é conhecida em todo o mundo. Durante o Carnaval, os foliões se fantasiam de diversas formas e se divertem ao som de diferentes estilos musicais, como o Axé no Nordeste e o Funk no Sudeste. Os desfiles de escolas de samba também são uma parte importante da celebração, atraindo artistas famosos e celebridades todos os anos.\\n-------------\\n']\n",
      "Text content: ['Nomes de pessoas que nascem no Brasil\\nOs brasileiros dão nomes diversos aos seus filhos, mas existem alguns que são usados mais vezes.\\n\\nOs nomes João e Maria são os mais comuns. Pais e mães mais jovens costumam registrar seus filhos com um desses nomes juntamente com outro nome, como por exemplo, João Pedro ou Maria Vitória.\\n\\nAlgumas pessoas preferem registrar seus filhos com nomes que são de avós e tios. Ao final do sobrenome, usa-se a palavra “Filho”, “Neto”, “Sobrinho” ou “Júnior”. Geralmente as crianças são registradas com os mesmos nomes de parentes como forma de homenagem aos mais velhos.\\n\\nNo Brasil, alguns pais e mães gostam de batizar os filhos com nomes iguais aos de pessoas famosas. É comum de se encontrar crianças chamadas de “Michael Jackson”, “Mike Tyson” ou “Elvis Presley”.\\n\\nAlguns cartórios não permitem mais que as crianças sejam registradas com nomes muito estranhos. Isso gera polêmica, mas é uma regra respeitada no país.\\n\\nOs apelidos são bastante utilizados no cotidiano dos brasileiros. Alguns desses apelidos são gerados do próprio nome, como “Zé” para quem se chama “José”. Outros apelidos são uma forma carinhosa de tratamento, como “Aninha” para as garotas chamadas de “Ana”.\\n\\nAs festas de carnaval\\nO carnaval é uma festa brasileira muito conhecida em todo o mundo. Nela, as pessoas se fantasiam de diversas formas.\\n\\nQuem vai a esse tipo de comemoração é chamado de folião e costuma se divertir muito ao longo de todo o evento.\\n\\nAlém de fantasias, a festa possui sempre algum tipo de música que é tocada em volume muito alto, para que muitas pessoas possam ouvi-la. Na região nordeste do Brasil, as músicas mais tocadas durante o carnaval são aquelas consideradas do estilo “Axé”. Na região sudeste, o “funk” é o principal ritmo presente na comemoração.\\n\\nHá também os desfiles de escolas de samba, que reúnem uma grande quantidade de pessoas para que sejam realizados todos os anos. Artistas famosos e outras celebridades costumam desfilar em carros dessas escolas\\nSuggestions:\\n- Rename the title to \"Nomes Populares no Brasil\"\\n- For better structure, separate the text into two paragraphs: one about names in Brazil and another about Carnaval\\n- Consider adding more information about the cultural significance of names in Brazil\\n- Add a conclusion or final thoughts about the topic of names in Brazil\\n- Consider adding more details about the types of costumes worn during Carnaval and the traditions associated with it\\n- Check for any grammar mistakes or awkward phrasings and correct them\\n- Consider expanding on the impact of Carnaval on Brazilian culture\\n\\nOptimized Version:\\n\\nNomes Populares no Brasil\\n\\nOs brasileiros dão nomes diversos aos seus filhos, mas existem alguns que são mais comuns. Os nomes João e Maria são os mais utilizados, sendo comuns também os compostos como João Pedro e Maria Vitória. Além disso, é comum homenagear familiares ao escolher nomes para os filhos, utilizando sobrenomes como \"Filho\", \"Neto\" ou \"Júnior\".\\n\\nOutra prática no Brasil é o uso de nomes de pessoas famosas para batizar os filhos, como \"Michael Jackson\" ou \"Elvis Presley\". Apelidos também são comuns, seja como forma de diminutivo ou de carinho, como \"Zé\" para José e \"Aninha\" para Ana. No entanto, alguns cartórios têm restrições quanto a nomes considerados muito estranhos.\\n\\nSobre o Carnaval, essa festa tradicional brasileira é conhecida em todo o mundo. Durante o Carnaval, os foliões se fantasiam de diversas formas e se divertem ao som de diferentes estilos musicais, como o Axé no Nordeste e o Funk no Sudeste. Os desfiles de escolas de samba também são uma parte importante da celebração, atraindo artistas famosos e celebridades todos os anos.\\n-------------\\n', ' de samba.\\n\\nO carnaval é um evento que atrai muitos turistas estrangeiros para o país. Diversos trabalhadores também conseguem lucrar com a venda de produtos nessa época do ano.\\n\\nEm cidades do interior do país, há a realização de blocos onde os foliões se divertem de forma diferente dos demais locais. Geralmente os blocos costumam reunir muitas pessoas em torno de um carro chamado trio-elétrico, onde há sempre um ou mais cantores que animam a festa.\\n\\nAté mesmo quem trabalha nos dias de carnaval costuma se divertir bastante durante as comemorações. Muitas pessoas fazem novas amizades nessa época do ano.\\n- O carnaval é um evento muito popular que atrai muitos turistas estrangeiros para o Brasil. Além disso, diversos trabalhadores conseguem lucrar com a venda de produtos durante essa época do ano.\\n\\n- Em cidades do interior, ocorrem blocos onde os foliões se divertem de maneira única. Esses blocos geralmente reúnem muitas pessoas ao redor de um trio elétrico, com cantores animando a festa.\\n\\n- Mesmo aqueles que trabalham durante o carnaval costumam se divertir bastante. Muitas amizades são feitas nesse período festivo.\\n\\n```Brazilian Portuguese Edit Suggestions:\\n- O carnaval é um evento muito popular que atrai muitos turistas estrangeiros para o Brasil. Além disso, diversos trabalhadores conseguem lucrar com a venda de produtos durante essa época do ano.\\n\\n- Em cidades do interior, ocorrem blocos onde os foliões se divertem de maneira única. Esses blocos geralmente reúnem muitas pessoas ao redor de um trio elétrico, com cantores animando a festa.\\n\\n- Mesmo aqueles que trabalham durante o carnaval costumam se divertir bastante. Muitas amizades são feitas nesse período festivo.```\\n-------------\\n']\n",
      "Text content saved back to scriveno_input/test.txt\n"
     ]
    }
   ],
   "source": [
    "## Loads txt files from scriveno_input\n",
    "\n",
    "import os\n",
    "\n",
    "def process_text_from_folder(folder_path):\n",
    "    # List all files in the folder\n",
    "    for filename in os.listdir(folder_path):\n",
    "        # Check if the file is a text file (ends with .txt)\n",
    "        if filename.lower().endswith(\".txt\"):\n",
    "            file_path = os.path.join(folder_path, filename)\n",
    "            try:\n",
    "                # Read the content of the text file\n",
    "                with open(file_path, \"r\") as file:\n",
    "                    # Initialize an empty list to store the text content\n",
    "                    text_content = []\n",
    "                    text = file.read()\n",
    "                    chunks = split_text(text, 2000)\n",
    "                    for chunk in chunks:\n",
    "                        rewritten = combine_texts(chunk)\n",
    "                        text_content.append(rewritten)\n",
    "                        print(f\"Text content: {text_content}\")\n",
    "                    \n",
    "                    # Write the content back to the same file\n",
    "                    with open(file_path, \"w\") as file:\n",
    "                        file.write(\"\\n\".join(text_content))\n",
    "\n",
    "                    # Print a success message\n",
    "                    print(f\"Text content saved back to {file_path}\")\n",
    "                    \n",
    "            except Exception as e:\n",
    "                print(f\"Error reading file {filename}: {str(e)}\")\n",
    "\n",
    "# Specify the folder path\n",
    "folder_path = \"scriveno_input/Draft\"\n",
    "\n",
    "# Call the function to process text from all txt files in the folder\n",
    "process_text_from_folder(folder_path)\n"
   ]
  }
 ],
 "metadata": {
  "kernelspec": {
   "display_name": ".venv",
   "language": "python",
   "name": "python3"
  },
  "language_info": {
   "codemirror_mode": {
    "name": "ipython",
    "version": 3
   },
   "file_extension": ".py",
   "mimetype": "text/x-python",
   "name": "python",
   "nbconvert_exporter": "python",
   "pygments_lexer": "ipython3",
   "version": "3.9.6"
  }
 },
 "nbformat": 4,
 "nbformat_minor": 2
}
